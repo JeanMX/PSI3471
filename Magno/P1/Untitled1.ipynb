{
 "cells": [
  {
   "cell_type": "code",
   "execution_count": 1,
   "id": "74450452",
   "metadata": {},
   "outputs": [],
   "source": [
    "import pandas as pd\n",
    "import numpy as np\n",
    "import matplotlib.pyplot as plt\n",
    "import imblearn\n",
    "from imblearn.over_sampling import SMOTE\n",
    "import math\n",
    "import tensorflow as tf\n",
    "from tensorflow import keras\n",
    "from tensorflow.keras import Sequential\n",
    "from tensorflow.keras.layers import Dense, Dropout\n",
    "from sklearn.model_selection import train_test_split\n",
    "from sklearn.metrics import classification_report, confusion_matrix"
   ]
  },
  {
   "cell_type": "code",
   "execution_count": 3,
   "id": "c92b4a37",
   "metadata": {},
   "outputs": [],
   "source": [
    "ecg_treino = pd.read_pickle(\"ecg_treino.pickle\")\n",
    "rotulos_treino = pd.read_csv(\"rotulos_treino.csv\")\n",
    "n_rotulos_treino = pd.read_csv(\"n_rotulos_treino.csv\")  \n",
    "\n",
    "ecg_teste = pd.read_pickle(\"ecg_teste.pickle\")\n",
    "rotulos_teste = pd.read_csv(\"rotulos_teste.csv\")\n",
    "n_rotulos_teste = pd.read_csv(\"n_rotulos_teste.csv\") "
   ]
  },
  {
   "cell_type": "code",
   "execution_count": 4,
   "id": "1b1e9254",
   "metadata": {},
   "outputs": [],
   "source": [
    "treino = ecg_treino.to_numpy()\n",
    "r_treino = rotulos_treino.to_numpy()\n",
    "n_r_treino = n_rotulos_treino.to_numpy()\n",
    "\n",
    "teste = ecg_teste.to_numpy()\n",
    "r_teste = rotulos_teste.to_numpy()\n",
    "n_r_teste = n_rotulos_teste.to_numpy()"
   ]
  },
  {
   "cell_type": "code",
   "execution_count": 5,
   "id": "4f938004",
   "metadata": {},
   "outputs": [],
   "source": [
    "treino = np.delete(treino, 0, 1)\n",
    "r_treino = np.delete(r_treino, 0, 1)\n",
    "n_r_treino = np.delete(n_r_treino, 0, 1)\n",
    "\n",
    "teste = np.delete(teste, 0, 1)\n",
    "r_teste = np.delete(r_teste, 0, 1)\n",
    "n_r_teste = np.delete(n_r_teste, 0, 1)"
   ]
  },
  {
   "cell_type": "code",
   "execution_count": 6,
   "id": "bf625ff4",
   "metadata": {},
   "outputs": [],
   "source": [
    "def n_rotulos_media(n_rotulos):\n",
    "    intervalo_sum = 0\n",
    "    for i in range(0, len(n_rotulos)):\n",
    "        n_r_paciente = n_rotulos[i]\n",
    "        n_r_adj = n_r_paciente[~pd.isna(n_r_paciente)]\n",
    "        for j in range(0, len(n_r_adj)-1):\n",
    "            intervalo_sum = intervalo_sum + abs(n_r_adj[j] - n_r_adj[j+1])\n",
    "    n_r_media = round(intervalo_sum/(len(n_rotulos)*(len(n_r_adj)-1)))\n",
    "    return n_r_media"
   ]
  },
  {
   "cell_type": "code",
   "execution_count": 12,
   "id": "cb96492c",
   "metadata": {},
   "outputs": [],
   "source": [
    "def fourier(ecg,n_rotulos,n_r_media):\n",
    "    num_batimentos = len(n_rotulos[:, ~pd.isna(n_rotulos).any(axis=0)][0])\n",
    "    print(num_batimentos)\n",
    "    matriz = np.zeros((num_batimentos*len(n_rotulos),n_r_media-1))\n",
    "    for i in range(len(n_rotulos)):\n",
    "        for j in range(0,num_batimentos-1):\n",
    "            fourier = np.fft.fft(ecg[i, int(n_rotulos[i,j]) : int(n_rotulos[i,j+1])], n = n_r_media-1)\n",
    "            matriz[i*num_batimentos+j] = fourier\n",
    "    df = pd.DataFrame(matriz)\n",
    "    return df, num_batimentos"
   ]
  },
  {
   "cell_type": "code",
   "execution_count": 11,
   "id": "9f51b1ea",
   "metadata": {},
   "outputs": [
    {
     "name": "stdout",
     "output_type": "stream",
     "text": [
      "1619\n"
     ]
    },
    {
     "name": "stderr",
     "output_type": "stream",
     "text": [
      "C:\\Users\\jean_\\AppData\\Local\\Temp\\ipykernel_5980\\2283306410.py:8: ComplexWarning: Casting complex values to real discards the imaginary part\n",
      "  matriz[i*num_batimentos+j] = fourier\n"
     ]
    },
    {
     "name": "stdout",
     "output_type": "stream",
     "text": [
      "           0         1          2          3          4          5    \\\n",
      "0      -84.505  1.368430   4.925815  12.255999   1.285518   3.952521   \n",
      "1      -74.585  1.772179   6.271280  11.632441   1.491345   4.775133   \n",
      "2      -86.055  3.114716   7.818601  13.948519   3.115563   6.436360   \n",
      "3     -105.370  1.868015  10.261747  14.002971   4.475583   9.928012   \n",
      "4      -93.695 -0.752889   8.633478  11.932169   4.405320   9.423333   \n",
      "...        ...       ...        ...        ...        ...        ...   \n",
      "35613  -30.025 -0.758627 -10.506144  11.224900  14.427000  10.032473   \n",
      "35614  -45.905  4.006934  -7.161582  14.613097  18.393838   7.019992   \n",
      "35615  -60.715  4.167397  -7.733947  14.711338  17.340752   8.631085   \n",
      "35616  -34.930  1.274451  -8.983400  12.521675  18.386066   7.018106   \n",
      "35617    0.000  0.000000   0.000000   0.000000   0.000000   0.000000   \n",
      "\n",
      "             6         7          8          9    ...        277        278  \\\n",
      "0       4.661344  2.556563   3.984359   3.920407  ...   3.625484   3.920407   \n",
      "1       4.584179  3.328816   4.418355   4.353509  ...   4.039947   4.353509   \n",
      "2       5.973345  3.860172   4.642704   4.038085  ...   4.086602   4.038085   \n",
      "3       7.390844  6.085773   6.281267   4.941592  ...   5.062564   4.941592   \n",
      "4       6.404501  6.637004   6.031678   5.420731  ...   5.404562   5.420731   \n",
      "...          ...       ...        ...        ...  ...        ...        ...   \n",
      "35613  11.983423  9.582718  11.829057  14.161994  ...  13.137602  14.161994   \n",
      "35614  10.222788  8.740253  10.315347  11.652297  ...   8.900606  11.652297   \n",
      "35615  10.132342  8.476134  10.530374  12.064443  ...   9.009424  12.064443   \n",
      "35616   7.968909  8.115180   9.897137  10.487860  ...   7.966669  10.487860   \n",
      "35617   0.000000  0.000000   0.000000   0.000000  ...   0.000000   0.000000   \n",
      "\n",
      "             279       280        281        282        283        284  \\\n",
      "0       3.984359  2.556563   4.661344   3.952521   1.285518  12.255999   \n",
      "1       4.418355  3.328816   4.584179   4.775133   1.491345  11.632441   \n",
      "2       4.642704  3.860172   5.973345   6.436360   3.115563  13.948519   \n",
      "3       6.281267  6.085773   7.390844   9.928012   4.475583  14.002971   \n",
      "4       6.031678  6.637004   6.404501   9.423333   4.405320  11.932169   \n",
      "...          ...       ...        ...        ...        ...        ...   \n",
      "35613  11.829057  9.582718  11.983423  10.032473  14.427000  11.224900   \n",
      "35614  10.315347  8.740253  10.222788   7.019992  18.393838  14.613097   \n",
      "35615  10.530374  8.476134  10.132342   8.631085  17.340752  14.711338   \n",
      "35616   9.897137  8.115180   7.968909   7.018106  18.386066  12.521675   \n",
      "35617   0.000000  0.000000   0.000000   0.000000   0.000000   0.000000   \n",
      "\n",
      "             285       286  \n",
      "0       4.925815  1.368430  \n",
      "1       6.271280  1.772179  \n",
      "2       7.818601  3.114716  \n",
      "3      10.261747  1.868015  \n",
      "4       8.633478 -0.752889  \n",
      "...          ...       ...  \n",
      "35613 -10.506144 -0.758627  \n",
      "35614  -7.161582  4.006934  \n",
      "35615  -7.733947  4.167397  \n",
      "35616  -8.983400  1.274451  \n",
      "35617   0.000000  0.000000  \n",
      "\n",
      "[35618 rows x 287 columns]\n"
     ]
    }
   ],
   "source": [
    "n_r_media = n_rotulos_media(n_r_treino)\n",
    "df, num_batimentos = fourier(treino,n_r_treino,n_r_media)\n",
    "print(df)"
   ]
  },
  {
   "cell_type": "code",
   "execution_count": null,
   "id": "9cac3020",
   "metadata": {},
   "outputs": [],
   "source": []
  }
 ],
 "metadata": {
  "kernelspec": {
   "display_name": "Python 3 (ipykernel)",
   "language": "python",
   "name": "python3"
  },
  "language_info": {
   "codemirror_mode": {
    "name": "ipython",
    "version": 3
   },
   "file_extension": ".py",
   "mimetype": "text/x-python",
   "name": "python",
   "nbconvert_exporter": "python",
   "pygments_lexer": "ipython3",
   "version": "3.9.12"
  }
 },
 "nbformat": 4,
 "nbformat_minor": 5
}
