{
 "cells": [
  {
   "cell_type": "markdown",
   "id": "6aa3fc16",
   "metadata": {},
   "source": [
    "# P1- Identificação de Arritmia cardíaca\n",
    "Jean Carlos Mello Xavier Faria - 11259628"
   ]
  },
  {
   "cell_type": "markdown",
   "id": "889b3507",
   "metadata": {},
   "source": [
    "Primeiramente, vamos importar as bibliotecas principais para ler os arquivos, visualizá-los e trabalhar com eles."
   ]
  },
  {
   "cell_type": "code",
   "execution_count": 1,
   "id": "963fef73",
   "metadata": {},
   "outputs": [],
   "source": [
    "import pandas as pd\n",
    "import matplotlib.pyplot as plt\n",
    "import numpy as np"
   ]
  },
  {
   "cell_type": "markdown",
   "id": "7e3d7cbe",
   "metadata": {},
   "source": [
    "Vamos ler os arquivos de treino fornecidos."
   ]
  },
  {
   "cell_type": "code",
   "execution_count": 2,
   "id": "7ee5ef60",
   "metadata": {},
   "outputs": [],
   "source": [
    "ecg_treino = pd.read_pickle(\"ecg_treino.pickle\")\n",
    "rotulos_treino = pd.read_csv(\"rotulos_treino.csv\")\n",
    "n_rotulos_treino = pd.read_csv(\"n_rotulos_treino.csv\") "
   ]
  },
  {
   "cell_type": "markdown",
   "id": "d577c0d2",
   "metadata": {},
   "source": [
    "Vamos visualizar os dados, começando com o ecg_treino."
   ]
  },
  {
   "cell_type": "code",
   "execution_count": 3,
   "id": "b5a4ede4",
   "metadata": {},
   "outputs": [
    {
     "data": {
      "text/html": [
       "<div>\n",
       "<style scoped>\n",
       "    .dataframe tbody tr th:only-of-type {\n",
       "        vertical-align: middle;\n",
       "    }\n",
       "\n",
       "    .dataframe tbody tr th {\n",
       "        vertical-align: top;\n",
       "    }\n",
       "\n",
       "    .dataframe thead th {\n",
       "        text-align: right;\n",
       "    }\n",
       "</style>\n",
       "<table border=\"1\" class=\"dataframe\">\n",
       "  <thead>\n",
       "    <tr style=\"text-align: right;\">\n",
       "      <th></th>\n",
       "      <th>Unnamed: 0</th>\n",
       "      <th>0</th>\n",
       "      <th>1</th>\n",
       "      <th>2</th>\n",
       "      <th>3</th>\n",
       "      <th>4</th>\n",
       "      <th>5</th>\n",
       "      <th>6</th>\n",
       "      <th>7</th>\n",
       "      <th>8</th>\n",
       "      <th>...</th>\n",
       "      <th>649990</th>\n",
       "      <th>649991</th>\n",
       "      <th>649992</th>\n",
       "      <th>649993</th>\n",
       "      <th>649994</th>\n",
       "      <th>649995</th>\n",
       "      <th>649996</th>\n",
       "      <th>649997</th>\n",
       "      <th>649998</th>\n",
       "      <th>649999</th>\n",
       "    </tr>\n",
       "  </thead>\n",
       "  <tbody>\n",
       "    <tr>\n",
       "      <th>0</th>\n",
       "      <td>Paciente101</td>\n",
       "      <td>-0.345</td>\n",
       "      <td>-0.345</td>\n",
       "      <td>-0.345</td>\n",
       "      <td>-0.345</td>\n",
       "      <td>-0.345</td>\n",
       "      <td>-0.345</td>\n",
       "      <td>-0.345</td>\n",
       "      <td>-0.345</td>\n",
       "      <td>-0.330</td>\n",
       "      <td>...</td>\n",
       "      <td>-0.300</td>\n",
       "      <td>-0.295</td>\n",
       "      <td>-0.285</td>\n",
       "      <td>-0.280</td>\n",
       "      <td>-0.285</td>\n",
       "      <td>-0.290</td>\n",
       "      <td>-0.295</td>\n",
       "      <td>-0.295</td>\n",
       "      <td>-0.290</td>\n",
       "      <td>0.00</td>\n",
       "    </tr>\n",
       "    <tr>\n",
       "      <th>1</th>\n",
       "      <td>Paciente106</td>\n",
       "      <td>-0.310</td>\n",
       "      <td>-0.310</td>\n",
       "      <td>-0.310</td>\n",
       "      <td>-0.310</td>\n",
       "      <td>-0.310</td>\n",
       "      <td>-0.310</td>\n",
       "      <td>-0.310</td>\n",
       "      <td>-0.310</td>\n",
       "      <td>-0.290</td>\n",
       "      <td>...</td>\n",
       "      <td>1.970</td>\n",
       "      <td>1.900</td>\n",
       "      <td>1.785</td>\n",
       "      <td>1.690</td>\n",
       "      <td>1.550</td>\n",
       "      <td>1.355</td>\n",
       "      <td>1.040</td>\n",
       "      <td>0.635</td>\n",
       "      <td>0.265</td>\n",
       "      <td>0.00</td>\n",
       "    </tr>\n",
       "    <tr>\n",
       "      <th>2</th>\n",
       "      <td>Paciente108</td>\n",
       "      <td>-0.125</td>\n",
       "      <td>-0.125</td>\n",
       "      <td>-0.125</td>\n",
       "      <td>-0.125</td>\n",
       "      <td>-0.125</td>\n",
       "      <td>-0.125</td>\n",
       "      <td>-0.125</td>\n",
       "      <td>-0.125</td>\n",
       "      <td>-0.135</td>\n",
       "      <td>...</td>\n",
       "      <td>-0.135</td>\n",
       "      <td>-0.110</td>\n",
       "      <td>-0.095</td>\n",
       "      <td>-0.110</td>\n",
       "      <td>-0.155</td>\n",
       "      <td>-0.165</td>\n",
       "      <td>-0.095</td>\n",
       "      <td>-0.010</td>\n",
       "      <td>0.040</td>\n",
       "      <td>0.00</td>\n",
       "    </tr>\n",
       "    <tr>\n",
       "      <th>3</th>\n",
       "      <td>Paciente109</td>\n",
       "      <td>0.175</td>\n",
       "      <td>0.175</td>\n",
       "      <td>0.175</td>\n",
       "      <td>0.175</td>\n",
       "      <td>0.175</td>\n",
       "      <td>0.175</td>\n",
       "      <td>0.175</td>\n",
       "      <td>0.175</td>\n",
       "      <td>0.175</td>\n",
       "      <td>...</td>\n",
       "      <td>-0.885</td>\n",
       "      <td>-0.885</td>\n",
       "      <td>-0.885</td>\n",
       "      <td>-0.875</td>\n",
       "      <td>-0.900</td>\n",
       "      <td>-0.900</td>\n",
       "      <td>-0.910</td>\n",
       "      <td>-0.920</td>\n",
       "      <td>-0.910</td>\n",
       "      <td>-1.28</td>\n",
       "    </tr>\n",
       "    <tr>\n",
       "      <th>4</th>\n",
       "      <td>Paciente112</td>\n",
       "      <td>-0.750</td>\n",
       "      <td>-0.750</td>\n",
       "      <td>-0.750</td>\n",
       "      <td>-0.750</td>\n",
       "      <td>-0.750</td>\n",
       "      <td>-0.750</td>\n",
       "      <td>-0.750</td>\n",
       "      <td>-0.760</td>\n",
       "      <td>-0.770</td>\n",
       "      <td>...</td>\n",
       "      <td>-0.940</td>\n",
       "      <td>-0.925</td>\n",
       "      <td>-0.915</td>\n",
       "      <td>-0.890</td>\n",
       "      <td>-0.885</td>\n",
       "      <td>-0.845</td>\n",
       "      <td>-0.820</td>\n",
       "      <td>-0.825</td>\n",
       "      <td>-0.810</td>\n",
       "      <td>-1.28</td>\n",
       "    </tr>\n",
       "  </tbody>\n",
       "</table>\n",
       "<p>5 rows × 650001 columns</p>\n",
       "</div>"
      ],
      "text/plain": [
       "    Unnamed: 0      0      1      2      3      4      5      6      7      8  \\\n",
       "0  Paciente101 -0.345 -0.345 -0.345 -0.345 -0.345 -0.345 -0.345 -0.345 -0.330   \n",
       "1  Paciente106 -0.310 -0.310 -0.310 -0.310 -0.310 -0.310 -0.310 -0.310 -0.290   \n",
       "2  Paciente108 -0.125 -0.125 -0.125 -0.125 -0.125 -0.125 -0.125 -0.125 -0.135   \n",
       "3  Paciente109  0.175  0.175  0.175  0.175  0.175  0.175  0.175  0.175  0.175   \n",
       "4  Paciente112 -0.750 -0.750 -0.750 -0.750 -0.750 -0.750 -0.750 -0.760 -0.770   \n",
       "\n",
       "   ...  649990  649991  649992  649993  649994  649995  649996  649997  \\\n",
       "0  ...  -0.300  -0.295  -0.285  -0.280  -0.285  -0.290  -0.295  -0.295   \n",
       "1  ...   1.970   1.900   1.785   1.690   1.550   1.355   1.040   0.635   \n",
       "2  ...  -0.135  -0.110  -0.095  -0.110  -0.155  -0.165  -0.095  -0.010   \n",
       "3  ...  -0.885  -0.885  -0.885  -0.875  -0.900  -0.900  -0.910  -0.920   \n",
       "4  ...  -0.940  -0.925  -0.915  -0.890  -0.885  -0.845  -0.820  -0.825   \n",
       "\n",
       "   649998  649999  \n",
       "0  -0.290    0.00  \n",
       "1   0.265    0.00  \n",
       "2   0.040    0.00  \n",
       "3  -0.910   -1.28  \n",
       "4  -0.810   -1.28  \n",
       "\n",
       "[5 rows x 650001 columns]"
      ]
     },
     "execution_count": 3,
     "metadata": {},
     "output_type": "execute_result"
    }
   ],
   "source": [
    "ecg_treino.head()"
   ]
  },
  {
   "cell_type": "code",
   "execution_count": 4,
   "id": "5e01f52a",
   "metadata": {},
   "outputs": [
    {
     "data": {
      "text/plain": [
       "(22, 650001)"
      ]
     },
     "execution_count": 4,
     "metadata": {},
     "output_type": "execute_result"
    }
   ],
   "source": [
    "ecg_treino.shape"
   ]
  },
  {
   "cell_type": "markdown",
   "id": "c0021334",
   "metadata": {},
   "source": [
    "Vemos que temos 22 pacientes, e cada um contém 650000 valores que correspondem a um valor do eletrocardiograma. Podemos plotar os dois primeiros batimentos do Paciente101, utilizando a biblioteca matplotlib."
   ]
  },
  {
   "cell_type": "code",
   "execution_count": 5,
   "id": "b1cbda34",
   "metadata": {},
   "outputs": [
    {
     "data": {
      "text/plain": [
       "[<matplotlib.lines.Line2D at 0x249a51f5bb0>]"
      ]
     },
     "execution_count": 5,
     "metadata": {},
     "output_type": "execute_result"
    },
    {
     "data": {
      "image/png": "[encoded data removed]",
      "text/plain": [
       "<Figure size 432x288 with 1 Axes>"
      ]
     },
     "metadata": {
      "needs_background": "light"
     },
     "output_type": "display_data"
    }
   ],
   "source": [
    "plt.plot(ecg_treino.iloc[0].drop('Unnamed: 0').to_numpy()[:600])"
   ]
  },
  {
   "cell_type": "markdown",
   "id": "42cfd61f",
   "metadata": {},
   "source": [
    "Em n_rotulos_treino temos a posição de cada pico R do eletrocardiograma. "
   ]
  },
  {
   "cell_type": "code",
   "execution_count": 6,
   "id": "bc4e5df4",
   "metadata": {},
   "outputs": [
    {
     "data": {
      "text/html": [
       "<div>\n",
       "<style scoped>\n",
       "    .dataframe tbody tr th:only-of-type {\n",
       "        vertical-align: middle;\n",
       "    }\n",
       "\n",
       "    .dataframe tbody tr th {\n",
       "        vertical-align: top;\n",
       "    }\n",
       "\n",
       "    .dataframe thead th {\n",
       "        text-align: right;\n",
       "    }\n",
       "</style>\n",
       "<table border=\"1\" class=\"dataframe\">\n",
       "  <thead>\n",
       "    <tr style=\"text-align: right;\">\n",
       "      <th></th>\n",
       "      <th>Unnamed: 0</th>\n",
       "      <th>0</th>\n",
       "      <th>1</th>\n",
       "      <th>2</th>\n",
       "      <th>3</th>\n",
       "      <th>4</th>\n",
       "      <th>5</th>\n",
       "      <th>6</th>\n",
       "      <th>7</th>\n",
       "      <th>8</th>\n",
       "      <th>...</th>\n",
       "      <th>3353</th>\n",
       "      <th>3354</th>\n",
       "      <th>3355</th>\n",
       "      <th>3356</th>\n",
       "      <th>3357</th>\n",
       "      <th>3358</th>\n",
       "      <th>3359</th>\n",
       "      <th>3360</th>\n",
       "      <th>3361</th>\n",
       "      <th>3362</th>\n",
       "    </tr>\n",
       "  </thead>\n",
       "  <tbody>\n",
       "    <tr>\n",
       "      <th>0</th>\n",
       "      <td>Paciente101</td>\n",
       "      <td>83</td>\n",
       "      <td>396</td>\n",
       "      <td>711</td>\n",
       "      <td>1032</td>\n",
       "      <td>1368</td>\n",
       "      <td>1712</td>\n",
       "      <td>2036</td>\n",
       "      <td>2349</td>\n",
       "      <td>2662</td>\n",
       "      <td>...</td>\n",
       "      <td>NaN</td>\n",
       "      <td>NaN</td>\n",
       "      <td>NaN</td>\n",
       "      <td>NaN</td>\n",
       "      <td>NaN</td>\n",
       "      <td>NaN</td>\n",
       "      <td>NaN</td>\n",
       "      <td>NaN</td>\n",
       "      <td>NaN</td>\n",
       "      <td>NaN</td>\n",
       "    </tr>\n",
       "    <tr>\n",
       "      <th>1</th>\n",
       "      <td>Paciente106</td>\n",
       "      <td>351</td>\n",
       "      <td>724</td>\n",
       "      <td>1086</td>\n",
       "      <td>1448</td>\n",
       "      <td>1829</td>\n",
       "      <td>2197</td>\n",
       "      <td>2571</td>\n",
       "      <td>2918</td>\n",
       "      <td>3234</td>\n",
       "      <td>...</td>\n",
       "      <td>NaN</td>\n",
       "      <td>NaN</td>\n",
       "      <td>NaN</td>\n",
       "      <td>NaN</td>\n",
       "      <td>NaN</td>\n",
       "      <td>NaN</td>\n",
       "      <td>NaN</td>\n",
       "      <td>NaN</td>\n",
       "      <td>NaN</td>\n",
       "      <td>NaN</td>\n",
       "    </tr>\n",
       "    <tr>\n",
       "      <th>2</th>\n",
       "      <td>Paciente108</td>\n",
       "      <td>88</td>\n",
       "      <td>442</td>\n",
       "      <td>789</td>\n",
       "      <td>1155</td>\n",
       "      <td>1493</td>\n",
       "      <td>1821</td>\n",
       "      <td>2157</td>\n",
       "      <td>2517</td>\n",
       "      <td>2889</td>\n",
       "      <td>...</td>\n",
       "      <td>NaN</td>\n",
       "      <td>NaN</td>\n",
       "      <td>NaN</td>\n",
       "      <td>NaN</td>\n",
       "      <td>NaN</td>\n",
       "      <td>NaN</td>\n",
       "      <td>NaN</td>\n",
       "      <td>NaN</td>\n",
       "      <td>NaN</td>\n",
       "      <td>NaN</td>\n",
       "    </tr>\n",
       "    <tr>\n",
       "      <th>3</th>\n",
       "      <td>Paciente109</td>\n",
       "      <td>111</td>\n",
       "      <td>343</td>\n",
       "      <td>571</td>\n",
       "      <td>807</td>\n",
       "      <td>1048</td>\n",
       "      <td>1287</td>\n",
       "      <td>1523</td>\n",
       "      <td>1765</td>\n",
       "      <td>1994</td>\n",
       "      <td>...</td>\n",
       "      <td>NaN</td>\n",
       "      <td>NaN</td>\n",
       "      <td>NaN</td>\n",
       "      <td>NaN</td>\n",
       "      <td>NaN</td>\n",
       "      <td>NaN</td>\n",
       "      <td>NaN</td>\n",
       "      <td>NaN</td>\n",
       "      <td>NaN</td>\n",
       "      <td>NaN</td>\n",
       "    </tr>\n",
       "    <tr>\n",
       "      <th>4</th>\n",
       "      <td>Paciente112</td>\n",
       "      <td>124</td>\n",
       "      <td>382</td>\n",
       "      <td>644</td>\n",
       "      <td>892</td>\n",
       "      <td>1149</td>\n",
       "      <td>1393</td>\n",
       "      <td>1648</td>\n",
       "      <td>1891</td>\n",
       "      <td>2147</td>\n",
       "      <td>...</td>\n",
       "      <td>NaN</td>\n",
       "      <td>NaN</td>\n",
       "      <td>NaN</td>\n",
       "      <td>NaN</td>\n",
       "      <td>NaN</td>\n",
       "      <td>NaN</td>\n",
       "      <td>NaN</td>\n",
       "      <td>NaN</td>\n",
       "      <td>NaN</td>\n",
       "      <td>NaN</td>\n",
       "    </tr>\n",
       "  </tbody>\n",
       "</table>\n",
       "<p>5 rows × 3364 columns</p>\n",
       "</div>"
      ],
      "text/plain": [
       "    Unnamed: 0    0    1     2     3     4     5     6     7     8  ...  3353  \\\n",
       "0  Paciente101   83  396   711  1032  1368  1712  2036  2349  2662  ...   NaN   \n",
       "1  Paciente106  351  724  1086  1448  1829  2197  2571  2918  3234  ...   NaN   \n",
       "2  Paciente108   88  442   789  1155  1493  1821  2157  2517  2889  ...   NaN   \n",
       "3  Paciente109  111  343   571   807  1048  1287  1523  1765  1994  ...   NaN   \n",
       "4  Paciente112  124  382   644   892  1149  1393  1648  1891  2147  ...   NaN   \n",
       "\n",
       "   3354  3355  3356  3357  3358  3359  3360  3361  3362  \n",
       "0   NaN   NaN   NaN   NaN   NaN   NaN   NaN   NaN   NaN  \n",
       "1   NaN   NaN   NaN   NaN   NaN   NaN   NaN   NaN   NaN  \n",
       "2   NaN   NaN   NaN   NaN   NaN   NaN   NaN   NaN   NaN  \n",
       "3   NaN   NaN   NaN   NaN   NaN   NaN   NaN   NaN   NaN  \n",
       "4   NaN   NaN   NaN   NaN   NaN   NaN   NaN   NaN   NaN  \n",
       "\n",
       "[5 rows x 3364 columns]"
      ]
     },
     "execution_count": 6,
     "metadata": {},
     "output_type": "execute_result"
    }
   ],
   "source": [
    "n_rotulos_treino.head()"
   ]
  },
  {
   "cell_type": "code",
   "execution_count": 7,
   "id": "88fad1e9",
   "metadata": {},
   "outputs": [
    {
     "data": {
      "text/plain": [
       "(22, 3364)"
      ]
     },
     "execution_count": 7,
     "metadata": {},
     "output_type": "execute_result"
    }
   ],
   "source": [
    "n_rotulos_treino.shape"
   ]
  },
  {
   "cell_type": "markdown",
   "id": "38bea882",
   "metadata": {},
   "source": [
    "Utilizando o Paciente101, podemos plotar junto ao seus dois primeiros batimentos a posição de cada ponto R."
   ]
  },
  {
   "cell_type": "code",
   "execution_count": 8,
   "id": "63dac142",
   "metadata": {},
   "outputs": [
    {
     "data": {
      "text/plain": [
       "[(-0.5, 1.2)]"
      ]
     },
     "execution_count": 8,
     "metadata": {},
     "output_type": "execute_result"
    },
    {
     "data": {
      "image/png": "[encoded data removed]",
      "text/plain": [
       "<Figure size 432x288 with 1 Axes>"
      ]
     },
     "metadata": {
      "needs_background": "light"
     },
     "output_type": "display_data"
    }
   ],
   "source": [
    "plt.figure()\n",
    "ax = plt.subplot(1,1,1)\n",
    "plt.plot(ecg_treino.iloc[0].drop('Unnamed: 0').to_numpy()[:600])\n",
    "plt.plot([83, 83], [-0.8, 1.5], 'k--')\n",
    "plt.plot([396, 396], [-0.8, 1.5], 'k--')\n",
    "ax.set(ylim=(-0.5, 1.2))"
   ]
  },
  {
   "cell_type": "markdown",
   "id": "f834781e",
   "metadata": {},
   "source": [
    "Por fim, vamos verificar o último arquivo fornecido para o treinamento, rotulos_treino. Ele é a saída que desejamos obter com o modelo."
   ]
  },
  {
   "cell_type": "code",
   "execution_count": 9,
   "id": "a7655a2c",
   "metadata": {},
   "outputs": [
    {
     "data": {
      "text/html": [
       "<div>\n",
       "<style scoped>\n",
       "    .dataframe tbody tr th:only-of-type {\n",
       "        vertical-align: middle;\n",
       "    }\n",
       "\n",
       "    .dataframe tbody tr th {\n",
       "        vertical-align: top;\n",
       "    }\n",
       "\n",
       "    .dataframe thead th {\n",
       "        text-align: right;\n",
       "    }\n",
       "</style>\n",
       "<table border=\"1\" class=\"dataframe\">\n",
       "  <thead>\n",
       "    <tr style=\"text-align: right;\">\n",
       "      <th></th>\n",
       "      <th>Unnamed: 0</th>\n",
       "      <th>0</th>\n",
       "      <th>1</th>\n",
       "      <th>2</th>\n",
       "      <th>3</th>\n",
       "      <th>4</th>\n",
       "      <th>5</th>\n",
       "      <th>6</th>\n",
       "      <th>7</th>\n",
       "      <th>8</th>\n",
       "      <th>...</th>\n",
       "      <th>3353</th>\n",
       "      <th>3354</th>\n",
       "      <th>3355</th>\n",
       "      <th>3356</th>\n",
       "      <th>3357</th>\n",
       "      <th>3358</th>\n",
       "      <th>3359</th>\n",
       "      <th>3360</th>\n",
       "      <th>3361</th>\n",
       "      <th>3362</th>\n",
       "    </tr>\n",
       "  </thead>\n",
       "  <tbody>\n",
       "    <tr>\n",
       "      <th>0</th>\n",
       "      <td>Paciente101</td>\n",
       "      <td>N</td>\n",
       "      <td>N</td>\n",
       "      <td>N</td>\n",
       "      <td>N</td>\n",
       "      <td>N</td>\n",
       "      <td>N</td>\n",
       "      <td>N</td>\n",
       "      <td>N</td>\n",
       "      <td>N</td>\n",
       "      <td>...</td>\n",
       "      <td>NaN</td>\n",
       "      <td>NaN</td>\n",
       "      <td>NaN</td>\n",
       "      <td>NaN</td>\n",
       "      <td>NaN</td>\n",
       "      <td>NaN</td>\n",
       "      <td>NaN</td>\n",
       "      <td>NaN</td>\n",
       "      <td>NaN</td>\n",
       "      <td>NaN</td>\n",
       "    </tr>\n",
       "    <tr>\n",
       "      <th>1</th>\n",
       "      <td>Paciente106</td>\n",
       "      <td>N</td>\n",
       "      <td>N</td>\n",
       "      <td>N</td>\n",
       "      <td>N</td>\n",
       "      <td>N</td>\n",
       "      <td>N</td>\n",
       "      <td>N</td>\n",
       "      <td>N</td>\n",
       "      <td>N</td>\n",
       "      <td>...</td>\n",
       "      <td>NaN</td>\n",
       "      <td>NaN</td>\n",
       "      <td>NaN</td>\n",
       "      <td>NaN</td>\n",
       "      <td>NaN</td>\n",
       "      <td>NaN</td>\n",
       "      <td>NaN</td>\n",
       "      <td>NaN</td>\n",
       "      <td>NaN</td>\n",
       "      <td>NaN</td>\n",
       "    </tr>\n",
       "    <tr>\n",
       "      <th>2</th>\n",
       "      <td>Paciente108</td>\n",
       "      <td>N</td>\n",
       "      <td>N</td>\n",
       "      <td>N</td>\n",
       "      <td>N</td>\n",
       "      <td>N</td>\n",
       "      <td>N</td>\n",
       "      <td>N</td>\n",
       "      <td>N</td>\n",
       "      <td>N</td>\n",
       "      <td>...</td>\n",
       "      <td>NaN</td>\n",
       "      <td>NaN</td>\n",
       "      <td>NaN</td>\n",
       "      <td>NaN</td>\n",
       "      <td>NaN</td>\n",
       "      <td>NaN</td>\n",
       "      <td>NaN</td>\n",
       "      <td>NaN</td>\n",
       "      <td>NaN</td>\n",
       "      <td>NaN</td>\n",
       "    </tr>\n",
       "    <tr>\n",
       "      <th>3</th>\n",
       "      <td>Paciente109</td>\n",
       "      <td>N</td>\n",
       "      <td>N</td>\n",
       "      <td>N</td>\n",
       "      <td>N</td>\n",
       "      <td>N</td>\n",
       "      <td>N</td>\n",
       "      <td>N</td>\n",
       "      <td>N</td>\n",
       "      <td>N</td>\n",
       "      <td>...</td>\n",
       "      <td>NaN</td>\n",
       "      <td>NaN</td>\n",
       "      <td>NaN</td>\n",
       "      <td>NaN</td>\n",
       "      <td>NaN</td>\n",
       "      <td>NaN</td>\n",
       "      <td>NaN</td>\n",
       "      <td>NaN</td>\n",
       "      <td>NaN</td>\n",
       "      <td>NaN</td>\n",
       "    </tr>\n",
       "    <tr>\n",
       "      <th>4</th>\n",
       "      <td>Paciente112</td>\n",
       "      <td>N</td>\n",
       "      <td>N</td>\n",
       "      <td>N</td>\n",
       "      <td>N</td>\n",
       "      <td>N</td>\n",
       "      <td>N</td>\n",
       "      <td>N</td>\n",
       "      <td>N</td>\n",
       "      <td>N</td>\n",
       "      <td>...</td>\n",
       "      <td>NaN</td>\n",
       "      <td>NaN</td>\n",
       "      <td>NaN</td>\n",
       "      <td>NaN</td>\n",
       "      <td>NaN</td>\n",
       "      <td>NaN</td>\n",
       "      <td>NaN</td>\n",
       "      <td>NaN</td>\n",
       "      <td>NaN</td>\n",
       "      <td>NaN</td>\n",
       "    </tr>\n",
       "  </tbody>\n",
       "</table>\n",
       "<p>5 rows × 3364 columns</p>\n",
       "</div>"
      ],
      "text/plain": [
       "    Unnamed: 0  0  1  2  3  4  5  6  7  8  ... 3353 3354 3355 3356 3357 3358  \\\n",
       "0  Paciente101  N  N  N  N  N  N  N  N  N  ...  NaN  NaN  NaN  NaN  NaN  NaN   \n",
       "1  Paciente106  N  N  N  N  N  N  N  N  N  ...  NaN  NaN  NaN  NaN  NaN  NaN   \n",
       "2  Paciente108  N  N  N  N  N  N  N  N  N  ...  NaN  NaN  NaN  NaN  NaN  NaN   \n",
       "3  Paciente109  N  N  N  N  N  N  N  N  N  ...  NaN  NaN  NaN  NaN  NaN  NaN   \n",
       "4  Paciente112  N  N  N  N  N  N  N  N  N  ...  NaN  NaN  NaN  NaN  NaN  NaN   \n",
       "\n",
       "  3359 3360 3361 3362  \n",
       "0  NaN  NaN  NaN  NaN  \n",
       "1  NaN  NaN  NaN  NaN  \n",
       "2  NaN  NaN  NaN  NaN  \n",
       "3  NaN  NaN  NaN  NaN  \n",
       "4  NaN  NaN  NaN  NaN  \n",
       "\n",
       "[5 rows x 3364 columns]"
      ]
     },
     "execution_count": 9,
     "metadata": {},
     "output_type": "execute_result"
    }
   ],
   "source": [
    "rotulos_treino.head()"
   ]
  },
  {
   "cell_type": "markdown",
   "id": "5c527a2c",
   "metadata": {},
   "source": [
    "Podemos observar apenas os batimentos N (Normais) e diversos NaN. Para podermos ter uma ideia melhor do arquivo, vamos verificar a quantidade de batimentos N, S, V e F."
   ]
  },
  {
   "cell_type": "code",
   "execution_count": 10,
   "id": "27495d53",
   "metadata": {},
   "outputs": [
    {
     "name": "stdout",
     "output_type": "stream",
     "text": [
      " N = 45866 \n",
      " S = 944\n",
      " V = 3788 \n",
      " F = 415\n"
     ]
    }
   ],
   "source": [
    "rotulos = rotulos_treino.iloc[: , 1:].to_numpy()\n",
    "\n",
    "N = (rotulos=='N').sum()\n",
    "S = (rotulos=='S').sum()\n",
    "V = (rotulos=='V').sum()\n",
    "F = (rotulos=='F').sum()\n",
    "print(f' N = {N} \\n S = {S}\\n V = {V} \\n F = {F}')"
   ]
  },
  {
   "cell_type": "markdown",
   "id": "8db084cc",
   "metadata": {},
   "source": [
    "# Pré-Processamento\n",
    "\n",
    "Após termos uma ideia dos dados que estamos lidando, vamos começar o pré-processamento.\n",
    "\n",
    "Como o objetivo é identificar apenas se há arritmia ou não em um batimento cardíaco, vamos precisar de uma medida para pegar cada batimento. Como os batimentos não tem um período definido, será necessário defní-lo. Para isso, será utilizado a diferença entre a posição do ponto R do batimento com o seu posterior. Todos os valores vão ser colocados em uma lista e depois será tirado a média."
   ]
  },
  {
   "cell_type": "code",
   "execution_count": 11,
   "id": "d88dc5c8",
   "metadata": {},
   "outputs": [
    {
     "name": "stdout",
     "output_type": "stream",
     "text": [
      "Média entre os pontos RR = 280\n"
     ]
    }
   ],
   "source": [
    "pos_r = n_rotulos_treino.iloc[: , 1:].to_numpy()\n",
    "\n",
    "num_lines = len(pos_r)\n",
    "time = []\n",
    "for line in range(num_lines):\n",
    "    for column in range(len(pos_r[line]) - 1):\n",
    "        if np.isnan(pos_r[line][column+1]) == False:\n",
    "            time.append(pos_r[line][column+1] - pos_r[line][column])\n",
    "        else:\n",
    "            break\n",
    "            \n",
    "mean_rr = int(np.mean(time))\n",
    "print('Média entre os pontos RR = {}'.format(mean_rr))"
   ]
  },
  {
   "cell_type": "markdown",
   "id": "c1d6d060",
   "metadata": {},
   "source": [
    "Com o resultado da média entre os pontos RR, vamos considerá-lo como o período de um batimento cardíaco. Para esse problema, será aplicado a transformada de fourier no ecg. A transformada será aplicada entre os pontos RR do ecg. Além disso, será utilizado um número inferior de ecg de cada paciente, já que muitos não tem um rótulo. Portanto, para fazer essa escolha, resolveu-se considerar que o número de batimentos de cada paciente será o mesmo número que temos de rótulos do primeiro paciente.\n",
    "\n",
    "Para fazer isso, será criado a função **fourier_transform()** que receberá como parâmetro o ecg de todos os pacientes, a matriz com a posição dos pontos R e a média entre os pontos RR, calculada anteriormente. Ela irá retornar uma matriz com 279 colunas e em cada linha terá o módulo da transformada de fourier daquele batimento."
   ]
  },
  {
   "cell_type": "code",
   "execution_count": 12,
   "id": "9d63f875",
   "metadata": {},
   "outputs": [],
   "source": [
    "def fourier_transform(ecg,pos_r,mean_rr):\n",
    "    num_batimentos = len(pos_r[:, ~pd.isna(pos_r).any(axis=0)][0])\n",
    "    matriz = np.zeros((num_batimentos*len(pos_r),mean_rr-1))\n",
    "    for i in range(len(pos_r)):\n",
    "        for j in range(0,num_batimentos-1):\n",
    "            fourier = np.fft.fft(ecg[i, int(pos_r[i,j]) : int(pos_r[i,j+1])], n = mean_rr-1) #Fourier entre dois RR\n",
    "            matriz[i*num_batimentos+j] = abs(fourier)\n",
    "    return matriz, num_batimentos"
   ]
  },
  {
   "cell_type": "code",
   "execution_count": 13,
   "id": "19794687",
   "metadata": {},
   "outputs": [],
   "source": [
    "ecg = ecg_treino.iloc[: , 1:].to_numpy()\n",
    "\n",
    "ecg_f, num_batimentos = fourier_transform(ecg, pos_r, mean_rr)"
   ]
  },
  {
   "cell_type": "code",
   "execution_count": 14,
   "id": "ecd86079",
   "metadata": {},
   "outputs": [
    {
     "name": "stdout",
     "output_type": "stream",
     "text": [
      "[[82.01        1.28883978 11.75676269 ... 12.99927987 11.75676269\n",
      "   1.28883978]\n",
      " [72.45        3.78324291 12.6736337  ... 12.24934784 12.6736337\n",
      "   3.78324291]\n",
      " [83.425       4.668797   11.31439744 ... 14.28902589 11.31439744\n",
      "   4.668797  ]\n",
      " ...\n",
      " [60.715      16.89820129 13.11135421 ... 17.71460897 13.11135421\n",
      "  16.89820129]\n",
      " [34.93       20.02203998 13.15298713 ... 15.91599423 13.15298713\n",
      "  20.02203998]\n",
      " [ 0.          0.          0.         ...  0.          0.\n",
      "   0.        ]]\n"
     ]
    }
   ],
   "source": [
    "print(ecg_f)"
   ]
  },
  {
   "cell_type": "markdown",
   "id": "a5b00219",
   "metadata": {},
   "source": [
    "Agora, é necessário pegar os rótulos de cada batimento que está na matriz com o módulo da transformada de fourier."
   ]
  },
  {
   "cell_type": "code",
   "execution_count": 15,
   "id": "2cd0f7a8",
   "metadata": {},
   "outputs": [
    {
     "name": "stdout",
     "output_type": "stream",
     "text": [
      "(35618, 1)\n"
     ]
    }
   ],
   "source": [
    "rotulos = rotulos[:, :num_batimentos]\n",
    "\n",
    "Y_train = np.reshape(rotulos, (-1, 1))\n",
    "print(Y_train.shape)"
   ]
  },
  {
   "cell_type": "markdown",
   "id": "23951690",
   "metadata": {},
   "source": [
    "Vamos verificar a quantidade de rótulos **N**, **S**, **V** e **F** que temos agora com essa redução."
   ]
  },
  {
   "cell_type": "code",
   "execution_count": 16,
   "id": "b9bf97f0",
   "metadata": {},
   "outputs": [
    {
     "name": "stdout",
     "output_type": "stream",
     "text": [
      " N = 32226 \n",
      " S = 653\n",
      " V = 2433 \n",
      " F = 303\n"
     ]
    }
   ],
   "source": [
    "N = (Y_train=='N').sum()\n",
    "S = (Y_train=='S').sum()\n",
    "V = (Y_train=='V').sum()\n",
    "F = (Y_train=='F').sum()\n",
    "print(f' N = {N} \\n S = {S}\\n V = {V} \\n F = {F}' )"
   ]
  },
  {
   "cell_type": "markdown",
   "id": "2b1d37ba",
   "metadata": {},
   "source": [
    "Para facilitar a implementação da rede MLP, vamos transformar os valores em 0's e 1's se o batimento tem arrimita ou é normal, respectivamente. "
   ]
  },
  {
   "cell_type": "code",
   "execution_count": 17,
   "id": "4783ff64",
   "metadata": {},
   "outputs": [
    {
     "name": "stderr",
     "output_type": "stream",
     "text": [
      "C:\\Users\\jean_\\anaconda3\\lib\\site-packages\\sklearn\\preprocessing\\_label.py:115: DataConversionWarning: A column-vector y was passed when a 1d array was expected. Please change the shape of y to (n_samples, ), for example using ravel().\n",
      "  y = column_or_1d(y, warn=True)\n"
     ]
    }
   ],
   "source": [
    "from sklearn.preprocessing import LabelEncoder\n",
    "from sklearn.preprocessing import OneHotEncoder\n",
    "\n",
    "# integer encode\n",
    "label_encoder = LabelEncoder()\n",
    "rotulo_inteiro = label_encoder.fit_transform(Y_train)\n",
    "\n",
    "for i in range(len(rotulo_inteiro)):\n",
    "    if rotulo_inteiro[i] != 1:\n",
    "        rotulo_inteiro[i] = 0"
   ]
  },
  {
   "cell_type": "code",
   "execution_count": 18,
   "id": "a3207469",
   "metadata": {},
   "outputs": [
    {
     "name": "stdout",
     "output_type": "stream",
     "text": [
      " Normal = 32226 \n",
      " Arritmia = 3392\n"
     ]
    }
   ],
   "source": [
    "Normal = (rotulo_inteiro==1).sum()\n",
    "Arritmia = (rotulo_inteiro==0).sum()\n",
    "\n",
    "print(f' Normal = {Normal} \\n Arritmia = {Arritmia}')"
   ]
  },
  {
   "cell_type": "markdown",
   "id": "d492daa5",
   "metadata": {},
   "source": [
    "Transformando em dataframe novamente os dados de treino."
   ]
  },
  {
   "cell_type": "code",
   "execution_count": 19,
   "id": "973a6ac4",
   "metadata": {},
   "outputs": [
    {
     "data": {
      "text/html": [
       "<div>\n",
       "<style scoped>\n",
       "    .dataframe tbody tr th:only-of-type {\n",
       "        vertical-align: middle;\n",
       "    }\n",
       "\n",
       "    .dataframe tbody tr th {\n",
       "        vertical-align: top;\n",
       "    }\n",
       "\n",
       "    .dataframe thead th {\n",
       "        text-align: right;\n",
       "    }\n",
       "</style>\n",
       "<table border=\"1\" class=\"dataframe\">\n",
       "  <thead>\n",
       "    <tr style=\"text-align: right;\">\n",
       "      <th></th>\n",
       "      <th>0</th>\n",
       "      <th>1</th>\n",
       "      <th>2</th>\n",
       "      <th>3</th>\n",
       "      <th>4</th>\n",
       "      <th>5</th>\n",
       "      <th>6</th>\n",
       "      <th>7</th>\n",
       "      <th>8</th>\n",
       "      <th>9</th>\n",
       "      <th>...</th>\n",
       "      <th>269</th>\n",
       "      <th>270</th>\n",
       "      <th>271</th>\n",
       "      <th>272</th>\n",
       "      <th>273</th>\n",
       "      <th>274</th>\n",
       "      <th>275</th>\n",
       "      <th>276</th>\n",
       "      <th>277</th>\n",
       "      <th>278</th>\n",
       "    </tr>\n",
       "  </thead>\n",
       "  <tbody>\n",
       "    <tr>\n",
       "      <th>0</th>\n",
       "      <td>82.010</td>\n",
       "      <td>1.288840</td>\n",
       "      <td>11.756763</td>\n",
       "      <td>12.999280</td>\n",
       "      <td>2.171648</td>\n",
       "      <td>6.635645</td>\n",
       "      <td>5.139956</td>\n",
       "      <td>2.909467</td>\n",
       "      <td>4.069527</td>\n",
       "      <td>3.731759</td>\n",
       "      <td>...</td>\n",
       "      <td>3.400929</td>\n",
       "      <td>3.731759</td>\n",
       "      <td>4.069527</td>\n",
       "      <td>2.909467</td>\n",
       "      <td>5.139956</td>\n",
       "      <td>6.635645</td>\n",
       "      <td>2.171648</td>\n",
       "      <td>12.999280</td>\n",
       "      <td>11.756763</td>\n",
       "      <td>1.288840</td>\n",
       "    </tr>\n",
       "    <tr>\n",
       "      <th>1</th>\n",
       "      <td>72.450</td>\n",
       "      <td>3.783243</td>\n",
       "      <td>12.673634</td>\n",
       "      <td>12.249348</td>\n",
       "      <td>2.691182</td>\n",
       "      <td>6.796311</td>\n",
       "      <td>4.959894</td>\n",
       "      <td>3.686662</td>\n",
       "      <td>4.426457</td>\n",
       "      <td>4.339760</td>\n",
       "      <td>...</td>\n",
       "      <td>4.192949</td>\n",
       "      <td>4.339760</td>\n",
       "      <td>4.426457</td>\n",
       "      <td>3.686662</td>\n",
       "      <td>4.959894</td>\n",
       "      <td>6.796311</td>\n",
       "      <td>2.691182</td>\n",
       "      <td>12.249348</td>\n",
       "      <td>12.673634</td>\n",
       "      <td>3.783243</td>\n",
       "    </tr>\n",
       "    <tr>\n",
       "      <th>2</th>\n",
       "      <td>83.425</td>\n",
       "      <td>4.668797</td>\n",
       "      <td>11.314397</td>\n",
       "      <td>14.289026</td>\n",
       "      <td>4.120200</td>\n",
       "      <td>8.216146</td>\n",
       "      <td>6.965842</td>\n",
       "      <td>5.127325</td>\n",
       "      <td>5.657537</td>\n",
       "      <td>4.874463</td>\n",
       "      <td>...</td>\n",
       "      <td>4.926945</td>\n",
       "      <td>4.874463</td>\n",
       "      <td>5.657537</td>\n",
       "      <td>5.127325</td>\n",
       "      <td>6.965842</td>\n",
       "      <td>8.216146</td>\n",
       "      <td>4.120200</td>\n",
       "      <td>14.289026</td>\n",
       "      <td>11.314397</td>\n",
       "      <td>4.668797</td>\n",
       "    </tr>\n",
       "    <tr>\n",
       "      <th>3</th>\n",
       "      <td>103.450</td>\n",
       "      <td>1.730381</td>\n",
       "      <td>12.714548</td>\n",
       "      <td>13.135865</td>\n",
       "      <td>4.099618</td>\n",
       "      <td>9.425230</td>\n",
       "      <td>7.172866</td>\n",
       "      <td>6.453905</td>\n",
       "      <td>6.424576</td>\n",
       "      <td>5.416741</td>\n",
       "      <td>...</td>\n",
       "      <td>5.516514</td>\n",
       "      <td>5.416741</td>\n",
       "      <td>6.424576</td>\n",
       "      <td>6.453905</td>\n",
       "      <td>7.172866</td>\n",
       "      <td>9.425230</td>\n",
       "      <td>4.099618</td>\n",
       "      <td>13.135865</td>\n",
       "      <td>12.714548</td>\n",
       "      <td>1.730381</td>\n",
       "    </tr>\n",
       "    <tr>\n",
       "      <th>4</th>\n",
       "      <td>91.710</td>\n",
       "      <td>5.312393</td>\n",
       "      <td>13.486395</td>\n",
       "      <td>10.951041</td>\n",
       "      <td>4.817143</td>\n",
       "      <td>8.968254</td>\n",
       "      <td>6.063925</td>\n",
       "      <td>6.770320</td>\n",
       "      <td>6.072804</td>\n",
       "      <td>5.648128</td>\n",
       "      <td>...</td>\n",
       "      <td>5.754961</td>\n",
       "      <td>5.648128</td>\n",
       "      <td>6.072804</td>\n",
       "      <td>6.770320</td>\n",
       "      <td>6.063925</td>\n",
       "      <td>8.968254</td>\n",
       "      <td>4.817143</td>\n",
       "      <td>10.951041</td>\n",
       "      <td>13.486395</td>\n",
       "      <td>5.312393</td>\n",
       "    </tr>\n",
       "  </tbody>\n",
       "</table>\n",
       "<p>5 rows × 279 columns</p>\n",
       "</div>"
      ],
      "text/plain": [
       "       0         1          2          3         4         5         6    \\\n",
       "0   82.010  1.288840  11.756763  12.999280  2.171648  6.635645  5.139956   \n",
       "1   72.450  3.783243  12.673634  12.249348  2.691182  6.796311  4.959894   \n",
       "2   83.425  4.668797  11.314397  14.289026  4.120200  8.216146  6.965842   \n",
       "3  103.450  1.730381  12.714548  13.135865  4.099618  9.425230  7.172866   \n",
       "4   91.710  5.312393  13.486395  10.951041  4.817143  8.968254  6.063925   \n",
       "\n",
       "        7         8         9    ...       269       270       271       272  \\\n",
       "0  2.909467  4.069527  3.731759  ...  3.400929  3.731759  4.069527  2.909467   \n",
       "1  3.686662  4.426457  4.339760  ...  4.192949  4.339760  4.426457  3.686662   \n",
       "2  5.127325  5.657537  4.874463  ...  4.926945  4.874463  5.657537  5.127325   \n",
       "3  6.453905  6.424576  5.416741  ...  5.516514  5.416741  6.424576  6.453905   \n",
       "4  6.770320  6.072804  5.648128  ...  5.754961  5.648128  6.072804  6.770320   \n",
       "\n",
       "        273       274       275        276        277       278  \n",
       "0  5.139956  6.635645  2.171648  12.999280  11.756763  1.288840  \n",
       "1  4.959894  6.796311  2.691182  12.249348  12.673634  3.783243  \n",
       "2  6.965842  8.216146  4.120200  14.289026  11.314397  4.668797  \n",
       "3  7.172866  9.425230  4.099618  13.135865  12.714548  1.730381  \n",
       "4  6.063925  8.968254  4.817143  10.951041  13.486395  5.312393  \n",
       "\n",
       "[5 rows x 279 columns]"
      ]
     },
     "execution_count": 19,
     "metadata": {},
     "output_type": "execute_result"
    }
   ],
   "source": [
    "df_train = pd.DataFrame(ecg_f)\n",
    "df_train.head()"
   ]
  },
  {
   "cell_type": "code",
   "execution_count": 20,
   "id": "ced93f3a",
   "metadata": {},
   "outputs": [
    {
     "data": {
      "text/html": [
       "<div>\n",
       "<style scoped>\n",
       "    .dataframe tbody tr th:only-of-type {\n",
       "        vertical-align: middle;\n",
       "    }\n",
       "\n",
       "    .dataframe tbody tr th {\n",
       "        vertical-align: top;\n",
       "    }\n",
       "\n",
       "    .dataframe thead th {\n",
       "        text-align: right;\n",
       "    }\n",
       "</style>\n",
       "<table border=\"1\" class=\"dataframe\">\n",
       "  <thead>\n",
       "    <tr style=\"text-align: right;\">\n",
       "      <th></th>\n",
       "      <th>Rotulos</th>\n",
       "    </tr>\n",
       "  </thead>\n",
       "  <tbody>\n",
       "    <tr>\n",
       "      <th>0</th>\n",
       "      <td>1</td>\n",
       "    </tr>\n",
       "    <tr>\n",
       "      <th>1</th>\n",
       "      <td>1</td>\n",
       "    </tr>\n",
       "    <tr>\n",
       "      <th>2</th>\n",
       "      <td>1</td>\n",
       "    </tr>\n",
       "    <tr>\n",
       "      <th>3</th>\n",
       "      <td>1</td>\n",
       "    </tr>\n",
       "    <tr>\n",
       "      <th>4</th>\n",
       "      <td>1</td>\n",
       "    </tr>\n",
       "  </tbody>\n",
       "</table>\n",
       "</div>"
      ],
      "text/plain": [
       "   Rotulos\n",
       "0        1\n",
       "1        1\n",
       "2        1\n",
       "3        1\n",
       "4        1"
      ]
     },
     "execution_count": 20,
     "metadata": {},
     "output_type": "execute_result"
    }
   ],
   "source": [
    "df_rotulo = pd.DataFrame(rotulo_inteiro, columns=['Rotulos'])\n",
    "df_rotulo.head()"
   ]
  },
  {
   "cell_type": "markdown",
   "id": "2f810825",
   "metadata": {},
   "source": [
    "Como é possível verificar anteriormente, temos um problema de dados desbalanceados, isto é, temos um grande número de batimentos normais e poucos com arritmia, dessa forma, será utilizado o SMOTE, para balancear nosso dataset."
   ]
  },
  {
   "cell_type": "code",
   "execution_count": 21,
   "id": "d00e5f0f",
   "metadata": {},
   "outputs": [],
   "source": [
    "from imblearn.over_sampling import SMOTE\n",
    "from imblearn.under_sampling import RandomUnderSampler\n",
    "from imblearn.pipeline import Pipeline\n",
    "\n",
    "# define pipeline\n",
    "over = SMOTE(sampling_strategy=0.5)\n",
    "under = RandomUnderSampler(sampling_strategy=0.5)\n",
    "steps = [('o', over), ('u', under)]\n",
    "pipeline = Pipeline(steps=steps)\n",
    "# transform the dataset\n",
    "X, y = pipeline.fit_resample(df_train, df_rotulo)"
   ]
  },
  {
   "cell_type": "markdown",
   "id": "dba1d00b",
   "metadata": {},
   "source": [
    "Podemos verificar a quantidade que foi aumentada."
   ]
  },
  {
   "cell_type": "code",
   "execution_count": 22,
   "id": "4927c8b3",
   "metadata": {},
   "outputs": [
    {
     "name": "stdout",
     "output_type": "stream",
     "text": [
      " Normal = Rotulos    32226\n",
      "dtype: int64 \n",
      " Arritmia = Rotulos    16113\n",
      "dtype: int64\n"
     ]
    }
   ],
   "source": [
    "Normal = (y==1).sum()\n",
    "Arritmia = (y==0).sum()\n",
    "\n",
    "print(f' Normal = {Normal} \\n Arritmia = {Arritmia}')"
   ]
  },
  {
   "cell_type": "markdown",
   "id": "ffa56ffd",
   "metadata": {},
   "source": [
    "Podemos ver que há um grande aumento nos rótulos com arritmia."
   ]
  },
  {
   "cell_type": "markdown",
   "id": "d10586f1",
   "metadata": {},
   "source": [
    "# Classificação\n",
    "\n",
    "Agora vamos treinar o modelo. Primeiramente, vamos utilizar a biblioteca **sklearn** para gerar dados de teste dentro do nosso dataset de treino, para ser possível utilizar a crossvalidation, evitando overfitting."
   ]
  },
  {
   "cell_type": "code",
   "execution_count": 23,
   "id": "08976f0d",
   "metadata": {},
   "outputs": [],
   "source": [
    "from sklearn.model_selection import train_test_split\n",
    "\n",
    "X_train,X_test,y_train,y_test = train_test_split(X,y,test_size = 0.33, random_state=0)"
   ]
  },
  {
   "cell_type": "markdown",
   "id": "183e2a5c",
   "metadata": {},
   "source": [
    "Para o modelo, será considerado uma rede neural com 3 camadas, as duas primeiras com função de ativação ReLu, a primeira com 30 neurônios e a segunda com 50 neurônios e a última, a saída, a função sigmoid, ideal para problemas de classificação binária. Além disso, será considerado a inicialização de He, pois estamos utilizando ReLU. Para a função de custo será considerado a entropia cruzada binária, pois ela é mais adequada para erros de categorização e o otimizador de Adam, pois estamos tratando com muitos dados."
   ]
  },
  {
   "cell_type": "code",
   "execution_count": 24,
   "id": "11818633",
   "metadata": {},
   "outputs": [],
   "source": [
    "from keras.models import Sequential\n",
    "from keras.layers import Dense,Conv1D\n",
    "from keras.wrappers.scikit_learn import KerasClassifier\n",
    "from sklearn.model_selection import cross_val_score\n",
    "from sklearn.preprocessing import LabelEncoder\n",
    "from sklearn.model_selection import StratifiedKFold\n",
    "from keras.initializers import HeUniform\n",
    "from keras.layers import Dropout\n",
    "\n",
    "initializer = HeUniform() \n",
    "model = Sequential()\n",
    "model.add(Dense(30, input_shape=(mean_rr-1,), activation='relu', kernel_initializer=initializer))\n",
    "model.add(Dropout(rate=0.25))\n",
    "model.add(Dense(50, activation='relu'))\n",
    "model.add(Dropout(rate=0.25))\n",
    "model.add(Dense(1, activation='sigmoid'))\n",
    "\n",
    "    # Compile model\n",
    "model.compile(loss='binary_crossentropy', optimizer='adam', metrics=['accuracy'])"
   ]
  },
  {
   "cell_type": "code",
   "execution_count": 25,
   "id": "2270705b",
   "metadata": {},
   "outputs": [
    {
     "name": "stdout",
     "output_type": "stream",
     "text": [
      "Epoch 1/50\n",
      "81/81 [==============================] - 1s 7ms/step - loss: 1.0959 - accuracy: 0.6911 - val_loss: 0.4772 - val_accuracy: 0.8210\n",
      "Epoch 2/50\n",
      "81/81 [==============================] - 0s 4ms/step - loss: 0.5008 - accuracy: 0.8017 - val_loss: 0.4219 - val_accuracy: 0.8335\n",
      "Epoch 3/50\n",
      "81/81 [==============================] - 0s 4ms/step - loss: 0.4457 - accuracy: 0.8206 - val_loss: 0.3866 - val_accuracy: 0.8369\n",
      "Epoch 4/50\n",
      "81/81 [==============================] - 0s 4ms/step - loss: 0.4140 - accuracy: 0.8289 - val_loss: 0.3599 - val_accuracy: 0.8445\n",
      "Epoch 5/50\n",
      "81/81 [==============================] - 0s 4ms/step - loss: 0.3877 - accuracy: 0.8393 - val_loss: 0.3309 - val_accuracy: 0.8586\n",
      "Epoch 6/50\n",
      "81/81 [==============================] - 0s 4ms/step - loss: 0.3644 - accuracy: 0.8549 - val_loss: 0.2983 - val_accuracy: 0.8892\n",
      "Epoch 7/50\n",
      "81/81 [==============================] - 0s 4ms/step - loss: 0.3466 - accuracy: 0.8641 - val_loss: 0.2877 - val_accuracy: 0.8903\n",
      "Epoch 8/50\n",
      "81/81 [==============================] - 0s 4ms/step - loss: 0.3371 - accuracy: 0.8695 - val_loss: 0.2709 - val_accuracy: 0.8926\n",
      "Epoch 9/50\n",
      "81/81 [==============================] - 0s 4ms/step - loss: 0.3209 - accuracy: 0.8751 - val_loss: 0.2576 - val_accuracy: 0.9006\n",
      "Epoch 10/50\n",
      "81/81 [==============================] - 0s 4ms/step - loss: 0.3145 - accuracy: 0.8800 - val_loss: 0.2621 - val_accuracy: 0.8944\n",
      "Epoch 11/50\n",
      "81/81 [==============================] - 0s 4ms/step - loss: 0.3058 - accuracy: 0.8822 - val_loss: 0.2438 - val_accuracy: 0.9054\n",
      "Epoch 12/50\n",
      "81/81 [==============================] - 0s 4ms/step - loss: 0.3024 - accuracy: 0.8822 - val_loss: 0.2439 - val_accuracy: 0.9063\n",
      "Epoch 13/50\n",
      "81/81 [==============================] - 0s 4ms/step - loss: 0.2942 - accuracy: 0.8847 - val_loss: 0.2505 - val_accuracy: 0.9019\n",
      "Epoch 14/50\n",
      "81/81 [==============================] - 0s 4ms/step - loss: 0.2941 - accuracy: 0.8850 - val_loss: 0.2353 - val_accuracy: 0.9106\n",
      "Epoch 15/50\n",
      "81/81 [==============================] - 0s 4ms/step - loss: 0.2861 - accuracy: 0.8886 - val_loss: 0.2310 - val_accuracy: 0.9093\n",
      "Epoch 16/50\n",
      "81/81 [==============================] - 0s 4ms/step - loss: 0.2828 - accuracy: 0.8894 - val_loss: 0.2300 - val_accuracy: 0.9087\n",
      "Epoch 17/50\n",
      "81/81 [==============================] - 0s 4ms/step - loss: 0.2816 - accuracy: 0.8888 - val_loss: 0.2190 - val_accuracy: 0.9142\n",
      "Epoch 18/50\n",
      "81/81 [==============================] - 0s 4ms/step - loss: 0.2722 - accuracy: 0.8927 - val_loss: 0.2197 - val_accuracy: 0.9151\n",
      "Epoch 19/50\n",
      "81/81 [==============================] - 0s 4ms/step - loss: 0.2741 - accuracy: 0.8934 - val_loss: 0.2173 - val_accuracy: 0.9168\n",
      "Epoch 20/50\n",
      "81/81 [==============================] - 0s 4ms/step - loss: 0.2705 - accuracy: 0.8931 - val_loss: 0.2274 - val_accuracy: 0.9087\n",
      "Epoch 21/50\n",
      "81/81 [==============================] - 0s 4ms/step - loss: 0.2688 - accuracy: 0.8944 - val_loss: 0.2182 - val_accuracy: 0.9144\n",
      "Epoch 22/50\n",
      "81/81 [==============================] - 0s 4ms/step - loss: 0.2616 - accuracy: 0.8979 - val_loss: 0.2140 - val_accuracy: 0.9183\n",
      "Epoch 23/50\n",
      "81/81 [==============================] - 0s 4ms/step - loss: 0.2652 - accuracy: 0.8940 - val_loss: 0.2124 - val_accuracy: 0.9163\n",
      "Epoch 24/50\n",
      "81/81 [==============================] - 0s 4ms/step - loss: 0.2585 - accuracy: 0.8976 - val_loss: 0.2077 - val_accuracy: 0.9179\n",
      "Epoch 25/50\n",
      "81/81 [==============================] - 0s 4ms/step - loss: 0.2561 - accuracy: 0.8968 - val_loss: 0.2071 - val_accuracy: 0.9206\n",
      "Epoch 26/50\n",
      "81/81 [==============================] - 0s 4ms/step - loss: 0.2500 - accuracy: 0.9022 - val_loss: 0.1955 - val_accuracy: 0.9247\n",
      "Epoch 27/50\n",
      "81/81 [==============================] - 0s 4ms/step - loss: 0.2505 - accuracy: 0.9005 - val_loss: 0.1967 - val_accuracy: 0.9228\n",
      "Epoch 28/50\n",
      "81/81 [==============================] - 0s 4ms/step - loss: 0.2499 - accuracy: 0.9004 - val_loss: 0.2014 - val_accuracy: 0.9241\n",
      "Epoch 29/50\n",
      "81/81 [==============================] - 0s 4ms/step - loss: 0.2449 - accuracy: 0.9007 - val_loss: 0.1930 - val_accuracy: 0.9248\n",
      "Epoch 30/50\n",
      "81/81 [==============================] - 0s 4ms/step - loss: 0.2415 - accuracy: 0.9029 - val_loss: 0.1906 - val_accuracy: 0.9280\n",
      "Epoch 31/50\n",
      "81/81 [==============================] - 0s 4ms/step - loss: 0.2404 - accuracy: 0.9026 - val_loss: 0.1925 - val_accuracy: 0.9251\n",
      "Epoch 32/50\n",
      "81/81 [==============================] - 0s 4ms/step - loss: 0.2428 - accuracy: 0.9019 - val_loss: 0.2043 - val_accuracy: 0.9154\n",
      "Epoch 33/50\n",
      "81/81 [==============================] - 0s 4ms/step - loss: 0.2386 - accuracy: 0.9051 - val_loss: 0.1933 - val_accuracy: 0.9220\n",
      "Epoch 34/50\n",
      "81/81 [==============================] - 0s 4ms/step - loss: 0.2353 - accuracy: 0.9035 - val_loss: 0.1832 - val_accuracy: 0.9304\n",
      "Epoch 35/50\n",
      "81/81 [==============================] - 0s 4ms/step - loss: 0.2344 - accuracy: 0.9039 - val_loss: 0.1819 - val_accuracy: 0.9316\n",
      "Epoch 36/50\n",
      "81/81 [==============================] - 0s 4ms/step - loss: 0.2316 - accuracy: 0.9062 - val_loss: 0.1834 - val_accuracy: 0.9319\n",
      "Epoch 37/50\n",
      "81/81 [==============================] - 0s 4ms/step - loss: 0.2336 - accuracy: 0.9055 - val_loss: 0.1859 - val_accuracy: 0.9315\n",
      "Epoch 38/50\n",
      "81/81 [==============================] - 0s 4ms/step - loss: 0.2342 - accuracy: 0.9048 - val_loss: 0.1826 - val_accuracy: 0.9294\n",
      "Epoch 39/50\n",
      "81/81 [==============================] - 0s 4ms/step - loss: 0.2325 - accuracy: 0.9073 - val_loss: 0.1846 - val_accuracy: 0.9302\n",
      "Epoch 40/50\n",
      "81/81 [==============================] - 0s 4ms/step - loss: 0.2278 - accuracy: 0.9060 - val_loss: 0.1811 - val_accuracy: 0.9281\n",
      "Epoch 41/50\n",
      "81/81 [==============================] - 0s 4ms/step - loss: 0.2243 - accuracy: 0.9092 - val_loss: 0.1871 - val_accuracy: 0.9253\n",
      "Epoch 42/50\n",
      "81/81 [==============================] - 0s 4ms/step - loss: 0.2278 - accuracy: 0.9081 - val_loss: 0.1800 - val_accuracy: 0.9328\n",
      "Epoch 43/50\n",
      "81/81 [==============================] - 0s 4ms/step - loss: 0.2248 - accuracy: 0.9076 - val_loss: 0.1837 - val_accuracy: 0.9258\n",
      "Epoch 44/50\n",
      "81/81 [==============================] - 0s 4ms/step - loss: 0.2216 - accuracy: 0.9095 - val_loss: 0.1819 - val_accuracy: 0.9302\n",
      "Epoch 45/50\n",
      "81/81 [==============================] - 0s 4ms/step - loss: 0.2257 - accuracy: 0.9083 - val_loss: 0.1699 - val_accuracy: 0.9341\n",
      "Epoch 46/50\n",
      "81/81 [==============================] - 0s 4ms/step - loss: 0.2204 - accuracy: 0.9097 - val_loss: 0.1747 - val_accuracy: 0.9313\n",
      "Epoch 47/50\n",
      "81/81 [==============================] - 0s 5ms/step - loss: 0.2189 - accuracy: 0.9115 - val_loss: 0.1769 - val_accuracy: 0.9297\n",
      "Epoch 48/50\n",
      "81/81 [==============================] - 0s 5ms/step - loss: 0.2218 - accuracy: 0.9094 - val_loss: 0.1798 - val_accuracy: 0.9344\n",
      "Epoch 49/50\n",
      "81/81 [==============================] - 0s 5ms/step - loss: 0.2215 - accuracy: 0.9123 - val_loss: 0.1745 - val_accuracy: 0.9356\n",
      "Epoch 50/50\n",
      "81/81 [==============================] - 0s 4ms/step - loss: 0.2171 - accuracy: 0.9116 - val_loss: 0.1807 - val_accuracy: 0.9262\n"
     ]
    }
   ],
   "source": [
    "history = model.fit(X_train, y_train, batch_size=400, epochs=50, verbose=1, validation_data=(X_test, y_test))"
   ]
  },
  {
   "cell_type": "markdown",
   "id": "d3521fb6",
   "metadata": {},
   "source": [
    "Com a rede treinada, podemos plotar o gráfico da função de custo em função das épocas."
   ]
  },
  {
   "cell_type": "code",
   "execution_count": 26,
   "id": "d87b4593",
   "metadata": {},
   "outputs": [
    {
     "data": {
      "image/png": "[encoded data removed]",
      "text/plain": [
       "<Figure size 432x288 with 1 Axes>"
      ]
     },
     "metadata": {
      "needs_background": "light"
     },
     "output_type": "display_data"
    }
   ],
   "source": [
    "plt.plot(history.history['loss'], label='Perda')\n",
    "plt.xlabel(\"Épocas\")\n",
    "plt.ylabel(\"Loss\")\n",
    "plt.legend()\n",
    "plt.show()"
   ]
  },
  {
   "cell_type": "markdown",
   "id": "e21eb85d",
   "metadata": {},
   "source": [
    "# Dados de teste\n",
    "\n",
    "Agora com a rede treinada, vamos testar a nossa rede com os dados de teste fornecidos."
   ]
  },
  {
   "cell_type": "code",
   "execution_count": 27,
   "id": "cbbccefd",
   "metadata": {},
   "outputs": [],
   "source": [
    "ecg_teste = pd.read_pickle(\"ecg_teste.pickle\")\n",
    "rotulos_teste = pd.read_csv(\"rotulos_teste.csv\")\n",
    "n_rotulos_teste = pd.read_csv(\"n_rotulos_teste.csv\")"
   ]
  },
  {
   "cell_type": "code",
   "execution_count": 28,
   "id": "f685b6f5",
   "metadata": {},
   "outputs": [
    {
     "data": {
      "text/html": [
       "<div>\n",
       "<style scoped>\n",
       "    .dataframe tbody tr th:only-of-type {\n",
       "        vertical-align: middle;\n",
       "    }\n",
       "\n",
       "    .dataframe tbody tr th {\n",
       "        vertical-align: top;\n",
       "    }\n",
       "\n",
       "    .dataframe thead th {\n",
       "        text-align: right;\n",
       "    }\n",
       "</style>\n",
       "<table border=\"1\" class=\"dataframe\">\n",
       "  <thead>\n",
       "    <tr style=\"text-align: right;\">\n",
       "      <th></th>\n",
       "      <th>Unnamed: 0</th>\n",
       "      <th>0</th>\n",
       "      <th>1</th>\n",
       "      <th>2</th>\n",
       "      <th>3</th>\n",
       "      <th>4</th>\n",
       "      <th>5</th>\n",
       "      <th>6</th>\n",
       "      <th>7</th>\n",
       "      <th>8</th>\n",
       "      <th>...</th>\n",
       "      <th>3241</th>\n",
       "      <th>3242</th>\n",
       "      <th>3243</th>\n",
       "      <th>3244</th>\n",
       "      <th>3245</th>\n",
       "      <th>3246</th>\n",
       "      <th>3247</th>\n",
       "      <th>3248</th>\n",
       "      <th>3249</th>\n",
       "      <th>3250</th>\n",
       "    </tr>\n",
       "  </thead>\n",
       "  <tbody>\n",
       "    <tr>\n",
       "      <th>0</th>\n",
       "      <td>Paciente100</td>\n",
       "      <td>N</td>\n",
       "      <td>N</td>\n",
       "      <td>N</td>\n",
       "      <td>N</td>\n",
       "      <td>N</td>\n",
       "      <td>N</td>\n",
       "      <td>N</td>\n",
       "      <td>S</td>\n",
       "      <td>N</td>\n",
       "      <td>...</td>\n",
       "      <td>NaN</td>\n",
       "      <td>NaN</td>\n",
       "      <td>NaN</td>\n",
       "      <td>NaN</td>\n",
       "      <td>NaN</td>\n",
       "      <td>NaN</td>\n",
       "      <td>NaN</td>\n",
       "      <td>NaN</td>\n",
       "      <td>NaN</td>\n",
       "      <td>NaN</td>\n",
       "    </tr>\n",
       "    <tr>\n",
       "      <th>1</th>\n",
       "      <td>Paciente103</td>\n",
       "      <td>N</td>\n",
       "      <td>N</td>\n",
       "      <td>N</td>\n",
       "      <td>N</td>\n",
       "      <td>N</td>\n",
       "      <td>N</td>\n",
       "      <td>N</td>\n",
       "      <td>N</td>\n",
       "      <td>N</td>\n",
       "      <td>...</td>\n",
       "      <td>NaN</td>\n",
       "      <td>NaN</td>\n",
       "      <td>NaN</td>\n",
       "      <td>NaN</td>\n",
       "      <td>NaN</td>\n",
       "      <td>NaN</td>\n",
       "      <td>NaN</td>\n",
       "      <td>NaN</td>\n",
       "      <td>NaN</td>\n",
       "      <td>NaN</td>\n",
       "    </tr>\n",
       "    <tr>\n",
       "      <th>2</th>\n",
       "      <td>Paciente105</td>\n",
       "      <td>N</td>\n",
       "      <td>N</td>\n",
       "      <td>N</td>\n",
       "      <td>N</td>\n",
       "      <td>N</td>\n",
       "      <td>N</td>\n",
       "      <td>N</td>\n",
       "      <td>N</td>\n",
       "      <td>N</td>\n",
       "      <td>...</td>\n",
       "      <td>NaN</td>\n",
       "      <td>NaN</td>\n",
       "      <td>NaN</td>\n",
       "      <td>NaN</td>\n",
       "      <td>NaN</td>\n",
       "      <td>NaN</td>\n",
       "      <td>NaN</td>\n",
       "      <td>NaN</td>\n",
       "      <td>NaN</td>\n",
       "      <td>NaN</td>\n",
       "    </tr>\n",
       "    <tr>\n",
       "      <th>3</th>\n",
       "      <td>Paciente111</td>\n",
       "      <td>N</td>\n",
       "      <td>N</td>\n",
       "      <td>N</td>\n",
       "      <td>N</td>\n",
       "      <td>N</td>\n",
       "      <td>N</td>\n",
       "      <td>N</td>\n",
       "      <td>N</td>\n",
       "      <td>N</td>\n",
       "      <td>...</td>\n",
       "      <td>NaN</td>\n",
       "      <td>NaN</td>\n",
       "      <td>NaN</td>\n",
       "      <td>NaN</td>\n",
       "      <td>NaN</td>\n",
       "      <td>NaN</td>\n",
       "      <td>NaN</td>\n",
       "      <td>NaN</td>\n",
       "      <td>NaN</td>\n",
       "      <td>NaN</td>\n",
       "    </tr>\n",
       "    <tr>\n",
       "      <th>4</th>\n",
       "      <td>Paciente113</td>\n",
       "      <td>N</td>\n",
       "      <td>N</td>\n",
       "      <td>N</td>\n",
       "      <td>N</td>\n",
       "      <td>N</td>\n",
       "      <td>N</td>\n",
       "      <td>N</td>\n",
       "      <td>N</td>\n",
       "      <td>N</td>\n",
       "      <td>...</td>\n",
       "      <td>NaN</td>\n",
       "      <td>NaN</td>\n",
       "      <td>NaN</td>\n",
       "      <td>NaN</td>\n",
       "      <td>NaN</td>\n",
       "      <td>NaN</td>\n",
       "      <td>NaN</td>\n",
       "      <td>NaN</td>\n",
       "      <td>NaN</td>\n",
       "      <td>NaN</td>\n",
       "    </tr>\n",
       "  </tbody>\n",
       "</table>\n",
       "<p>5 rows × 3252 columns</p>\n",
       "</div>"
      ],
      "text/plain": [
       "    Unnamed: 0  0  1  2  3  4  5  6  7  8  ... 3241 3242 3243 3244 3245 3246  \\\n",
       "0  Paciente100  N  N  N  N  N  N  N  S  N  ...  NaN  NaN  NaN  NaN  NaN  NaN   \n",
       "1  Paciente103  N  N  N  N  N  N  N  N  N  ...  NaN  NaN  NaN  NaN  NaN  NaN   \n",
       "2  Paciente105  N  N  N  N  N  N  N  N  N  ...  NaN  NaN  NaN  NaN  NaN  NaN   \n",
       "3  Paciente111  N  N  N  N  N  N  N  N  N  ...  NaN  NaN  NaN  NaN  NaN  NaN   \n",
       "4  Paciente113  N  N  N  N  N  N  N  N  N  ...  NaN  NaN  NaN  NaN  NaN  NaN   \n",
       "\n",
       "  3247 3248 3249 3250  \n",
       "0  NaN  NaN  NaN  NaN  \n",
       "1  NaN  NaN  NaN  NaN  \n",
       "2  NaN  NaN  NaN  NaN  \n",
       "3  NaN  NaN  NaN  NaN  \n",
       "4  NaN  NaN  NaN  NaN  \n",
       "\n",
       "[5 rows x 3252 columns]"
      ]
     },
     "execution_count": 28,
     "metadata": {},
     "output_type": "execute_result"
    }
   ],
   "source": [
    "rotulos_teste.head()"
   ]
  },
  {
   "cell_type": "markdown",
   "id": "7af45051",
   "metadata": {},
   "source": [
    "Para os dados de teste vamos precisar realizar o mesmo procedimento realizado com os dados de treino, primeiramente, vamos utilizar a função da transformada de fourier."
   ]
  },
  {
   "cell_type": "code",
   "execution_count": 29,
   "id": "e8cb8360",
   "metadata": {},
   "outputs": [],
   "source": [
    "ecg_test = ecg_teste.iloc[: , 1:].to_numpy()\n",
    "pos_r_teste = n_rotulos_teste.iloc[: , 1:].to_numpy()\n",
    "\n",
    "ecg_teste_f, num_batimentos_teste = fourier_transform(ecg_test, pos_r_teste, mean_rr)"
   ]
  },
  {
   "cell_type": "markdown",
   "id": "337876b5",
   "metadata": {},
   "source": [
    "Utilizar o mesmo número de batimentos do teste para os rótulos."
   ]
  },
  {
   "cell_type": "code",
   "execution_count": 30,
   "id": "fb93587f",
   "metadata": {},
   "outputs": [
    {
     "name": "stdout",
     "output_type": "stream",
     "text": [
      "(33396, 1)\n"
     ]
    }
   ],
   "source": [
    "rotulos_test = rotulos_teste.iloc[: , 1:].to_numpy()\n",
    "\n",
    "rotulos_test = rotulos_test[:, :num_batimentos_teste]\n",
    "Y_teste = np.reshape(rotulos_test, (-1, 1))\n",
    "print(Y_teste.shape)"
   ]
  },
  {
   "cell_type": "markdown",
   "id": "846c2a79",
   "metadata": {},
   "source": [
    "Transformar o rótulo de teste em 0's e 1's"
   ]
  },
  {
   "cell_type": "code",
   "execution_count": 31,
   "id": "5b051886",
   "metadata": {},
   "outputs": [
    {
     "name": "stderr",
     "output_type": "stream",
     "text": [
      "C:\\Users\\jean_\\anaconda3\\lib\\site-packages\\sklearn\\preprocessing\\_label.py:115: DataConversionWarning: A column-vector y was passed when a 1d array was expected. Please change the shape of y to (n_samples, ), for example using ravel().\n",
      "  y = column_or_1d(y, warn=True)\n"
     ]
    }
   ],
   "source": [
    "# integer encode\n",
    "label_encoder = LabelEncoder()\n",
    "rotulo_teste = label_encoder.fit_transform(Y_teste)\n",
    "\n",
    "for i in range(len(rotulo_teste)):\n",
    "    if rotulo_teste[i] != 1:\n",
    "        rotulo_teste[i] = 0"
   ]
  },
  {
   "cell_type": "code",
   "execution_count": 32,
   "id": "27d2f21a",
   "metadata": {},
   "outputs": [
    {
     "data": {
      "text/html": [
       "<div>\n",
       "<style scoped>\n",
       "    .dataframe tbody tr th:only-of-type {\n",
       "        vertical-align: middle;\n",
       "    }\n",
       "\n",
       "    .dataframe tbody tr th {\n",
       "        vertical-align: top;\n",
       "    }\n",
       "\n",
       "    .dataframe thead th {\n",
       "        text-align: right;\n",
       "    }\n",
       "</style>\n",
       "<table border=\"1\" class=\"dataframe\">\n",
       "  <thead>\n",
       "    <tr style=\"text-align: right;\">\n",
       "      <th></th>\n",
       "      <th>0</th>\n",
       "      <th>1</th>\n",
       "      <th>2</th>\n",
       "      <th>3</th>\n",
       "      <th>4</th>\n",
       "      <th>5</th>\n",
       "      <th>6</th>\n",
       "      <th>7</th>\n",
       "      <th>8</th>\n",
       "      <th>9</th>\n",
       "      <th>...</th>\n",
       "      <th>269</th>\n",
       "      <th>270</th>\n",
       "      <th>271</th>\n",
       "      <th>272</th>\n",
       "      <th>273</th>\n",
       "      <th>274</th>\n",
       "      <th>275</th>\n",
       "      <th>276</th>\n",
       "      <th>277</th>\n",
       "      <th>278</th>\n",
       "    </tr>\n",
       "  </thead>\n",
       "  <tbody>\n",
       "    <tr>\n",
       "      <th>0</th>\n",
       "      <td>82.720</td>\n",
       "      <td>4.690930</td>\n",
       "      <td>4.732745</td>\n",
       "      <td>1.031115</td>\n",
       "      <td>3.874399</td>\n",
       "      <td>4.416373</td>\n",
       "      <td>4.412109</td>\n",
       "      <td>4.593898</td>\n",
       "      <td>3.304274</td>\n",
       "      <td>3.404725</td>\n",
       "      <td>...</td>\n",
       "      <td>3.021703</td>\n",
       "      <td>3.404725</td>\n",
       "      <td>3.304274</td>\n",
       "      <td>4.593898</td>\n",
       "      <td>4.412109</td>\n",
       "      <td>4.416373</td>\n",
       "      <td>3.874399</td>\n",
       "      <td>1.031115</td>\n",
       "      <td>4.732745</td>\n",
       "      <td>4.690930</td>\n",
       "    </tr>\n",
       "    <tr>\n",
       "      <th>1</th>\n",
       "      <td>94.030</td>\n",
       "      <td>8.871928</td>\n",
       "      <td>7.016732</td>\n",
       "      <td>0.613415</td>\n",
       "      <td>5.295921</td>\n",
       "      <td>6.217302</td>\n",
       "      <td>5.333247</td>\n",
       "      <td>6.612683</td>\n",
       "      <td>4.822674</td>\n",
       "      <td>5.384967</td>\n",
       "      <td>...</td>\n",
       "      <td>5.440030</td>\n",
       "      <td>5.384967</td>\n",
       "      <td>4.822674</td>\n",
       "      <td>6.612683</td>\n",
       "      <td>5.333247</td>\n",
       "      <td>6.217302</td>\n",
       "      <td>5.295921</td>\n",
       "      <td>0.613415</td>\n",
       "      <td>7.016732</td>\n",
       "      <td>8.871928</td>\n",
       "    </tr>\n",
       "    <tr>\n",
       "      <th>2</th>\n",
       "      <td>98.595</td>\n",
       "      <td>5.059089</td>\n",
       "      <td>4.078333</td>\n",
       "      <td>3.805582</td>\n",
       "      <td>5.255100</td>\n",
       "      <td>6.792027</td>\n",
       "      <td>4.309640</td>\n",
       "      <td>4.595290</td>\n",
       "      <td>4.893863</td>\n",
       "      <td>4.352387</td>\n",
       "      <td>...</td>\n",
       "      <td>5.313206</td>\n",
       "      <td>4.352387</td>\n",
       "      <td>4.893863</td>\n",
       "      <td>4.595290</td>\n",
       "      <td>4.309640</td>\n",
       "      <td>6.792027</td>\n",
       "      <td>5.255100</td>\n",
       "      <td>3.805582</td>\n",
       "      <td>4.078333</td>\n",
       "      <td>5.059089</td>\n",
       "    </tr>\n",
       "    <tr>\n",
       "      <th>3</th>\n",
       "      <td>92.545</td>\n",
       "      <td>4.637689</td>\n",
       "      <td>4.714341</td>\n",
       "      <td>2.643671</td>\n",
       "      <td>4.878267</td>\n",
       "      <td>6.197012</td>\n",
       "      <td>3.806297</td>\n",
       "      <td>3.908436</td>\n",
       "      <td>4.215327</td>\n",
       "      <td>3.840085</td>\n",
       "      <td>...</td>\n",
       "      <td>4.552664</td>\n",
       "      <td>3.840085</td>\n",
       "      <td>4.215327</td>\n",
       "      <td>3.908436</td>\n",
       "      <td>3.806297</td>\n",
       "      <td>6.197012</td>\n",
       "      <td>4.878267</td>\n",
       "      <td>2.643671</td>\n",
       "      <td>4.714341</td>\n",
       "      <td>4.637689</td>\n",
       "    </tr>\n",
       "    <tr>\n",
       "      <th>4</th>\n",
       "      <td>95.340</td>\n",
       "      <td>8.580335</td>\n",
       "      <td>3.386820</td>\n",
       "      <td>2.910972</td>\n",
       "      <td>4.562776</td>\n",
       "      <td>5.477819</td>\n",
       "      <td>2.942469</td>\n",
       "      <td>3.314020</td>\n",
       "      <td>3.565748</td>\n",
       "      <td>3.299464</td>\n",
       "      <td>...</td>\n",
       "      <td>4.023548</td>\n",
       "      <td>3.299464</td>\n",
       "      <td>3.565748</td>\n",
       "      <td>3.314020</td>\n",
       "      <td>2.942469</td>\n",
       "      <td>5.477819</td>\n",
       "      <td>4.562776</td>\n",
       "      <td>2.910972</td>\n",
       "      <td>3.386820</td>\n",
       "      <td>8.580335</td>\n",
       "    </tr>\n",
       "  </tbody>\n",
       "</table>\n",
       "<p>5 rows × 279 columns</p>\n",
       "</div>"
      ],
      "text/plain": [
       "      0         1         2         3         4         5         6    \\\n",
       "0  82.720  4.690930  4.732745  1.031115  3.874399  4.416373  4.412109   \n",
       "1  94.030  8.871928  7.016732  0.613415  5.295921  6.217302  5.333247   \n",
       "2  98.595  5.059089  4.078333  3.805582  5.255100  6.792027  4.309640   \n",
       "3  92.545  4.637689  4.714341  2.643671  4.878267  6.197012  3.806297   \n",
       "4  95.340  8.580335  3.386820  2.910972  4.562776  5.477819  2.942469   \n",
       "\n",
       "        7         8         9    ...       269       270       271       272  \\\n",
       "0  4.593898  3.304274  3.404725  ...  3.021703  3.404725  3.304274  4.593898   \n",
       "1  6.612683  4.822674  5.384967  ...  5.440030  5.384967  4.822674  6.612683   \n",
       "2  4.595290  4.893863  4.352387  ...  5.313206  4.352387  4.893863  4.595290   \n",
       "3  3.908436  4.215327  3.840085  ...  4.552664  3.840085  4.215327  3.908436   \n",
       "4  3.314020  3.565748  3.299464  ...  4.023548  3.299464  3.565748  3.314020   \n",
       "\n",
       "        273       274       275       276       277       278  \n",
       "0  4.412109  4.416373  3.874399  1.031115  4.732745  4.690930  \n",
       "1  5.333247  6.217302  5.295921  0.613415  7.016732  8.871928  \n",
       "2  4.309640  6.792027  5.255100  3.805582  4.078333  5.059089  \n",
       "3  3.806297  6.197012  4.878267  2.643671  4.714341  4.637689  \n",
       "4  2.942469  5.477819  4.562776  2.910972  3.386820  8.580335  \n",
       "\n",
       "[5 rows x 279 columns]"
      ]
     },
     "execution_count": 32,
     "metadata": {},
     "output_type": "execute_result"
    }
   ],
   "source": [
    "df_teste = pd.DataFrame(ecg_teste_f)\n",
    "df_teste.head()"
   ]
  },
  {
   "cell_type": "code",
   "execution_count": 33,
   "id": "fccb71a4",
   "metadata": {},
   "outputs": [
    {
     "data": {
      "text/html": [
       "<div>\n",
       "<style scoped>\n",
       "    .dataframe tbody tr th:only-of-type {\n",
       "        vertical-align: middle;\n",
       "    }\n",
       "\n",
       "    .dataframe tbody tr th {\n",
       "        vertical-align: top;\n",
       "    }\n",
       "\n",
       "    .dataframe thead th {\n",
       "        text-align: right;\n",
       "    }\n",
       "</style>\n",
       "<table border=\"1\" class=\"dataframe\">\n",
       "  <thead>\n",
       "    <tr style=\"text-align: right;\">\n",
       "      <th></th>\n",
       "      <th>Rotulos</th>\n",
       "    </tr>\n",
       "  </thead>\n",
       "  <tbody>\n",
       "    <tr>\n",
       "      <th>0</th>\n",
       "      <td>1</td>\n",
       "    </tr>\n",
       "    <tr>\n",
       "      <th>1</th>\n",
       "      <td>1</td>\n",
       "    </tr>\n",
       "    <tr>\n",
       "      <th>2</th>\n",
       "      <td>1</td>\n",
       "    </tr>\n",
       "    <tr>\n",
       "      <th>3</th>\n",
       "      <td>1</td>\n",
       "    </tr>\n",
       "    <tr>\n",
       "      <th>4</th>\n",
       "      <td>1</td>\n",
       "    </tr>\n",
       "  </tbody>\n",
       "</table>\n",
       "</div>"
      ],
      "text/plain": [
       "   Rotulos\n",
       "0        1\n",
       "1        1\n",
       "2        1\n",
       "3        1\n",
       "4        1"
      ]
     },
     "execution_count": 33,
     "metadata": {},
     "output_type": "execute_result"
    }
   ],
   "source": [
    "df_rotulo_teste = pd.DataFrame(rotulo_teste, columns=['Rotulos'])\n",
    "df_rotulo_teste.head()"
   ]
  },
  {
   "cell_type": "markdown",
   "id": "448aed3d",
   "metadata": {},
   "source": [
    "Por fim, vamos realizar a predição."
   ]
  },
  {
   "cell_type": "code",
   "execution_count": 34,
   "id": "cb86f68c",
   "metadata": {},
   "outputs": [
    {
     "name": "stdout",
     "output_type": "stream",
     "text": [
      "1044/1044 [==============================] - 1s 1ms/step\n"
     ]
    }
   ],
   "source": [
    "y_valid = (model.predict(df_teste) > 0.5)"
   ]
  },
  {
   "cell_type": "markdown",
   "id": "b1fb39d0",
   "metadata": {},
   "source": [
    "Para visualizar melhor, vamos visualizar a matriz de confusão e as medidas de desempenho."
   ]
  },
  {
   "cell_type": "code",
   "execution_count": 35,
   "id": "3877fb83",
   "metadata": {},
   "outputs": [
    {
     "name": "stdout",
     "output_type": "stream",
     "text": [
      "[[ 1480  2019]\n",
      " [ 1362 28535]]\n",
      "              precision    recall  f1-score   support\n",
      "\n",
      "           0       0.52      0.42      0.47      3499\n",
      "           1       0.93      0.95      0.94     29897\n",
      "\n",
      "    accuracy                           0.90     33396\n",
      "   macro avg       0.73      0.69      0.71     33396\n",
      "weighted avg       0.89      0.90      0.89     33396\n",
      "\n"
     ]
    }
   ],
   "source": [
    "# from sklearn.metrics import confusion_matrix\n",
    "from sklearn.metrics import classification_report,confusion_matrix\n",
    "matrix_confusion = confusion_matrix(rotulo_teste, y_valid)\n",
    "print(matrix_confusion)\n",
    "print(classification_report(rotulo_teste,y_valid))"
   ]
  },
  {
   "cell_type": "markdown",
   "id": "5324a1f4",
   "metadata": {},
   "source": [
    "Como podemos verificar, a acurácia chegou a 90%, um valor bem alto, contudo, como temos a maior parte dos dados como normais, esse valor pode enganar. Uma medida importante a se notar é a precisão, vemos que o modelo é muito bom em acertar quando o batimento é normal, diferente para quando há arritmia, tendo uma precisão de 52%."
   ]
  },
  {
   "cell_type": "markdown",
   "id": "15b1bee3",
   "metadata": {},
   "source": [
    "# Classificador multiclasse\n",
    "\n",
    "## Pré-processamento\n",
    "\n",
    "A segunda parte do projeto é fazer um classificador multiclasse. O objetivo é classificar se um batimento é da classe **N**, **S** ou **V**.\n",
    "\n",
    "Os dados da entrada serão iguais ao classificador binário, o módulo da transformada de fourier, o que será necessário alterar serão os rótulos. \n",
    "\n",
    "Vamos criar uma função para transformar os rótulos de treino e de teste em uma matriz coluna que vai identificar **N=0**, **S=1** e **V=3**."
   ]
  },
  {
   "cell_type": "code",
   "execution_count": 36,
   "id": "bbd85922",
   "metadata": {},
   "outputs": [],
   "source": [
    "def rotulos_inteiro(num_batimentos, ecg, rotulos):\n",
    "    \n",
    "    matriz_rotulos = np.zeros((num_batimentos*len(ecg),1))\n",
    "\n",
    "    n = 0\n",
    "    for i in range(len(ecg)):\n",
    "        for j in range(num_batimentos):\n",
    "            if(rotulos[i,j] == 'N'):\n",
    "                x = 0\n",
    "            elif(rotulos[i,j] == 'S'):\n",
    "                x = 1\n",
    "            elif(rotulos[i,j] == 'V'):\n",
    "                x = 2\n",
    "            else: \n",
    "                x = 0\n",
    "            matriz_rotulos[n,0] = x\n",
    "            n = n+1\n",
    "    return matriz_rotulos"
   ]
  },
  {
   "cell_type": "code",
   "execution_count": 37,
   "id": "6f64d505",
   "metadata": {},
   "outputs": [
    {
     "name": "stdout",
     "output_type": "stream",
     "text": [
      "(35618, 1)\n"
     ]
    }
   ],
   "source": [
    "rotulos_treino = rotulos_inteiro(num_batimentos, ecg, rotulos)\n",
    "print(rotulos_treino.shape)"
   ]
  },
  {
   "cell_type": "markdown",
   "id": "ceb83911",
   "metadata": {},
   "source": [
    "Vamos aplicar SMOTE para balancear os dados."
   ]
  },
  {
   "cell_type": "code",
   "execution_count": 38,
   "id": "4424e578",
   "metadata": {},
   "outputs": [],
   "source": [
    "oversample = SMOTE(k_neighbors=2)\n",
    "df_MC, y_MC = oversample.fit_resample(df_train, pd.DataFrame(rotulos_treino))"
   ]
  },
  {
   "cell_type": "markdown",
   "id": "9bbac904",
   "metadata": {},
   "source": [
    "# Classificação\n",
    "\n",
    "Vamos separar em dados de treino e dados de teste para o cross-validation."
   ]
  },
  {
   "cell_type": "code",
   "execution_count": 39,
   "id": "75efbd52",
   "metadata": {},
   "outputs": [],
   "source": [
    "from sklearn.model_selection import train_test_split\n",
    "\n",
    "X_train_MC,X_test_MC,y_train_MC,y_test_MC = train_test_split(df_MC,y_MC,test_size = 0.33, random_state=0)"
   ]
  },
  {
   "cell_type": "code",
   "execution_count": 40,
   "id": "32906e33",
   "metadata": {},
   "outputs": [],
   "source": [
    "y_train_MC = pd.get_dummies(y_train_MC[0])\n",
    "y_test_MC = pd.get_dummies(y_test_MC[0])"
   ]
  },
  {
   "cell_type": "markdown",
   "id": "6d6965ab",
   "metadata": {},
   "source": [
    "O modelo que será utilizado para esse caso vai ser uma rede MLP, igual ao anterior, contudo, terá uma camada a mais com 50 neurônios, em relação ao anterior e a função de ativação da saída será a softmax, mais adequada para o caso de multiclasse."
   ]
  },
  {
   "cell_type": "code",
   "execution_count": 41,
   "id": "e1ce6240",
   "metadata": {},
   "outputs": [],
   "source": [
    "initializer = HeUniform() \n",
    "modelMC = Sequential()\n",
    "modelMC.add(Dense(30, input_shape=(mean_rr-1,), activation='relu', kernel_initializer=initializer))\n",
    "modelMC.add(Dropout(rate=0.25))\n",
    "modelMC.add(Dense(50, activation='relu'))\n",
    "modelMC.add(Dropout(rate=0.25))\n",
    "modelMC.add(Dense(50, activation='relu'))\n",
    "modelMC.add(Dropout(rate=0.25))\n",
    "modelMC.add(Dense(3, activation='softmax'))\n",
    "\n",
    "# Compile model\n",
    "modelMC.compile(loss='binary_crossentropy', optimizer='adam', metrics=['accuracy'])"
   ]
  },
  {
   "cell_type": "code",
   "execution_count": 42,
   "id": "9047973c",
   "metadata": {},
   "outputs": [
    {
     "name": "stdout",
     "output_type": "stream",
     "text": [
      "Epoch 1/100\n",
      "164/164 [==============================] - 2s 7ms/step - loss: 0.6582 - accuracy: 0.5593 - val_loss: 0.4048 - val_accuracy: 0.6776\n",
      "Epoch 2/100\n",
      "164/164 [==============================] - 1s 5ms/step - loss: 0.4170 - accuracy: 0.6726 - val_loss: 0.3309 - val_accuracy: 0.7512\n",
      "Epoch 3/100\n",
      "164/164 [==============================] - 1s 5ms/step - loss: 0.3629 - accuracy: 0.7181 - val_loss: 0.3091 - val_accuracy: 0.7738\n",
      "Epoch 4/100\n",
      "164/164 [==============================] - 1s 5ms/step - loss: 0.3396 - accuracy: 0.7361 - val_loss: 0.2935 - val_accuracy: 0.7853\n",
      "Epoch 5/100\n",
      "164/164 [==============================] - 1s 5ms/step - loss: 0.3253 - accuracy: 0.7509 - val_loss: 0.2844 - val_accuracy: 0.7972\n",
      "Epoch 6/100\n",
      "164/164 [==============================] - 1s 5ms/step - loss: 0.3145 - accuracy: 0.7625 - val_loss: 0.2720 - val_accuracy: 0.8189\n",
      "Epoch 7/100\n",
      "164/164 [==============================] - 1s 5ms/step - loss: 0.3037 - accuracy: 0.7786 - val_loss: 0.2632 - val_accuracy: 0.8209\n",
      "Epoch 8/100\n",
      "164/164 [==============================] - 1s 5ms/step - loss: 0.2941 - accuracy: 0.7876 - val_loss: 0.2473 - val_accuracy: 0.8445\n",
      "Epoch 9/100\n",
      "164/164 [==============================] - 1s 5ms/step - loss: 0.2851 - accuracy: 0.7977 - val_loss: 0.2483 - val_accuracy: 0.8336\n",
      "Epoch 10/100\n",
      "164/164 [==============================] - 1s 5ms/step - loss: 0.2744 - accuracy: 0.8068 - val_loss: 0.2268 - val_accuracy: 0.8610\n",
      "Epoch 11/100\n",
      "164/164 [==============================] - 1s 5ms/step - loss: 0.2640 - accuracy: 0.8151 - val_loss: 0.2198 - val_accuracy: 0.8646\n",
      "Epoch 12/100\n",
      "164/164 [==============================] - 1s 5ms/step - loss: 0.2562 - accuracy: 0.8237 - val_loss: 0.2074 - val_accuracy: 0.8779\n",
      "Epoch 13/100\n",
      "164/164 [==============================] - 1s 5ms/step - loss: 0.2494 - accuracy: 0.8303 - val_loss: 0.2049 - val_accuracy: 0.8774\n",
      "Epoch 14/100\n",
      "164/164 [==============================] - 1s 5ms/step - loss: 0.2473 - accuracy: 0.8328 - val_loss: 0.2002 - val_accuracy: 0.8781\n",
      "Epoch 15/100\n",
      "164/164 [==============================] - 1s 5ms/step - loss: 0.2379 - accuracy: 0.8408 - val_loss: 0.2024 - val_accuracy: 0.8706\n",
      "Epoch 16/100\n",
      "164/164 [==============================] - 1s 5ms/step - loss: 0.2330 - accuracy: 0.8442 - val_loss: 0.1974 - val_accuracy: 0.8766\n",
      "Epoch 17/100\n",
      "164/164 [==============================] - 1s 5ms/step - loss: 0.2321 - accuracy: 0.8441 - val_loss: 0.1885 - val_accuracy: 0.8808\n",
      "Epoch 18/100\n",
      "164/164 [==============================] - 1s 5ms/step - loss: 0.2273 - accuracy: 0.8505 - val_loss: 0.1829 - val_accuracy: 0.8927\n",
      "Epoch 19/100\n",
      "164/164 [==============================] - 1s 5ms/step - loss: 0.2222 - accuracy: 0.8524 - val_loss: 0.1720 - val_accuracy: 0.9032\n",
      "Epoch 20/100\n",
      "164/164 [==============================] - 1s 5ms/step - loss: 0.2215 - accuracy: 0.8541 - val_loss: 0.1692 - val_accuracy: 0.9067\n",
      "Epoch 21/100\n",
      "164/164 [==============================] - 1s 5ms/step - loss: 0.2186 - accuracy: 0.8555 - val_loss: 0.1784 - val_accuracy: 0.8917\n",
      "Epoch 22/100\n",
      "164/164 [==============================] - 1s 5ms/step - loss: 0.2170 - accuracy: 0.8582 - val_loss: 0.1762 - val_accuracy: 0.9003\n",
      "Epoch 23/100\n",
      "164/164 [==============================] - 1s 5ms/step - loss: 0.2135 - accuracy: 0.8621 - val_loss: 0.1682 - val_accuracy: 0.9037\n",
      "Epoch 24/100\n",
      "164/164 [==============================] - 1s 5ms/step - loss: 0.2103 - accuracy: 0.8651 - val_loss: 0.1580 - val_accuracy: 0.9139\n",
      "Epoch 25/100\n",
      "164/164 [==============================] - 1s 6ms/step - loss: 0.2074 - accuracy: 0.8681 - val_loss: 0.1740 - val_accuracy: 0.9035\n",
      "Epoch 26/100\n",
      "164/164 [==============================] - 1s 5ms/step - loss: 0.2063 - accuracy: 0.8684 - val_loss: 0.1584 - val_accuracy: 0.9113\n",
      "Epoch 27/100\n",
      "164/164 [==============================] - 1s 5ms/step - loss: 0.2050 - accuracy: 0.8687 - val_loss: 0.1555 - val_accuracy: 0.9130\n",
      "Epoch 28/100\n",
      "164/164 [==============================] - 1s 6ms/step - loss: 0.2037 - accuracy: 0.8685 - val_loss: 0.1654 - val_accuracy: 0.9033\n",
      "Epoch 29/100\n",
      "164/164 [==============================] - 1s 6ms/step - loss: 0.2026 - accuracy: 0.8722 - val_loss: 0.1629 - val_accuracy: 0.9064\n",
      "Epoch 30/100\n",
      "164/164 [==============================] - 1s 6ms/step - loss: 0.1963 - accuracy: 0.8751 - val_loss: 0.1560 - val_accuracy: 0.9132\n",
      "Epoch 31/100\n",
      "164/164 [==============================] - 1s 5ms/step - loss: 0.1971 - accuracy: 0.8755 - val_loss: 0.1655 - val_accuracy: 0.9025\n",
      "Epoch 32/100\n",
      "164/164 [==============================] - 1s 6ms/step - loss: 0.1950 - accuracy: 0.8758 - val_loss: 0.1605 - val_accuracy: 0.9055\n",
      "Epoch 33/100\n",
      "164/164 [==============================] - 1s 5ms/step - loss: 0.1944 - accuracy: 0.8766 - val_loss: 0.1521 - val_accuracy: 0.9136\n",
      "Epoch 34/100\n",
      "164/164 [==============================] - 1s 5ms/step - loss: 0.1924 - accuracy: 0.8775 - val_loss: 0.1476 - val_accuracy: 0.9209\n",
      "Epoch 35/100\n",
      "164/164 [==============================] - 1s 5ms/step - loss: 0.1920 - accuracy: 0.8794 - val_loss: 0.1510 - val_accuracy: 0.9113\n",
      "Epoch 36/100\n",
      "164/164 [==============================] - 1s 5ms/step - loss: 0.1910 - accuracy: 0.8801 - val_loss: 0.1374 - val_accuracy: 0.9259\n",
      "Epoch 37/100\n",
      "164/164 [==============================] - 1s 5ms/step - loss: 0.1905 - accuracy: 0.8807 - val_loss: 0.1597 - val_accuracy: 0.9089\n",
      "Epoch 38/100\n",
      "164/164 [==============================] - 1s 5ms/step - loss: 0.1898 - accuracy: 0.8779 - val_loss: 0.1491 - val_accuracy: 0.9128\n",
      "Epoch 39/100\n",
      "164/164 [==============================] - 1s 5ms/step - loss: 0.1868 - accuracy: 0.8816 - val_loss: 0.1515 - val_accuracy: 0.9115\n",
      "Epoch 40/100\n",
      "164/164 [==============================] - 1s 5ms/step - loss: 0.1856 - accuracy: 0.8848 - val_loss: 0.1400 - val_accuracy: 0.9192\n",
      "Epoch 41/100\n",
      "164/164 [==============================] - 1s 5ms/step - loss: 0.1858 - accuracy: 0.8829 - val_loss: 0.1413 - val_accuracy: 0.9206\n",
      "Epoch 42/100\n",
      "164/164 [==============================] - 1s 5ms/step - loss: 0.1841 - accuracy: 0.8841 - val_loss: 0.1478 - val_accuracy: 0.9157\n",
      "Epoch 43/100\n",
      "164/164 [==============================] - 1s 5ms/step - loss: 0.1833 - accuracy: 0.8851 - val_loss: 0.1446 - val_accuracy: 0.9147\n",
      "Epoch 44/100\n",
      "164/164 [==============================] - 1s 5ms/step - loss: 0.1815 - accuracy: 0.8865 - val_loss: 0.1442 - val_accuracy: 0.9191\n",
      "Epoch 45/100\n",
      "164/164 [==============================] - 1s 5ms/step - loss: 0.1801 - accuracy: 0.8887 - val_loss: 0.1324 - val_accuracy: 0.9265\n",
      "Epoch 46/100\n",
      "164/164 [==============================] - 1s 5ms/step - loss: 0.1786 - accuracy: 0.8895 - val_loss: 0.1428 - val_accuracy: 0.9179\n",
      "Epoch 47/100\n",
      "164/164 [==============================] - 1s 5ms/step - loss: 0.1803 - accuracy: 0.8872 - val_loss: 0.1410 - val_accuracy: 0.9193\n",
      "Epoch 48/100\n",
      "164/164 [==============================] - 1s 5ms/step - loss: 0.1771 - accuracy: 0.8926 - val_loss: 0.1385 - val_accuracy: 0.9214\n",
      "Epoch 49/100\n",
      "164/164 [==============================] - 1s 5ms/step - loss: 0.1797 - accuracy: 0.8892 - val_loss: 0.1411 - val_accuracy: 0.9199\n",
      "Epoch 50/100\n",
      "164/164 [==============================] - 1s 5ms/step - loss: 0.1788 - accuracy: 0.8894 - val_loss: 0.1400 - val_accuracy: 0.9205\n",
      "Epoch 51/100\n",
      "164/164 [==============================] - 1s 5ms/step - loss: 0.1755 - accuracy: 0.8922 - val_loss: 0.1353 - val_accuracy: 0.9249\n",
      "Epoch 52/100\n",
      "164/164 [==============================] - 1s 5ms/step - loss: 0.1752 - accuracy: 0.8928 - val_loss: 0.1394 - val_accuracy: 0.9196\n",
      "Epoch 53/100\n",
      "164/164 [==============================] - 1s 5ms/step - loss: 0.1741 - accuracy: 0.8924 - val_loss: 0.1232 - val_accuracy: 0.9330\n",
      "Epoch 54/100\n",
      "164/164 [==============================] - 1s 5ms/step - loss: 0.1741 - accuracy: 0.8927 - val_loss: 0.1309 - val_accuracy: 0.9254\n",
      "Epoch 55/100\n",
      "164/164 [==============================] - 1s 5ms/step - loss: 0.1739 - accuracy: 0.8927 - val_loss: 0.1330 - val_accuracy: 0.9255\n",
      "Epoch 56/100\n",
      "164/164 [==============================] - 1s 5ms/step - loss: 0.1720 - accuracy: 0.8941 - val_loss: 0.1445 - val_accuracy: 0.9175\n",
      "Epoch 57/100\n",
      "164/164 [==============================] - 1s 5ms/step - loss: 0.1716 - accuracy: 0.8949 - val_loss: 0.1275 - val_accuracy: 0.9292\n"
     ]
    },
    {
     "name": "stdout",
     "output_type": "stream",
     "text": [
      "Epoch 58/100\n",
      "164/164 [==============================] - 1s 5ms/step - loss: 0.1705 - accuracy: 0.8969 - val_loss: 0.1308 - val_accuracy: 0.9263\n",
      "Epoch 59/100\n",
      "164/164 [==============================] - 1s 5ms/step - loss: 0.1697 - accuracy: 0.8960 - val_loss: 0.1290 - val_accuracy: 0.9297\n",
      "Epoch 60/100\n",
      "164/164 [==============================] - 1s 5ms/step - loss: 0.1707 - accuracy: 0.8945 - val_loss: 0.1265 - val_accuracy: 0.9306\n",
      "Epoch 61/100\n",
      "164/164 [==============================] - 1s 5ms/step - loss: 0.1698 - accuracy: 0.8957 - val_loss: 0.1433 - val_accuracy: 0.9164\n",
      "Epoch 62/100\n",
      "164/164 [==============================] - 1s 5ms/step - loss: 0.1668 - accuracy: 0.8983 - val_loss: 0.1291 - val_accuracy: 0.9271\n",
      "Epoch 63/100\n",
      "164/164 [==============================] - 1s 6ms/step - loss: 0.1675 - accuracy: 0.8978 - val_loss: 0.1297 - val_accuracy: 0.9282\n",
      "Epoch 64/100\n",
      "164/164 [==============================] - 1s 5ms/step - loss: 0.1670 - accuracy: 0.9002 - val_loss: 0.1305 - val_accuracy: 0.9265\n",
      "Epoch 65/100\n",
      "164/164 [==============================] - 1s 5ms/step - loss: 0.1647 - accuracy: 0.8996 - val_loss: 0.1280 - val_accuracy: 0.9287\n",
      "Epoch 66/100\n",
      "164/164 [==============================] - 1s 5ms/step - loss: 0.1638 - accuracy: 0.8994 - val_loss: 0.1283 - val_accuracy: 0.9291\n",
      "Epoch 67/100\n",
      "164/164 [==============================] - 1s 5ms/step - loss: 0.1639 - accuracy: 0.8995 - val_loss: 0.1477 - val_accuracy: 0.9098\n",
      "Epoch 68/100\n",
      "164/164 [==============================] - 1s 7ms/step - loss: 0.1636 - accuracy: 0.9013 - val_loss: 0.1216 - val_accuracy: 0.9329\n",
      "Epoch 69/100\n",
      "164/164 [==============================] - 1s 7ms/step - loss: 0.1615 - accuracy: 0.9018 - val_loss: 0.1194 - val_accuracy: 0.9352\n",
      "Epoch 70/100\n",
      "164/164 [==============================] - 1s 5ms/step - loss: 0.1614 - accuracy: 0.9026 - val_loss: 0.1229 - val_accuracy: 0.9306\n",
      "Epoch 71/100\n",
      "164/164 [==============================] - 1s 5ms/step - loss: 0.1605 - accuracy: 0.9047 - val_loss: 0.1363 - val_accuracy: 0.9241\n",
      "Epoch 72/100\n",
      "164/164 [==============================] - 1s 6ms/step - loss: 0.1638 - accuracy: 0.9022 - val_loss: 0.1203 - val_accuracy: 0.9350\n",
      "Epoch 73/100\n",
      "164/164 [==============================] - 1s 5ms/step - loss: 0.1618 - accuracy: 0.9032 - val_loss: 0.1257 - val_accuracy: 0.9302\n",
      "Epoch 74/100\n",
      "164/164 [==============================] - 1s 5ms/step - loss: 0.1635 - accuracy: 0.9022 - val_loss: 0.1311 - val_accuracy: 0.9273\n",
      "Epoch 75/100\n",
      "164/164 [==============================] - 1s 6ms/step - loss: 0.1629 - accuracy: 0.9024 - val_loss: 0.1234 - val_accuracy: 0.9317\n",
      "Epoch 76/100\n",
      "164/164 [==============================] - 1s 5ms/step - loss: 0.1597 - accuracy: 0.9049 - val_loss: 0.1279 - val_accuracy: 0.9296\n",
      "Epoch 77/100\n",
      "164/164 [==============================] - 1s 6ms/step - loss: 0.1608 - accuracy: 0.9028 - val_loss: 0.1369 - val_accuracy: 0.9241\n",
      "Epoch 78/100\n",
      "164/164 [==============================] - 1s 5ms/step - loss: 0.1593 - accuracy: 0.9040 - val_loss: 0.1276 - val_accuracy: 0.9315\n",
      "Epoch 79/100\n",
      "164/164 [==============================] - 1s 6ms/step - loss: 0.1621 - accuracy: 0.9027 - val_loss: 0.1157 - val_accuracy: 0.9355\n",
      "Epoch 80/100\n",
      "164/164 [==============================] - 1s 5ms/step - loss: 0.1609 - accuracy: 0.9040 - val_loss: 0.1199 - val_accuracy: 0.9332\n",
      "Epoch 81/100\n",
      "164/164 [==============================] - 1s 5ms/step - loss: 0.1577 - accuracy: 0.9054 - val_loss: 0.1103 - val_accuracy: 0.9418\n",
      "Epoch 82/100\n",
      "164/164 [==============================] - 1s 5ms/step - loss: 0.1594 - accuracy: 0.9031 - val_loss: 0.1255 - val_accuracy: 0.9322\n",
      "Epoch 83/100\n",
      "164/164 [==============================] - 1s 5ms/step - loss: 0.1576 - accuracy: 0.9060 - val_loss: 0.1131 - val_accuracy: 0.9384\n",
      "Epoch 84/100\n",
      "164/164 [==============================] - 1s 5ms/step - loss: 0.1569 - accuracy: 0.9066 - val_loss: 0.1177 - val_accuracy: 0.9350\n",
      "Epoch 85/100\n",
      "164/164 [==============================] - 1s 6ms/step - loss: 0.1563 - accuracy: 0.9080 - val_loss: 0.1173 - val_accuracy: 0.9373\n",
      "Epoch 86/100\n",
      "164/164 [==============================] - 1s 6ms/step - loss: 0.1560 - accuracy: 0.9074 - val_loss: 0.1118 - val_accuracy: 0.9391\n",
      "Epoch 87/100\n",
      "164/164 [==============================] - 1s 5ms/step - loss: 0.1580 - accuracy: 0.9070 - val_loss: 0.1145 - val_accuracy: 0.9367\n",
      "Epoch 88/100\n",
      "164/164 [==============================] - 1s 5ms/step - loss: 0.1552 - accuracy: 0.9078 - val_loss: 0.1390 - val_accuracy: 0.9233\n",
      "Epoch 89/100\n",
      "164/164 [==============================] - 1s 5ms/step - loss: 0.1548 - accuracy: 0.9078 - val_loss: 0.1405 - val_accuracy: 0.9173\n",
      "Epoch 90/100\n",
      "164/164 [==============================] - 1s 5ms/step - loss: 0.1547 - accuracy: 0.9091 - val_loss: 0.1134 - val_accuracy: 0.9376\n",
      "Epoch 91/100\n",
      "164/164 [==============================] - 1s 5ms/step - loss: 0.1522 - accuracy: 0.9102 - val_loss: 0.1173 - val_accuracy: 0.9359\n",
      "Epoch 92/100\n",
      "164/164 [==============================] - 1s 5ms/step - loss: 0.1528 - accuracy: 0.9109 - val_loss: 0.1142 - val_accuracy: 0.9377\n",
      "Epoch 93/100\n",
      "164/164 [==============================] - 1s 5ms/step - loss: 0.1554 - accuracy: 0.9088 - val_loss: 0.1137 - val_accuracy: 0.9371\n",
      "Epoch 94/100\n",
      "164/164 [==============================] - 1s 5ms/step - loss: 0.1520 - accuracy: 0.9107 - val_loss: 0.1176 - val_accuracy: 0.9346\n",
      "Epoch 95/100\n",
      "164/164 [==============================] - 1s 5ms/step - loss: 0.1534 - accuracy: 0.9087 - val_loss: 0.1156 - val_accuracy: 0.9364\n",
      "Epoch 96/100\n",
      "164/164 [==============================] - 1s 5ms/step - loss: 0.1564 - accuracy: 0.9076 - val_loss: 0.1049 - val_accuracy: 0.9438\n",
      "Epoch 97/100\n",
      "164/164 [==============================] - 1s 5ms/step - loss: 0.1508 - accuracy: 0.9100 - val_loss: 0.1096 - val_accuracy: 0.9409\n",
      "Epoch 98/100\n",
      "164/164 [==============================] - 1s 5ms/step - loss: 0.1537 - accuracy: 0.9092 - val_loss: 0.1152 - val_accuracy: 0.9351\n",
      "Epoch 99/100\n",
      "164/164 [==============================] - 1s 5ms/step - loss: 0.1532 - accuracy: 0.9083 - val_loss: 0.1280 - val_accuracy: 0.9309\n",
      "Epoch 100/100\n",
      "164/164 [==============================] - 1s 5ms/step - loss: 0.1525 - accuracy: 0.9094 - val_loss: 0.1316 - val_accuracy: 0.9268\n"
     ]
    }
   ],
   "source": [
    "historyMC = modelMC.fit(X_train_MC, y_train_MC, batch_size=400, epochs=100, validation_data=(X_test_MC, y_test_MC))"
   ]
  },
  {
   "cell_type": "code",
   "execution_count": 43,
   "id": "50a953b5",
   "metadata": {},
   "outputs": [
    {
     "data": {
      "image/png": "[encoded data removed]",
      "text/plain": [
       "<Figure size 432x288 with 1 Axes>"
      ]
     },
     "metadata": {
      "needs_background": "light"
     },
     "output_type": "display_data"
    }
   ],
   "source": [
    "plt.plot(historyMC.history['loss'], label='Perda')\n",
    "plt.xlabel(\"Épocas\")\n",
    "plt.ylabel(\"Loss\")\n",
    "plt.legend()\n",
    "plt.show()"
   ]
  },
  {
   "cell_type": "markdown",
   "id": "6928737e",
   "metadata": {},
   "source": [
    "# Dados de teste\n",
    "\n",
    "Para os dados de teste, vamos aplicar a função para transformar os rótulos em inteiros e fazer a predição."
   ]
  },
  {
   "cell_type": "code",
   "execution_count": 44,
   "id": "5275817a",
   "metadata": {},
   "outputs": [],
   "source": [
    "rotulos_teste = rotulos_inteiro(num_batimentos_teste, ecg, rotulos)"
   ]
  },
  {
   "cell_type": "code",
   "execution_count": 45,
   "id": "6b4607a8",
   "metadata": {},
   "outputs": [
    {
     "name": "stdout",
     "output_type": "stream",
     "text": [
      "1044/1044 [==============================] - 1s 1ms/step\n"
     ]
    }
   ],
   "source": [
    "y_valid_MC = modelMC.predict(df_teste, verbose=1)"
   ]
  },
  {
   "cell_type": "code",
   "execution_count": 46,
   "id": "809e944b",
   "metadata": {},
   "outputs": [
    {
     "name": "stdout",
     "output_type": "stream",
     "text": [
      "[[22176  5494  2848]\n",
      " [  356   154    93]\n",
      " [ 1686   319   270]]\n",
      "              precision    recall  f1-score   support\n",
      "\n",
      "           N       0.73      0.92      0.81     24218\n",
      "           S       0.26      0.03      0.05      5967\n",
      "           V       0.12      0.08      0.10      3211\n",
      "\n",
      "    accuracy                           0.68     33396\n",
      "   macro avg       0.37      0.34      0.32     33396\n",
      "weighted avg       0.58      0.68      0.61     33396\n",
      "\n"
     ]
    }
   ],
   "source": [
    "df_teste_MC = pd.DataFrame(np.reshape(LabelEncoder().fit_transform(np.ravel(rotulos_teste)), [-1,1]))\n",
    "y_test = pd.get_dummies(df_teste_MC[0])\n",
    "target_names = ['N', 'S', 'V']\n",
    "y_test_MC = np.argmax(y_test.to_numpy(), axis=1)\n",
    "rotulo_teste_MC = np.argmax(y_valid_MC, axis=1)\n",
    "print(confusion_matrix(y_test_MC, rotulo_teste_MC))\n",
    "print(classification_report(rotulo_teste_MC, y_test_MC, target_names=target_names))"
   ]
  },
  {
   "cell_type": "markdown",
   "id": "8f63e999",
   "metadata": {},
   "source": [
    "A acurácia do modelo ficou em 68%, mas uma das medidas mais importantes para o modelo é a precisão e vemos que a precisão das arritmias não foram tão boas, com S com 26% e V com 12%."
   ]
  },
  {
   "cell_type": "code",
   "execution_count": null,
   "id": "c5e61558",
   "metadata": {},
   "outputs": [],
   "source": []
  }
 ],
 "metadata": {
  "kernelspec": {
   "display_name": "Python 3 (ipykernel)",
   "language": "python",
   "name": "python3"
  },
  "language_info": {
   "codemirror_mode": {
    "name": "ipython",
    "version": 3
   },
   "file_extension": ".py",
   "mimetype": "text/x-python",
   "name": "python",
   "nbconvert_exporter": "python",
   "pygments_lexer": "ipython3",
   "version": "3.9.12"
  }
 },
 "nbformat": 4,
 "nbformat_minor": 5
}
