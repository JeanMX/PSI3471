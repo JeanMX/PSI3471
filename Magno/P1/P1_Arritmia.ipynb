{
 "cells": [
  {
   "cell_type": "markdown",
   "id": "5b022650",
   "metadata": {},
   "source": [
    "# P1- Identificação de Arritmia cardíaca\n",
    "Jean Carlos Mello Xavier Faria - 11259628"
   ]
  },
  {
   "cell_type": "markdown",
   "id": "0423869e",
   "metadata": {},
   "source": [
    "Primeiramente, vamos importar as bibliotecas que utilizaremos durante o programa."
   ]
  },
  {
   "cell_type": "code",
   "execution_count": 1,
   "id": "d10ebad2",
   "metadata": {},
   "outputs": [],
   "source": [
    "import pandas as pd\n",
    "import matplotlib.pyplot as plt\n",
    "import numpy as np"
   ]
  },
  {
   "cell_type": "markdown",
   "id": "f61eb6b8",
   "metadata": {},
   "source": [
    "Vamos ler os arquivos de treino fornecidos."
   ]
  },
  {
   "cell_type": "code",
   "execution_count": 2,
   "id": "4ac81199",
   "metadata": {},
   "outputs": [],
   "source": [
    "ecg_treino = pd.read_pickle(\"ecg_treino.pickle\")\n",
    "rotulos_treino = pd.read_csv(\"rotulos_treino.csv\")\n",
    "n_rotulos_treino = pd.read_csv(\"n_rotulos_treino.csv\") "
   ]
  },
  {
   "cell_type": "markdown",
   "id": "062682fb",
   "metadata": {},
   "source": [
    "Agora, vamos visualizar os dados. Primeiramente, vamos verificar o ecg_treino."
   ]
  },
  {
   "cell_type": "code",
   "execution_count": 3,
   "id": "46c57c46",
   "metadata": {},
   "outputs": [
    {
     "data": {
      "text/html": [
       "<div>\n",
       "<style scoped>\n",
       "    .dataframe tbody tr th:only-of-type {\n",
       "        vertical-align: middle;\n",
       "    }\n",
       "\n",
       "    .dataframe tbody tr th {\n",
       "        vertical-align: top;\n",
       "    }\n",
       "\n",
       "    .dataframe thead th {\n",
       "        text-align: right;\n",
       "    }\n",
       "</style>\n",
       "<table border=\"1\" class=\"dataframe\">\n",
       "  <thead>\n",
       "    <tr style=\"text-align: right;\">\n",
       "      <th></th>\n",
       "      <th>Unnamed: 0</th>\n",
       "      <th>0</th>\n",
       "      <th>1</th>\n",
       "      <th>2</th>\n",
       "      <th>3</th>\n",
       "      <th>4</th>\n",
       "      <th>5</th>\n",
       "      <th>6</th>\n",
       "      <th>7</th>\n",
       "      <th>8</th>\n",
       "      <th>...</th>\n",
       "      <th>649990</th>\n",
       "      <th>649991</th>\n",
       "      <th>649992</th>\n",
       "      <th>649993</th>\n",
       "      <th>649994</th>\n",
       "      <th>649995</th>\n",
       "      <th>649996</th>\n",
       "      <th>649997</th>\n",
       "      <th>649998</th>\n",
       "      <th>649999</th>\n",
       "    </tr>\n",
       "  </thead>\n",
       "  <tbody>\n",
       "    <tr>\n",
       "      <th>0</th>\n",
       "      <td>Paciente101</td>\n",
       "      <td>-0.345</td>\n",
       "      <td>-0.345</td>\n",
       "      <td>-0.345</td>\n",
       "      <td>-0.345</td>\n",
       "      <td>-0.345</td>\n",
       "      <td>-0.345</td>\n",
       "      <td>-0.345</td>\n",
       "      <td>-0.345</td>\n",
       "      <td>-0.330</td>\n",
       "      <td>...</td>\n",
       "      <td>-0.300</td>\n",
       "      <td>-0.295</td>\n",
       "      <td>-0.285</td>\n",
       "      <td>-0.280</td>\n",
       "      <td>-0.285</td>\n",
       "      <td>-0.290</td>\n",
       "      <td>-0.295</td>\n",
       "      <td>-0.295</td>\n",
       "      <td>-0.290</td>\n",
       "      <td>0.00</td>\n",
       "    </tr>\n",
       "    <tr>\n",
       "      <th>1</th>\n",
       "      <td>Paciente106</td>\n",
       "      <td>-0.310</td>\n",
       "      <td>-0.310</td>\n",
       "      <td>-0.310</td>\n",
       "      <td>-0.310</td>\n",
       "      <td>-0.310</td>\n",
       "      <td>-0.310</td>\n",
       "      <td>-0.310</td>\n",
       "      <td>-0.310</td>\n",
       "      <td>-0.290</td>\n",
       "      <td>...</td>\n",
       "      <td>1.970</td>\n",
       "      <td>1.900</td>\n",
       "      <td>1.785</td>\n",
       "      <td>1.690</td>\n",
       "      <td>1.550</td>\n",
       "      <td>1.355</td>\n",
       "      <td>1.040</td>\n",
       "      <td>0.635</td>\n",
       "      <td>0.265</td>\n",
       "      <td>0.00</td>\n",
       "    </tr>\n",
       "    <tr>\n",
       "      <th>2</th>\n",
       "      <td>Paciente108</td>\n",
       "      <td>-0.125</td>\n",
       "      <td>-0.125</td>\n",
       "      <td>-0.125</td>\n",
       "      <td>-0.125</td>\n",
       "      <td>-0.125</td>\n",
       "      <td>-0.125</td>\n",
       "      <td>-0.125</td>\n",
       "      <td>-0.125</td>\n",
       "      <td>-0.135</td>\n",
       "      <td>...</td>\n",
       "      <td>-0.135</td>\n",
       "      <td>-0.110</td>\n",
       "      <td>-0.095</td>\n",
       "      <td>-0.110</td>\n",
       "      <td>-0.155</td>\n",
       "      <td>-0.165</td>\n",
       "      <td>-0.095</td>\n",
       "      <td>-0.010</td>\n",
       "      <td>0.040</td>\n",
       "      <td>0.00</td>\n",
       "    </tr>\n",
       "    <tr>\n",
       "      <th>3</th>\n",
       "      <td>Paciente109</td>\n",
       "      <td>0.175</td>\n",
       "      <td>0.175</td>\n",
       "      <td>0.175</td>\n",
       "      <td>0.175</td>\n",
       "      <td>0.175</td>\n",
       "      <td>0.175</td>\n",
       "      <td>0.175</td>\n",
       "      <td>0.175</td>\n",
       "      <td>0.175</td>\n",
       "      <td>...</td>\n",
       "      <td>-0.885</td>\n",
       "      <td>-0.885</td>\n",
       "      <td>-0.885</td>\n",
       "      <td>-0.875</td>\n",
       "      <td>-0.900</td>\n",
       "      <td>-0.900</td>\n",
       "      <td>-0.910</td>\n",
       "      <td>-0.920</td>\n",
       "      <td>-0.910</td>\n",
       "      <td>-1.28</td>\n",
       "    </tr>\n",
       "    <tr>\n",
       "      <th>4</th>\n",
       "      <td>Paciente112</td>\n",
       "      <td>-0.750</td>\n",
       "      <td>-0.750</td>\n",
       "      <td>-0.750</td>\n",
       "      <td>-0.750</td>\n",
       "      <td>-0.750</td>\n",
       "      <td>-0.750</td>\n",
       "      <td>-0.750</td>\n",
       "      <td>-0.760</td>\n",
       "      <td>-0.770</td>\n",
       "      <td>...</td>\n",
       "      <td>-0.940</td>\n",
       "      <td>-0.925</td>\n",
       "      <td>-0.915</td>\n",
       "      <td>-0.890</td>\n",
       "      <td>-0.885</td>\n",
       "      <td>-0.845</td>\n",
       "      <td>-0.820</td>\n",
       "      <td>-0.825</td>\n",
       "      <td>-0.810</td>\n",
       "      <td>-1.28</td>\n",
       "    </tr>\n",
       "  </tbody>\n",
       "</table>\n",
       "<p>5 rows × 650001 columns</p>\n",
       "</div>"
      ],
      "text/plain": [
       "    Unnamed: 0      0      1      2      3      4      5      6      7      8  \\\n",
       "0  Paciente101 -0.345 -0.345 -0.345 -0.345 -0.345 -0.345 -0.345 -0.345 -0.330   \n",
       "1  Paciente106 -0.310 -0.310 -0.310 -0.310 -0.310 -0.310 -0.310 -0.310 -0.290   \n",
       "2  Paciente108 -0.125 -0.125 -0.125 -0.125 -0.125 -0.125 -0.125 -0.125 -0.135   \n",
       "3  Paciente109  0.175  0.175  0.175  0.175  0.175  0.175  0.175  0.175  0.175   \n",
       "4  Paciente112 -0.750 -0.750 -0.750 -0.750 -0.750 -0.750 -0.750 -0.760 -0.770   \n",
       "\n",
       "   ...  649990  649991  649992  649993  649994  649995  649996  649997  \\\n",
       "0  ...  -0.300  -0.295  -0.285  -0.280  -0.285  -0.290  -0.295  -0.295   \n",
       "1  ...   1.970   1.900   1.785   1.690   1.550   1.355   1.040   0.635   \n",
       "2  ...  -0.135  -0.110  -0.095  -0.110  -0.155  -0.165  -0.095  -0.010   \n",
       "3  ...  -0.885  -0.885  -0.885  -0.875  -0.900  -0.900  -0.910  -0.920   \n",
       "4  ...  -0.940  -0.925  -0.915  -0.890  -0.885  -0.845  -0.820  -0.825   \n",
       "\n",
       "   649998  649999  \n",
       "0  -0.290    0.00  \n",
       "1   0.265    0.00  \n",
       "2   0.040    0.00  \n",
       "3  -0.910   -1.28  \n",
       "4  -0.810   -1.28  \n",
       "\n",
       "[5 rows x 650001 columns]"
      ]
     },
     "execution_count": 3,
     "metadata": {},
     "output_type": "execute_result"
    }
   ],
   "source": [
    "ecg_treino.head()"
   ]
  },
  {
   "cell_type": "code",
   "execution_count": 4,
   "id": "9894e010",
   "metadata": {},
   "outputs": [
    {
     "data": {
      "text/plain": [
       "(22, 650001)"
      ]
     },
     "execution_count": 4,
     "metadata": {},
     "output_type": "execute_result"
    }
   ],
   "source": [
    "ecg_treino.shape"
   ]
  },
  {
   "cell_type": "markdown",
   "id": "a115e3ec",
   "metadata": {},
   "source": [
    "Vemos que temos 22 pacientes, e cada um contém 650001 valores que são os valores para o eletrocardiograma dele. Podemos plotar o dois primeiros batimentos do paciente zero, utilizando a biblioteca matplotlib."
   ]
  },
  {
   "cell_type": "code",
   "execution_count": 5,
   "id": "8a956c66",
   "metadata": {},
   "outputs": [
    {
     "data": {
      "text/plain": [
       "[<matplotlib.lines.Line2D at 0x2580edc6a90>]"
      ]
     },
     "execution_count": 5,
     "metadata": {},
     "output_type": "execute_result"
    },
    {
     "data": {
      "image/png": "[encoded data removed]",
      "text/plain": [
       "<Figure size 432x288 with 1 Axes>"
      ]
     },
     "metadata": {
      "needs_background": "light"
     },
     "output_type": "display_data"
    }
   ],
   "source": [
    "plt.plot(ecg_treino.iloc[0].drop('Unnamed: 0').to_numpy()[:1200])"
   ]
  },
  {
   "cell_type": "markdown",
   "id": "af5eafc5",
   "metadata": {},
   "source": [
    "Em n_rotulos_treino temos a posição de cada pico R do eletrocardiograma. Vamos verificar o conteúdo nele."
   ]
  },
  {
   "cell_type": "code",
   "execution_count": 6,
   "id": "1859526f",
   "metadata": {},
   "outputs": [
    {
     "data": {
      "text/html": [
       "<div>\n",
       "<style scoped>\n",
       "    .dataframe tbody tr th:only-of-type {\n",
       "        vertical-align: middle;\n",
       "    }\n",
       "\n",
       "    .dataframe tbody tr th {\n",
       "        vertical-align: top;\n",
       "    }\n",
       "\n",
       "    .dataframe thead th {\n",
       "        text-align: right;\n",
       "    }\n",
       "</style>\n",
       "<table border=\"1\" class=\"dataframe\">\n",
       "  <thead>\n",
       "    <tr style=\"text-align: right;\">\n",
       "      <th></th>\n",
       "      <th>Unnamed: 0</th>\n",
       "      <th>0</th>\n",
       "      <th>1</th>\n",
       "      <th>2</th>\n",
       "      <th>3</th>\n",
       "      <th>4</th>\n",
       "      <th>5</th>\n",
       "      <th>6</th>\n",
       "      <th>7</th>\n",
       "      <th>8</th>\n",
       "      <th>...</th>\n",
       "      <th>3353</th>\n",
       "      <th>3354</th>\n",
       "      <th>3355</th>\n",
       "      <th>3356</th>\n",
       "      <th>3357</th>\n",
       "      <th>3358</th>\n",
       "      <th>3359</th>\n",
       "      <th>3360</th>\n",
       "      <th>3361</th>\n",
       "      <th>3362</th>\n",
       "    </tr>\n",
       "  </thead>\n",
       "  <tbody>\n",
       "    <tr>\n",
       "      <th>0</th>\n",
       "      <td>Paciente101</td>\n",
       "      <td>83</td>\n",
       "      <td>396</td>\n",
       "      <td>711</td>\n",
       "      <td>1032</td>\n",
       "      <td>1368</td>\n",
       "      <td>1712</td>\n",
       "      <td>2036</td>\n",
       "      <td>2349</td>\n",
       "      <td>2662</td>\n",
       "      <td>...</td>\n",
       "      <td>NaN</td>\n",
       "      <td>NaN</td>\n",
       "      <td>NaN</td>\n",
       "      <td>NaN</td>\n",
       "      <td>NaN</td>\n",
       "      <td>NaN</td>\n",
       "      <td>NaN</td>\n",
       "      <td>NaN</td>\n",
       "      <td>NaN</td>\n",
       "      <td>NaN</td>\n",
       "    </tr>\n",
       "    <tr>\n",
       "      <th>1</th>\n",
       "      <td>Paciente106</td>\n",
       "      <td>351</td>\n",
       "      <td>724</td>\n",
       "      <td>1086</td>\n",
       "      <td>1448</td>\n",
       "      <td>1829</td>\n",
       "      <td>2197</td>\n",
       "      <td>2571</td>\n",
       "      <td>2918</td>\n",
       "      <td>3234</td>\n",
       "      <td>...</td>\n",
       "      <td>NaN</td>\n",
       "      <td>NaN</td>\n",
       "      <td>NaN</td>\n",
       "      <td>NaN</td>\n",
       "      <td>NaN</td>\n",
       "      <td>NaN</td>\n",
       "      <td>NaN</td>\n",
       "      <td>NaN</td>\n",
       "      <td>NaN</td>\n",
       "      <td>NaN</td>\n",
       "    </tr>\n",
       "    <tr>\n",
       "      <th>2</th>\n",
       "      <td>Paciente108</td>\n",
       "      <td>88</td>\n",
       "      <td>442</td>\n",
       "      <td>789</td>\n",
       "      <td>1155</td>\n",
       "      <td>1493</td>\n",
       "      <td>1821</td>\n",
       "      <td>2157</td>\n",
       "      <td>2517</td>\n",
       "      <td>2889</td>\n",
       "      <td>...</td>\n",
       "      <td>NaN</td>\n",
       "      <td>NaN</td>\n",
       "      <td>NaN</td>\n",
       "      <td>NaN</td>\n",
       "      <td>NaN</td>\n",
       "      <td>NaN</td>\n",
       "      <td>NaN</td>\n",
       "      <td>NaN</td>\n",
       "      <td>NaN</td>\n",
       "      <td>NaN</td>\n",
       "    </tr>\n",
       "    <tr>\n",
       "      <th>3</th>\n",
       "      <td>Paciente109</td>\n",
       "      <td>111</td>\n",
       "      <td>343</td>\n",
       "      <td>571</td>\n",
       "      <td>807</td>\n",
       "      <td>1048</td>\n",
       "      <td>1287</td>\n",
       "      <td>1523</td>\n",
       "      <td>1765</td>\n",
       "      <td>1994</td>\n",
       "      <td>...</td>\n",
       "      <td>NaN</td>\n",
       "      <td>NaN</td>\n",
       "      <td>NaN</td>\n",
       "      <td>NaN</td>\n",
       "      <td>NaN</td>\n",
       "      <td>NaN</td>\n",
       "      <td>NaN</td>\n",
       "      <td>NaN</td>\n",
       "      <td>NaN</td>\n",
       "      <td>NaN</td>\n",
       "    </tr>\n",
       "    <tr>\n",
       "      <th>4</th>\n",
       "      <td>Paciente112</td>\n",
       "      <td>124</td>\n",
       "      <td>382</td>\n",
       "      <td>644</td>\n",
       "      <td>892</td>\n",
       "      <td>1149</td>\n",
       "      <td>1393</td>\n",
       "      <td>1648</td>\n",
       "      <td>1891</td>\n",
       "      <td>2147</td>\n",
       "      <td>...</td>\n",
       "      <td>NaN</td>\n",
       "      <td>NaN</td>\n",
       "      <td>NaN</td>\n",
       "      <td>NaN</td>\n",
       "      <td>NaN</td>\n",
       "      <td>NaN</td>\n",
       "      <td>NaN</td>\n",
       "      <td>NaN</td>\n",
       "      <td>NaN</td>\n",
       "      <td>NaN</td>\n",
       "    </tr>\n",
       "  </tbody>\n",
       "</table>\n",
       "<p>5 rows × 3364 columns</p>\n",
       "</div>"
      ],
      "text/plain": [
       "    Unnamed: 0    0    1     2     3     4     5     6     7     8  ...  3353  \\\n",
       "0  Paciente101   83  396   711  1032  1368  1712  2036  2349  2662  ...   NaN   \n",
       "1  Paciente106  351  724  1086  1448  1829  2197  2571  2918  3234  ...   NaN   \n",
       "2  Paciente108   88  442   789  1155  1493  1821  2157  2517  2889  ...   NaN   \n",
       "3  Paciente109  111  343   571   807  1048  1287  1523  1765  1994  ...   NaN   \n",
       "4  Paciente112  124  382   644   892  1149  1393  1648  1891  2147  ...   NaN   \n",
       "\n",
       "   3354  3355  3356  3357  3358  3359  3360  3361  3362  \n",
       "0   NaN   NaN   NaN   NaN   NaN   NaN   NaN   NaN   NaN  \n",
       "1   NaN   NaN   NaN   NaN   NaN   NaN   NaN   NaN   NaN  \n",
       "2   NaN   NaN   NaN   NaN   NaN   NaN   NaN   NaN   NaN  \n",
       "3   NaN   NaN   NaN   NaN   NaN   NaN   NaN   NaN   NaN  \n",
       "4   NaN   NaN   NaN   NaN   NaN   NaN   NaN   NaN   NaN  \n",
       "\n",
       "[5 rows x 3364 columns]"
      ]
     },
     "execution_count": 6,
     "metadata": {},
     "output_type": "execute_result"
    }
   ],
   "source": [
    "n_rotulos_treino.head()"
   ]
  },
  {
   "cell_type": "code",
   "execution_count": 7,
   "id": "bb28cb2b",
   "metadata": {},
   "outputs": [
    {
     "data": {
      "text/plain": [
       "(22, 3364)"
      ]
     },
     "execution_count": 7,
     "metadata": {},
     "output_type": "execute_result"
    }
   ],
   "source": [
    "n_rotulos_treino.shape"
   ]
  },
  {
   "cell_type": "markdown",
   "id": "ab14a26b",
   "metadata": {},
   "source": [
    "Observando o caso do Paciente 101, podemos plotar junto ao seus dois primeiros batimentos, a posição de cada ponto R."
   ]
  },
  {
   "cell_type": "code",
   "execution_count": 8,
   "id": "8bbd28d8",
   "metadata": {},
   "outputs": [
    {
     "data": {
      "text/plain": [
       "[(-0.5, 1.2)]"
      ]
     },
     "execution_count": 8,
     "metadata": {},
     "output_type": "execute_result"
    },
    {
     "data": {
      "image/png": "[encoded data removed]",
      "text/plain": [
       "<Figure size 432x288 with 1 Axes>"
      ]
     },
     "metadata": {
      "needs_background": "light"
     },
     "output_type": "display_data"
    }
   ],
   "source": [
    "plt.figure()\n",
    "ax = plt.subplot(1,1,1)\n",
    "plt.plot(ecg_treino.iloc[0].drop('Unnamed: 0').to_numpy()[:600])\n",
    "plt.plot([83, 83], [-0.8, 1.5], 'k--')\n",
    "plt.plot([396, 396], [-0.8, 1.5], 'k--')\n",
    "ax.set(ylim=(-0.5, 1.2))"
   ]
  },
  {
   "cell_type": "markdown",
   "id": "200b1b37",
   "metadata": {},
   "source": [
    "Por fim, vamos verificar o último arquivo fornecido para o treinamento, rotulos_treino. Ele é a saída que desejamos obter com o modelo."
   ]
  },
  {
   "cell_type": "code",
   "execution_count": 9,
   "id": "6fbe6b88",
   "metadata": {},
   "outputs": [
    {
     "data": {
      "text/html": [
       "<div>\n",
       "<style scoped>\n",
       "    .dataframe tbody tr th:only-of-type {\n",
       "        vertical-align: middle;\n",
       "    }\n",
       "\n",
       "    .dataframe tbody tr th {\n",
       "        vertical-align: top;\n",
       "    }\n",
       "\n",
       "    .dataframe thead th {\n",
       "        text-align: right;\n",
       "    }\n",
       "</style>\n",
       "<table border=\"1\" class=\"dataframe\">\n",
       "  <thead>\n",
       "    <tr style=\"text-align: right;\">\n",
       "      <th></th>\n",
       "      <th>Unnamed: 0</th>\n",
       "      <th>0</th>\n",
       "      <th>1</th>\n",
       "      <th>2</th>\n",
       "      <th>3</th>\n",
       "      <th>4</th>\n",
       "      <th>5</th>\n",
       "      <th>6</th>\n",
       "      <th>7</th>\n",
       "      <th>8</th>\n",
       "      <th>...</th>\n",
       "      <th>3353</th>\n",
       "      <th>3354</th>\n",
       "      <th>3355</th>\n",
       "      <th>3356</th>\n",
       "      <th>3357</th>\n",
       "      <th>3358</th>\n",
       "      <th>3359</th>\n",
       "      <th>3360</th>\n",
       "      <th>3361</th>\n",
       "      <th>3362</th>\n",
       "    </tr>\n",
       "  </thead>\n",
       "  <tbody>\n",
       "    <tr>\n",
       "      <th>0</th>\n",
       "      <td>Paciente101</td>\n",
       "      <td>N</td>\n",
       "      <td>N</td>\n",
       "      <td>N</td>\n",
       "      <td>N</td>\n",
       "      <td>N</td>\n",
       "      <td>N</td>\n",
       "      <td>N</td>\n",
       "      <td>N</td>\n",
       "      <td>N</td>\n",
       "      <td>...</td>\n",
       "      <td>NaN</td>\n",
       "      <td>NaN</td>\n",
       "      <td>NaN</td>\n",
       "      <td>NaN</td>\n",
       "      <td>NaN</td>\n",
       "      <td>NaN</td>\n",
       "      <td>NaN</td>\n",
       "      <td>NaN</td>\n",
       "      <td>NaN</td>\n",
       "      <td>NaN</td>\n",
       "    </tr>\n",
       "    <tr>\n",
       "      <th>1</th>\n",
       "      <td>Paciente106</td>\n",
       "      <td>N</td>\n",
       "      <td>N</td>\n",
       "      <td>N</td>\n",
       "      <td>N</td>\n",
       "      <td>N</td>\n",
       "      <td>N</td>\n",
       "      <td>N</td>\n",
       "      <td>N</td>\n",
       "      <td>N</td>\n",
       "      <td>...</td>\n",
       "      <td>NaN</td>\n",
       "      <td>NaN</td>\n",
       "      <td>NaN</td>\n",
       "      <td>NaN</td>\n",
       "      <td>NaN</td>\n",
       "      <td>NaN</td>\n",
       "      <td>NaN</td>\n",
       "      <td>NaN</td>\n",
       "      <td>NaN</td>\n",
       "      <td>NaN</td>\n",
       "    </tr>\n",
       "    <tr>\n",
       "      <th>2</th>\n",
       "      <td>Paciente108</td>\n",
       "      <td>N</td>\n",
       "      <td>N</td>\n",
       "      <td>N</td>\n",
       "      <td>N</td>\n",
       "      <td>N</td>\n",
       "      <td>N</td>\n",
       "      <td>N</td>\n",
       "      <td>N</td>\n",
       "      <td>N</td>\n",
       "      <td>...</td>\n",
       "      <td>NaN</td>\n",
       "      <td>NaN</td>\n",
       "      <td>NaN</td>\n",
       "      <td>NaN</td>\n",
       "      <td>NaN</td>\n",
       "      <td>NaN</td>\n",
       "      <td>NaN</td>\n",
       "      <td>NaN</td>\n",
       "      <td>NaN</td>\n",
       "      <td>NaN</td>\n",
       "    </tr>\n",
       "    <tr>\n",
       "      <th>3</th>\n",
       "      <td>Paciente109</td>\n",
       "      <td>N</td>\n",
       "      <td>N</td>\n",
       "      <td>N</td>\n",
       "      <td>N</td>\n",
       "      <td>N</td>\n",
       "      <td>N</td>\n",
       "      <td>N</td>\n",
       "      <td>N</td>\n",
       "      <td>N</td>\n",
       "      <td>...</td>\n",
       "      <td>NaN</td>\n",
       "      <td>NaN</td>\n",
       "      <td>NaN</td>\n",
       "      <td>NaN</td>\n",
       "      <td>NaN</td>\n",
       "      <td>NaN</td>\n",
       "      <td>NaN</td>\n",
       "      <td>NaN</td>\n",
       "      <td>NaN</td>\n",
       "      <td>NaN</td>\n",
       "    </tr>\n",
       "    <tr>\n",
       "      <th>4</th>\n",
       "      <td>Paciente112</td>\n",
       "      <td>N</td>\n",
       "      <td>N</td>\n",
       "      <td>N</td>\n",
       "      <td>N</td>\n",
       "      <td>N</td>\n",
       "      <td>N</td>\n",
       "      <td>N</td>\n",
       "      <td>N</td>\n",
       "      <td>N</td>\n",
       "      <td>...</td>\n",
       "      <td>NaN</td>\n",
       "      <td>NaN</td>\n",
       "      <td>NaN</td>\n",
       "      <td>NaN</td>\n",
       "      <td>NaN</td>\n",
       "      <td>NaN</td>\n",
       "      <td>NaN</td>\n",
       "      <td>NaN</td>\n",
       "      <td>NaN</td>\n",
       "      <td>NaN</td>\n",
       "    </tr>\n",
       "  </tbody>\n",
       "</table>\n",
       "<p>5 rows × 3364 columns</p>\n",
       "</div>"
      ],
      "text/plain": [
       "    Unnamed: 0  0  1  2  3  4  5  6  7  8  ... 3353 3354 3355 3356 3357 3358  \\\n",
       "0  Paciente101  N  N  N  N  N  N  N  N  N  ...  NaN  NaN  NaN  NaN  NaN  NaN   \n",
       "1  Paciente106  N  N  N  N  N  N  N  N  N  ...  NaN  NaN  NaN  NaN  NaN  NaN   \n",
       "2  Paciente108  N  N  N  N  N  N  N  N  N  ...  NaN  NaN  NaN  NaN  NaN  NaN   \n",
       "3  Paciente109  N  N  N  N  N  N  N  N  N  ...  NaN  NaN  NaN  NaN  NaN  NaN   \n",
       "4  Paciente112  N  N  N  N  N  N  N  N  N  ...  NaN  NaN  NaN  NaN  NaN  NaN   \n",
       "\n",
       "  3359 3360 3361 3362  \n",
       "0  NaN  NaN  NaN  NaN  \n",
       "1  NaN  NaN  NaN  NaN  \n",
       "2  NaN  NaN  NaN  NaN  \n",
       "3  NaN  NaN  NaN  NaN  \n",
       "4  NaN  NaN  NaN  NaN  \n",
       "\n",
       "[5 rows x 3364 columns]"
      ]
     },
     "execution_count": 9,
     "metadata": {},
     "output_type": "execute_result"
    }
   ],
   "source": [
    "rotulos_treino.head()"
   ]
  },
  {
   "cell_type": "markdown",
   "id": "c5fe53ad",
   "metadata": {},
   "source": [
    "Utilizando o .head(), conseguimos verificar apenas os batimentos N (Normais) e diversos NaN. Para podermos ter uma ideia melhor do arquivo, vamos verificar a quantidade de batimentos N, S e V."
   ]
  },
  {
   "cell_type": "code",
   "execution_count": 10,
   "id": "0b4d59c7",
   "metadata": {},
   "outputs": [
    {
     "name": "stdout",
     "output_type": "stream",
     "text": [
      " N = 45866 \n",
      " S = 944\n",
      " V = 3788\n"
     ]
    }
   ],
   "source": [
    "rotulos = rotulos_treino.iloc[: , 1:].to_numpy()\n",
    "N = (rotulos=='N').sum()\n",
    "S = (rotulos=='S').sum()\n",
    "V = (rotulos=='V').sum()\n",
    "\n",
    "print(f' N = {N} \\n S = {S}\\n V = {V}')"
   ]
  },
  {
   "cell_type": "code",
   "execution_count": null,
   "id": "9773b9e1",
   "metadata": {},
   "outputs": [],
   "source": []
  },
  {
   "cell_type": "markdown",
   "id": "16df8b3a",
   "metadata": {},
   "source": [
    "# Pré-Processamento"
   ]
  },
  {
   "cell_type": "code",
   "execution_count": 104,
   "id": "e41b3945",
   "metadata": {},
   "outputs": [
    {
     "name": "stdout",
     "output_type": "stream",
     "text": [
      "50999\n"
     ]
    }
   ],
   "source": [
    "dist_r = n_rotulos_treino.iloc[: , 1:].to_numpy()\n",
    "\n",
    "num_lines = len(dist_r)\n",
    "time = []\n",
    "for line in range(num_lines):\n",
    "    for column in range(len(dist_r[line]) - 1):\n",
    "        if np.isnan(dist_r[line][column+1]) == False:\n",
    "            time.append(dist_r[line][column+1] - dist_r[line][column])\n",
    "        else:\n",
    "            break\n",
    "print(len(time))"
   ]
  },
  {
   "cell_type": "code",
   "execution_count": 13,
   "id": "ea8557f4",
   "metadata": {},
   "outputs": [
    {
     "name": "stdout",
     "output_type": "stream",
     "text": [
      "Média entre os pontors RR = 280\n"
     ]
    }
   ],
   "source": [
    "mean_rr = int(np.mean(time))\n",
    "print('Média entre os pontors RR = {}'.format(mean_rr))"
   ]
  },
  {
   "cell_type": "markdown",
   "id": "536d92f4",
   "metadata": {},
   "source": [
    "Com o resultado da média entre os pontos RR, vamos considerá-lo como o período de um batimento cardíaco. Portanto, vamos dividir o dataframe ecg_teste em uma matriz de numpy que cada linha vai representar o um batimento de um paciente. Como existem muitos dados faltantes, vamos pegar os 2000 primeiros batimentos de cada pessoa."
   ]
  },
  {
   "cell_type": "code",
   "execution_count": null,
   "id": "64434090",
   "metadata": {},
   "outputs": [],
   "source": []
  },
  {
   "cell_type": "code",
   "execution_count": 14,
   "id": "27a872c2",
   "metadata": {
    "scrolled": true
   },
   "outputs": [
    {
     "name": "stdout",
     "output_type": "stream",
     "text": [
      "(22, 650000)\n",
      "(22000, 280)\n"
     ]
    }
   ],
   "source": [
    "ecg = ecg_treino.iloc[: , 1:].to_numpy()\n",
    "print(ecg.shape)\n",
    "\n",
    "ecg_l = ecg[:,:1000*280]\n",
    "batimentos = np.reshape(ecg_l, (-1,280))\n",
    "print(batimentos.shape)"
   ]
  },
  {
   "cell_type": "code",
   "execution_count": 108,
   "id": "e7be3cac",
   "metadata": {},
   "outputs": [
    {
     "ename": "NameError",
     "evalue": "name 'x' is not defined",
     "output_type": "error",
     "traceback": [
      "\u001b[1;31m---------------------------------------------------------------------------\u001b[0m",
      "\u001b[1;31mNameError\u001b[0m                                 Traceback (most recent call last)",
      "Input \u001b[1;32mIn [108]\u001b[0m, in \u001b[0;36m<cell line: 3>\u001b[1;34m()\u001b[0m\n\u001b[0;32m      1\u001b[0m \u001b[38;5;28;01mfrom\u001b[39;00m \u001b[38;5;21;01msklearn\u001b[39;00m\u001b[38;5;21;01m.\u001b[39;00m\u001b[38;5;21;01mpreprocessing\u001b[39;00m \u001b[38;5;28;01mimport\u001b[39;00m StandardScaler\n\u001b[0;32m      2\u001b[0m scaler \u001b[38;5;241m=\u001b[39m StandardScaler()\n\u001b[1;32m----> 3\u001b[0m X_train_norm \u001b[38;5;241m=\u001b[39m scaler\u001b[38;5;241m.\u001b[39mfit_transform(\u001b[43mx\u001b[49m)\n",
      "\u001b[1;31mNameError\u001b[0m: name 'x' is not defined"
     ]
    }
   ],
   "source": [
    "from sklearn.preprocessing import StandardScaler\n",
    "scaler = StandardScaler()\n",
    "X_train_norm = scaler.fit_transform(x)"
   ]
  },
  {
   "cell_type": "markdown",
   "id": "b27933be",
   "metadata": {},
   "source": [
    "Plotando a primeira linha da nossa matriz, temos o primeiro batimento do primeiro paciente."
   ]
  },
  {
   "cell_type": "code",
   "execution_count": 107,
   "id": "c91a76d4",
   "metadata": {},
   "outputs": [
    {
     "ename": "IndexError",
     "evalue": "index 280 is out of bounds for axis 0 with size 280",
     "output_type": "error",
     "traceback": [
      "\u001b[1;31m---------------------------------------------------------------------------\u001b[0m",
      "\u001b[1;31mIndexError\u001b[0m                                Traceback (most recent call last)",
      "Input \u001b[1;32mIn [107]\u001b[0m, in \u001b[0;36m<cell line: 1>\u001b[1;34m()\u001b[0m\n\u001b[1;32m----> 1\u001b[0m plt\u001b[38;5;241m.\u001b[39mplot(\u001b[43mX_train_norm\u001b[49m\u001b[43m[\u001b[49m\u001b[38;5;241;43m0\u001b[39;49m\u001b[43m]\u001b[49m\u001b[43m[\u001b[49m\u001b[38;5;241;43m280\u001b[39;49m\u001b[43m]\u001b[49m)\n",
      "\u001b[1;31mIndexError\u001b[0m: index 280 is out of bounds for axis 0 with size 280"
     ]
    }
   ],
   "source": [
    "plt.plot(X_train_norm[0][280])"
   ]
  },
  {
   "cell_type": "code",
   "execution_count": null,
   "id": "dc7448e4",
   "metadata": {},
   "outputs": [],
   "source": [
    "from scipy.fft import fft, fftfreq, fftshift\n",
    "from sklearn.preprocessing import StandardScaler\n",
    "scaler = StandardScaler()\n",
    "\n",
    "X_train_fft = fft(X_train)\n",
    "# X_train_fft = scaler.fit_transform(np.abs(X_train_fft))"
   ]
  },
  {
   "cell_type": "code",
   "execution_count": null,
   "id": "4289b7aa",
   "metadata": {},
   "outputs": [],
   "source": [
    "# # number of signal points\n",
    "# N = 280\n",
    "# # sample spacing\n",
    "# T = 1.0 / 360.0\n",
    "# yf = fft(X_train)\n",
    "# xf = fftfreq(N, T)\n",
    "# xf = fftshift(xf)\n",
    "# yplot = fftshift(yf[0])\n",
    "# plt.plot(xf, 1.0/N * np.abs(yplot))\n",
    "# plt.grid()\n",
    "\n",
    "np.fft.fft()\n",
    "plt.show()"
   ]
  },
  {
   "cell_type": "code",
   "execution_count": null,
   "id": "4b086bba",
   "metadata": {},
   "outputs": [],
   "source": []
  },
  {
   "cell_type": "markdown",
   "id": "d7d91a4b",
   "metadata": {},
   "source": [
    "Vamos realizar algo parecido com os rótulos. Criaremos uma matriz."
   ]
  },
  {
   "cell_type": "code",
   "execution_count": 17,
   "id": "615538a8",
   "metadata": {},
   "outputs": [
    {
     "name": "stdout",
     "output_type": "stream",
     "text": [
      "(22000, 1)\n"
     ]
    }
   ],
   "source": [
    "rotulos = rotulos[:, :1000]\n",
    "Y_train = np.reshape(rotulos, (-1, 1))\n",
    "print(Y_train.shape)"
   ]
  },
  {
   "cell_type": "code",
   "execution_count": 18,
   "id": "51eef418",
   "metadata": {},
   "outputs": [
    {
     "name": "stdout",
     "output_type": "stream",
     "text": [
      " N = 20067 \n",
      " S = 328\n",
      " V = 1448\n"
     ]
    }
   ],
   "source": [
    "N = (Y_train=='N').sum()\n",
    "S = (Y_train=='S').sum()\n",
    "V = (Y_train=='V').sum()\n",
    "print(f' N = {N} \\n S = {S}\\n V = {V}')"
   ]
  },
  {
   "cell_type": "code",
   "execution_count": 19,
   "id": "3a707f60",
   "metadata": {},
   "outputs": [
    {
     "name": "stderr",
     "output_type": "stream",
     "text": [
      "C:\\Users\\jean_\\anaconda3\\lib\\site-packages\\sklearn\\preprocessing\\_label.py:115: DataConversionWarning: A column-vector y was passed when a 1d array was expected. Please change the shape of y to (n_samples, ), for example using ravel().\n",
      "  y = column_or_1d(y, warn=True)\n"
     ]
    }
   ],
   "source": [
    "from sklearn.preprocessing import LabelEncoder\n",
    "from sklearn.preprocessing import OneHotEncoder\n",
    "\n",
    "# integer encode\n",
    "label_encoder = LabelEncoder()\n",
    "integer_encoded = label_encoder.fit_transform(Y_train)\n",
    "\n",
    "for i in range(len(integer_encoded)):\n",
    "    if integer_encoded[i] != 1:\n",
    "        integer_encoded[i] = 0"
   ]
  },
  {
   "cell_type": "code",
   "execution_count": 20,
   "id": "6c629ed3",
   "metadata": {},
   "outputs": [
    {
     "data": {
      "text/plain": [
       "(22000, 280)"
      ]
     },
     "execution_count": 20,
     "metadata": {},
     "output_type": "execute_result"
    }
   ],
   "source": [
    "df_train = pd.DataFrame(X_train_norm)\n",
    "# df_train = pd.DataFrame(X_train_norm)\n",
    "df_train.shape"
   ]
  },
  {
   "cell_type": "code",
   "execution_count": 21,
   "id": "f7df31a2",
   "metadata": {},
   "outputs": [
    {
     "data": {
      "text/plain": [
       "(22000, 1)"
      ]
     },
     "execution_count": 21,
     "metadata": {},
     "output_type": "execute_result"
    }
   ],
   "source": [
    "df_rotulo = pd.DataFrame(integer_encoded, columns=['Rotulos'])\n",
    "df_rotulo.head()\n",
    "df_rotulo.shape"
   ]
  },
  {
   "cell_type": "code",
   "execution_count": 22,
   "id": "9b705a74",
   "metadata": {},
   "outputs": [],
   "source": [
    "from imblearn.over_sampling import SMOTE\n",
    "from imblearn.under_sampling import RandomUnderSampler\n",
    "from imblearn.pipeline import Pipeline\n",
    "\n",
    "# define pipeline\n",
    "over = SMOTE(sampling_strategy=0.5)\n",
    "under = RandomUnderSampler(sampling_strategy=0.5)\n",
    "steps = [('o', over), ('u', under)]\n",
    "pipeline = Pipeline(steps=steps)\n",
    "# transform the dataset\n",
    "X, y = pipeline.fit_resample(df_train, df_rotulo)"
   ]
  },
  {
   "cell_type": "code",
   "execution_count": 23,
   "id": "a2c28326",
   "metadata": {},
   "outputs": [
    {
     "name": "stdout",
     "output_type": "stream",
     "text": [
      "(30099, 1)\n"
     ]
    }
   ],
   "source": [
    "print(y.shape)"
   ]
  },
  {
   "cell_type": "code",
   "execution_count": null,
   "id": "0e70b6cf",
   "metadata": {},
   "outputs": [],
   "source": []
  },
  {
   "cell_type": "code",
   "execution_count": null,
   "id": "0a99cd83",
   "metadata": {},
   "outputs": [],
   "source": []
  },
  {
   "cell_type": "code",
   "execution_count": 24,
   "id": "5c3909e0",
   "metadata": {},
   "outputs": [],
   "source": [
    "from sklearn.model_selection import train_test_split\n",
    "\n",
    "X_train,X_test,y_train,y_test = train_test_split(X,y,test_size = 0.33, random_state=42)"
   ]
  },
  {
   "cell_type": "code",
   "execution_count": null,
   "id": "e6fe0286",
   "metadata": {},
   "outputs": [],
   "source": [
    "from sklearn.utils.class_weight import compute_class_weight\n",
    "\n",
    "class_weights = compute_class_weight(class_weight = \"balanced\", classes = np.unique(y_train), y = y_train.values.reshape(-1))\n",
    "\n",
    "d = {c: w for c, w in zip(np.unique(y), class_weights)}"
   ]
  },
  {
   "cell_type": "code",
   "execution_count": null,
   "id": "e15b6d38",
   "metadata": {},
   "outputs": [],
   "source": [
    "from keras.models import Sequential\n",
    "from keras.layers import Dense,Conv1D\n",
    "from keras.initializers import HeUniform\n",
    "from keras.optimizers import SGD\n",
    "from keras.layers import Dropout\n",
    "\n",
    "initializer = HeUniform() \n",
    "model = Sequential()\n",
    "sgd = SGD(learning_rate=0.0001, momentum=0.8, nesterov=True)\n",
    "\n",
    "# model.add(Conv1D(20, (28), input_shape=(840,1), activation=\"ReLU\", kernel_initializer=initializer))\n",
    "# model.add(Dropout(0.2))\n",
    "# model.add(Conv1D(20,(28), activation=\"ReLU\"))\n",
    "# model.add(Dropout(0.2))\n",
    "\n",
    "model.add(Dense(32, activation='relu', input_dim = X_train.shape[1]))\n",
    "model.add(Dropout(rate=0.25))\n",
    "model.add(Dense(1, activation='sigmoid'))"
   ]
  },
  {
   "cell_type": "code",
   "execution_count": null,
   "id": "5fcce978",
   "metadata": {},
   "outputs": [],
   "source": [
    "model.compile(loss=\"binary_crossentropy\", optimizer=\"adam\", metrics=[\"accuracy\"] )"
   ]
  },
  {
   "cell_type": "code",
   "execution_count": null,
   "id": "3b5aba00",
   "metadata": {
    "scrolled": true
   },
   "outputs": [],
   "source": [
    "history = model.fit(X_train,y_train, validation_data=(X_test,y_test), epochs=10, batch_size=32, verbose=1)"
   ]
  },
  {
   "cell_type": "code",
   "execution_count": 99,
   "id": "b58c3ac6",
   "metadata": {},
   "outputs": [
    {
     "name": "stderr",
     "output_type": "stream",
     "text": [
      "C:\\Users\\jean_\\AppData\\Local\\Temp\\ipykernel_1136\\1807743218.py:30: DeprecationWarning: KerasClassifier is deprecated, use Sci-Keras (https://github.com/adriangb/scikeras) instead. See https://www.adriangb.com/scikeras/stable/migration.html for help migrating.\n",
      "  estimator = KerasClassifier(build_fn=create_baseline, epochs=300, batch_size=100, verbose=1)\n"
     ]
    }
   ],
   "source": [
    "from keras.models import Sequential\n",
    "from keras.layers import Dense,Conv1D\n",
    "from keras.wrappers.scikit_learn import KerasClassifier\n",
    "from sklearn.model_selection import cross_val_score\n",
    "from sklearn.preprocessing import LabelEncoder\n",
    "from sklearn.model_selection import StratifiedKFold\n",
    "from keras.initializers import HeUniform\n",
    "from keras.layers import Dropout\n",
    "\n",
    "def create_baseline():\n",
    "\t# create model\n",
    "    initializer = HeUniform() \n",
    "#     sgd = SGD(learning_rate=0.0001, momentum=0.8, nesterov=True)\n",
    "    model = Sequential()\n",
    "    model.add(Dense(280, input_dim=280, activation='relu', kernel_initializer=initializer))\n",
    "    model.add(Dropout(rate=0.25))\n",
    "    model.add(Dense(50, activation='relu'))\n",
    "    model.add(Dropout(rate=0.25))\n",
    "    model.add(Dense(50, activation='relu'))\n",
    "    model.add(Dropout(rate=0.25))\n",
    "    model.add(Dense(50, activation='relu'))\n",
    "    model.add(Dropout(rate=0.25))\n",
    "    model.add(Dense(50, activation='relu'))\n",
    "    model.add(Dropout(rate=0.25))\n",
    "    model.add(Dense(1, activation='sigmoid'))\n",
    "    # Compile model\n",
    "    model.compile(loss='binary_crossentropy', optimizer='adam', metrics=['accuracy'])\n",
    "    return model\n",
    "\n",
    "estimator = KerasClassifier(build_fn=create_baseline, epochs=300, batch_size=100, verbose=1)"
   ]
  },
  {
   "cell_type": "code",
   "execution_count": 100,
   "id": "6ed7dcb4",
   "metadata": {},
   "outputs": [
    {
     "name": "stdout",
     "output_type": "stream",
     "text": [
      "Epoch 1/300\n",
      "202/202 [==============================] - 2s 7ms/step - loss: 0.6556 - accuracy: 0.6583 - val_loss: 0.6377 - val_accuracy: 0.6678\n",
      "Epoch 2/300\n",
      "202/202 [==============================] - 1s 6ms/step - loss: 0.6353 - accuracy: 0.6664 - val_loss: 0.6221 - val_accuracy: 0.6723\n",
      "Epoch 3/300\n",
      "202/202 [==============================] - 1s 6ms/step - loss: 0.6216 - accuracy: 0.6710 - val_loss: 0.5994 - val_accuracy: 0.6901\n",
      "Epoch 4/300\n",
      "202/202 [==============================] - 1s 6ms/step - loss: 0.6092 - accuracy: 0.6822 - val_loss: 0.5890 - val_accuracy: 0.6986\n",
      "Epoch 5/300\n",
      "202/202 [==============================] - 1s 5ms/step - loss: 0.5986 - accuracy: 0.6886 - val_loss: 0.5781 - val_accuracy: 0.6989\n",
      "Epoch 6/300\n",
      "202/202 [==============================] - 1s 6ms/step - loss: 0.5901 - accuracy: 0.6940 - val_loss: 0.5731 - val_accuracy: 0.7055\n",
      "Epoch 7/300\n",
      "202/202 [==============================] - 1s 6ms/step - loss: 0.5783 - accuracy: 0.7005 - val_loss: 0.5597 - val_accuracy: 0.7121\n",
      "Epoch 8/300\n",
      "202/202 [==============================] - 1s 5ms/step - loss: 0.5752 - accuracy: 0.7022 - val_loss: 0.5643 - val_accuracy: 0.7104\n",
      "Epoch 9/300\n",
      "202/202 [==============================] - 1s 5ms/step - loss: 0.5683 - accuracy: 0.7035 - val_loss: 0.5565 - val_accuracy: 0.7146\n",
      "Epoch 10/300\n",
      "202/202 [==============================] - 1s 5ms/step - loss: 0.5642 - accuracy: 0.7058 - val_loss: 0.5563 - val_accuracy: 0.7153\n",
      "Epoch 11/300\n",
      "202/202 [==============================] - 1s 5ms/step - loss: 0.5561 - accuracy: 0.7113 - val_loss: 0.5486 - val_accuracy: 0.7193\n",
      "Epoch 12/300\n",
      "202/202 [==============================] - 1s 5ms/step - loss: 0.5490 - accuracy: 0.7134 - val_loss: 0.5405 - val_accuracy: 0.7208\n",
      "Epoch 13/300\n",
      "202/202 [==============================] - 1s 5ms/step - loss: 0.5481 - accuracy: 0.7170 - val_loss: 0.5347 - val_accuracy: 0.7212\n",
      "Epoch 14/300\n",
      "202/202 [==============================] - 1s 5ms/step - loss: 0.5427 - accuracy: 0.7202 - val_loss: 0.5369 - val_accuracy: 0.7276\n",
      "Epoch 15/300\n",
      "202/202 [==============================] - 1s 5ms/step - loss: 0.5355 - accuracy: 0.7223 - val_loss: 0.5207 - val_accuracy: 0.7291\n",
      "Epoch 16/300\n",
      "202/202 [==============================] - 1s 5ms/step - loss: 0.5337 - accuracy: 0.7276 - val_loss: 0.5198 - val_accuracy: 0.7303\n",
      "Epoch 17/300\n",
      "202/202 [==============================] - 1s 5ms/step - loss: 0.5227 - accuracy: 0.7329 - val_loss: 0.5133 - val_accuracy: 0.7398\n",
      "Epoch 18/300\n",
      "202/202 [==============================] - 1s 5ms/step - loss: 0.5232 - accuracy: 0.7325 - val_loss: 0.5176 - val_accuracy: 0.7372\n",
      "Epoch 19/300\n",
      "202/202 [==============================] - 1s 5ms/step - loss: 0.5189 - accuracy: 0.7394 - val_loss: 0.5109 - val_accuracy: 0.7430\n",
      "Epoch 20/300\n",
      "202/202 [==============================] - 1s 5ms/step - loss: 0.5105 - accuracy: 0.7421 - val_loss: 0.5032 - val_accuracy: 0.7540\n",
      "Epoch 21/300\n",
      "202/202 [==============================] - 1s 5ms/step - loss: 0.5066 - accuracy: 0.7506 - val_loss: 0.5058 - val_accuracy: 0.7519\n",
      "Epoch 22/300\n",
      "202/202 [==============================] - 1s 7ms/step - loss: 0.5037 - accuracy: 0.7538 - val_loss: 0.4966 - val_accuracy: 0.7628\n",
      "Epoch 23/300\n",
      "202/202 [==============================] - 1s 5ms/step - loss: 0.5021 - accuracy: 0.7540 - val_loss: 0.4932 - val_accuracy: 0.7586\n",
      "Epoch 24/300\n",
      "202/202 [==============================] - 1s 5ms/step - loss: 0.4926 - accuracy: 0.7605 - val_loss: 0.4852 - val_accuracy: 0.7601\n",
      "Epoch 25/300\n",
      "202/202 [==============================] - 1s 5ms/step - loss: 0.4912 - accuracy: 0.7631 - val_loss: 0.4874 - val_accuracy: 0.7703\n",
      "Epoch 26/300\n",
      "202/202 [==============================] - 1s 5ms/step - loss: 0.4883 - accuracy: 0.7659 - val_loss: 0.4830 - val_accuracy: 0.7706\n",
      "Epoch 27/300\n",
      "202/202 [==============================] - 1s 5ms/step - loss: 0.4818 - accuracy: 0.7681 - val_loss: 0.4778 - val_accuracy: 0.7637\n",
      "Epoch 28/300\n",
      "202/202 [==============================] - 1s 5ms/step - loss: 0.4825 - accuracy: 0.7685 - val_loss: 0.4769 - val_accuracy: 0.7717\n",
      "Epoch 29/300\n",
      "202/202 [==============================] - 1s 5ms/step - loss: 0.4739 - accuracy: 0.7752 - val_loss: 0.4729 - val_accuracy: 0.7747\n",
      "Epoch 30/300\n",
      "202/202 [==============================] - 1s 5ms/step - loss: 0.4691 - accuracy: 0.7737 - val_loss: 0.4675 - val_accuracy: 0.7791\n",
      "Epoch 31/300\n",
      "202/202 [==============================] - 1s 5ms/step - loss: 0.4704 - accuracy: 0.7798 - val_loss: 0.4694 - val_accuracy: 0.7752\n",
      "Epoch 32/300\n",
      "202/202 [==============================] - 1s 6ms/step - loss: 0.4648 - accuracy: 0.7802 - val_loss: 0.4679 - val_accuracy: 0.7768\n",
      "Epoch 33/300\n",
      "202/202 [==============================] - 1s 5ms/step - loss: 0.4626 - accuracy: 0.7826 - val_loss: 0.4686 - val_accuracy: 0.7737\n",
      "Epoch 34/300\n",
      "202/202 [==============================] - 1s 5ms/step - loss: 0.4612 - accuracy: 0.7843 - val_loss: 0.4669 - val_accuracy: 0.7785\n",
      "Epoch 35/300\n",
      "202/202 [==============================] - 1s 6ms/step - loss: 0.4559 - accuracy: 0.7870 - val_loss: 0.4619 - val_accuracy: 0.7840\n",
      "Epoch 36/300\n",
      "202/202 [==============================] - 1s 6ms/step - loss: 0.4514 - accuracy: 0.7896 - val_loss: 0.4584 - val_accuracy: 0.7858\n",
      "Epoch 37/300\n",
      "202/202 [==============================] - 1s 6ms/step - loss: 0.4511 - accuracy: 0.7891 - val_loss: 0.4533 - val_accuracy: 0.7916\n",
      "Epoch 38/300\n",
      "202/202 [==============================] - 1s 5ms/step - loss: 0.4572 - accuracy: 0.7874 - val_loss: 0.4536 - val_accuracy: 0.7927\n",
      "Epoch 39/300\n",
      "202/202 [==============================] - 1s 6ms/step - loss: 0.4468 - accuracy: 0.7935 - val_loss: 0.4556 - val_accuracy: 0.7878\n",
      "Epoch 40/300\n",
      "202/202 [==============================] - 1s 5ms/step - loss: 0.4424 - accuracy: 0.7960 - val_loss: 0.4516 - val_accuracy: 0.7868\n",
      "Epoch 41/300\n",
      "202/202 [==============================] - 1s 5ms/step - loss: 0.4459 - accuracy: 0.7896 - val_loss: 0.4561 - val_accuracy: 0.7861\n",
      "Epoch 42/300\n",
      "202/202 [==============================] - 1s 6ms/step - loss: 0.4399 - accuracy: 0.7954 - val_loss: 0.4481 - val_accuracy: 0.7920\n",
      "Epoch 43/300\n",
      "202/202 [==============================] - 1s 6ms/step - loss: 0.4372 - accuracy: 0.7968 - val_loss: 0.4459 - val_accuracy: 0.7963\n",
      "Epoch 44/300\n",
      "202/202 [==============================] - 1s 7ms/step - loss: 0.4388 - accuracy: 0.7969 - val_loss: 0.4464 - val_accuracy: 0.7947\n",
      "Epoch 45/300\n",
      "202/202 [==============================] - 1s 6ms/step - loss: 0.4332 - accuracy: 0.8009 - val_loss: 0.4422 - val_accuracy: 0.7966\n",
      "Epoch 46/300\n",
      "202/202 [==============================] - 1s 6ms/step - loss: 0.4311 - accuracy: 0.8015 - val_loss: 0.4414 - val_accuracy: 0.7973\n",
      "Epoch 47/300\n",
      "202/202 [==============================] - 1s 5ms/step - loss: 0.4263 - accuracy: 0.8048 - val_loss: 0.4485 - val_accuracy: 0.7947\n",
      "Epoch 48/300\n",
      "202/202 [==============================] - 1s 6ms/step - loss: 0.4258 - accuracy: 0.8060 - val_loss: 0.4372 - val_accuracy: 0.8041\n",
      "Epoch 49/300\n",
      "202/202 [==============================] - 1s 7ms/step - loss: 0.4222 - accuracy: 0.8068 - val_loss: 0.4356 - val_accuracy: 0.8044\n",
      "Epoch 50/300\n",
      "202/202 [==============================] - 1s 6ms/step - loss: 0.4250 - accuracy: 0.8038 - val_loss: 0.4340 - val_accuracy: 0.8020\n",
      "Epoch 51/300\n",
      "202/202 [==============================] - 1s 5ms/step - loss: 0.4234 - accuracy: 0.8049 - val_loss: 0.4454 - val_accuracy: 0.7958\n",
      "Epoch 52/300\n",
      "202/202 [==============================] - 1s 6ms/step - loss: 0.4229 - accuracy: 0.8080 - val_loss: 0.4293 - val_accuracy: 0.8028\n",
      "Epoch 53/300\n",
      "202/202 [==============================] - 1s 6ms/step - loss: 0.4185 - accuracy: 0.8093 - val_loss: 0.4267 - val_accuracy: 0.8103\n",
      "Epoch 54/300\n",
      "202/202 [==============================] - 1s 5ms/step - loss: 0.4149 - accuracy: 0.8127 - val_loss: 0.4340 - val_accuracy: 0.8071\n",
      "Epoch 55/300\n",
      "202/202 [==============================] - 1s 5ms/step - loss: 0.4150 - accuracy: 0.8106 - val_loss: 0.4303 - val_accuracy: 0.8086\n",
      "Epoch 56/300\n",
      "202/202 [==============================] - 1s 6ms/step - loss: 0.4088 - accuracy: 0.8146 - val_loss: 0.4230 - val_accuracy: 0.8129\n",
      "Epoch 57/300\n",
      "202/202 [==============================] - 1s 6ms/step - loss: 0.4148 - accuracy: 0.8108 - val_loss: 0.4264 - val_accuracy: 0.8118\n"
     ]
    },
    {
     "name": "stdout",
     "output_type": "stream",
     "text": [
      "Epoch 58/300\n",
      "202/202 [==============================] - 1s 6ms/step - loss: 0.4110 - accuracy: 0.8147 - val_loss: 0.4292 - val_accuracy: 0.8051\n",
      "Epoch 59/300\n",
      "202/202 [==============================] - 1s 6ms/step - loss: 0.4105 - accuracy: 0.8103 - val_loss: 0.4265 - val_accuracy: 0.8074\n",
      "Epoch 60/300\n",
      "202/202 [==============================] - 1s 6ms/step - loss: 0.4078 - accuracy: 0.8161 - val_loss: 0.4275 - val_accuracy: 0.8030\n",
      "Epoch 61/300\n",
      "202/202 [==============================] - 1s 6ms/step - loss: 0.4047 - accuracy: 0.8161 - val_loss: 0.4264 - val_accuracy: 0.8056\n",
      "Epoch 62/300\n",
      "202/202 [==============================] - 1s 6ms/step - loss: 0.4026 - accuracy: 0.8181 - val_loss: 0.4271 - val_accuracy: 0.8101\n",
      "Epoch 63/300\n",
      "202/202 [==============================] - 1s 7ms/step - loss: 0.4021 - accuracy: 0.8169 - val_loss: 0.4202 - val_accuracy: 0.8125\n",
      "Epoch 64/300\n",
      "202/202 [==============================] - 1s 6ms/step - loss: 0.4043 - accuracy: 0.8140 - val_loss: 0.4197 - val_accuracy: 0.8124\n",
      "Epoch 65/300\n",
      "202/202 [==============================] - 1s 6ms/step - loss: 0.3990 - accuracy: 0.8163 - val_loss: 0.4251 - val_accuracy: 0.8129\n",
      "Epoch 66/300\n",
      "202/202 [==============================] - 1s 6ms/step - loss: 0.3992 - accuracy: 0.8207 - val_loss: 0.4202 - val_accuracy: 0.8109\n",
      "Epoch 67/300\n",
      "202/202 [==============================] - 1s 6ms/step - loss: 0.4026 - accuracy: 0.8165 - val_loss: 0.4199 - val_accuracy: 0.8113\n",
      "Epoch 68/300\n",
      "202/202 [==============================] - 1s 6ms/step - loss: 0.3941 - accuracy: 0.8245 - val_loss: 0.4216 - val_accuracy: 0.8112\n",
      "Epoch 69/300\n",
      "202/202 [==============================] - 1s 6ms/step - loss: 0.3987 - accuracy: 0.8192 - val_loss: 0.4160 - val_accuracy: 0.8104\n",
      "Epoch 70/300\n",
      "202/202 [==============================] - 1s 6ms/step - loss: 0.3972 - accuracy: 0.8181 - val_loss: 0.4189 - val_accuracy: 0.8175\n",
      "Epoch 71/300\n",
      "202/202 [==============================] - 1s 5ms/step - loss: 0.3936 - accuracy: 0.8202 - val_loss: 0.4205 - val_accuracy: 0.8146\n",
      "Epoch 72/300\n",
      "202/202 [==============================] - 1s 7ms/step - loss: 0.3927 - accuracy: 0.8227 - val_loss: 0.4183 - val_accuracy: 0.8111\n",
      "Epoch 73/300\n",
      "202/202 [==============================] - 1s 6ms/step - loss: 0.3946 - accuracy: 0.8194 - val_loss: 0.4240 - val_accuracy: 0.8106\n",
      "Epoch 74/300\n",
      "202/202 [==============================] - 1s 5ms/step - loss: 0.3885 - accuracy: 0.8248 - val_loss: 0.4193 - val_accuracy: 0.8144\n",
      "Epoch 75/300\n",
      "202/202 [==============================] - 1s 6ms/step - loss: 0.3940 - accuracy: 0.8212 - val_loss: 0.4108 - val_accuracy: 0.8177\n",
      "Epoch 76/300\n",
      "202/202 [==============================] - 1s 5ms/step - loss: 0.3918 - accuracy: 0.8242 - val_loss: 0.4214 - val_accuracy: 0.8088\n",
      "Epoch 77/300\n",
      "202/202 [==============================] - 1s 5ms/step - loss: 0.3884 - accuracy: 0.8272 - val_loss: 0.4240 - val_accuracy: 0.8055\n",
      "Epoch 78/300\n",
      "202/202 [==============================] - 1s 5ms/step - loss: 0.3881 - accuracy: 0.8263 - val_loss: 0.4174 - val_accuracy: 0.8152\n",
      "Epoch 79/300\n",
      "202/202 [==============================] - 1s 6ms/step - loss: 0.3837 - accuracy: 0.8269 - val_loss: 0.4139 - val_accuracy: 0.8162\n",
      "Epoch 80/300\n",
      "202/202 [==============================] - 1s 6ms/step - loss: 0.3825 - accuracy: 0.8268 - val_loss: 0.4142 - val_accuracy: 0.8175\n",
      "Epoch 81/300\n",
      "202/202 [==============================] - 2s 9ms/step - loss: 0.3854 - accuracy: 0.8256 - val_loss: 0.4094 - val_accuracy: 0.8164\n",
      "Epoch 82/300\n",
      "202/202 [==============================] - 1s 7ms/step - loss: 0.3854 - accuracy: 0.8268 - val_loss: 0.4042 - val_accuracy: 0.8209\n",
      "Epoch 83/300\n",
      "202/202 [==============================] - 1s 7ms/step - loss: 0.3809 - accuracy: 0.8251 - val_loss: 0.4084 - val_accuracy: 0.8179\n",
      "Epoch 84/300\n",
      "202/202 [==============================] - 1s 6ms/step - loss: 0.3816 - accuracy: 0.8235 - val_loss: 0.4123 - val_accuracy: 0.8159\n",
      "Epoch 85/300\n",
      "202/202 [==============================] - 1s 6ms/step - loss: 0.3857 - accuracy: 0.8248 - val_loss: 0.4099 - val_accuracy: 0.8141\n",
      "Epoch 86/300\n",
      "202/202 [==============================] - 1s 7ms/step - loss: 0.3823 - accuracy: 0.8290 - val_loss: 0.4096 - val_accuracy: 0.8175\n",
      "Epoch 87/300\n",
      "202/202 [==============================] - 1s 5ms/step - loss: 0.3812 - accuracy: 0.8266 - val_loss: 0.4141 - val_accuracy: 0.8164\n",
      "Epoch 88/300\n",
      "202/202 [==============================] - 1s 5ms/step - loss: 0.3786 - accuracy: 0.8278 - val_loss: 0.4142 - val_accuracy: 0.8150\n",
      "Epoch 89/300\n",
      "202/202 [==============================] - 1s 5ms/step - loss: 0.3766 - accuracy: 0.8296 - val_loss: 0.4143 - val_accuracy: 0.8193\n",
      "Epoch 90/300\n",
      "202/202 [==============================] - 1s 5ms/step - loss: 0.3764 - accuracy: 0.8308 - val_loss: 0.4052 - val_accuracy: 0.8242\n",
      "Epoch 91/300\n",
      "202/202 [==============================] - 1s 6ms/step - loss: 0.3734 - accuracy: 0.8293 - val_loss: 0.4065 - val_accuracy: 0.8215\n",
      "Epoch 92/300\n",
      "202/202 [==============================] - 1s 6ms/step - loss: 0.3771 - accuracy: 0.8336 - val_loss: 0.3984 - val_accuracy: 0.8248\n",
      "Epoch 93/300\n",
      "202/202 [==============================] - 1s 6ms/step - loss: 0.3760 - accuracy: 0.8308 - val_loss: 0.4106 - val_accuracy: 0.8150\n",
      "Epoch 94/300\n",
      "202/202 [==============================] - 1s 5ms/step - loss: 0.3728 - accuracy: 0.8327 - val_loss: 0.4053 - val_accuracy: 0.8220\n",
      "Epoch 95/300\n",
      "202/202 [==============================] - 1s 5ms/step - loss: 0.3730 - accuracy: 0.8334 - val_loss: 0.4032 - val_accuracy: 0.8202\n",
      "Epoch 96/300\n",
      "202/202 [==============================] - 1s 5ms/step - loss: 0.3758 - accuracy: 0.8332 - val_loss: 0.4016 - val_accuracy: 0.8214\n",
      "Epoch 97/300\n",
      "202/202 [==============================] - 1s 5ms/step - loss: 0.3730 - accuracy: 0.8341 - val_loss: 0.4110 - val_accuracy: 0.8167\n",
      "Epoch 98/300\n",
      "202/202 [==============================] - 1s 5ms/step - loss: 0.3693 - accuracy: 0.8352 - val_loss: 0.4047 - val_accuracy: 0.8238\n",
      "Epoch 99/300\n",
      "202/202 [==============================] - 1s 6ms/step - loss: 0.3727 - accuracy: 0.8340 - val_loss: 0.4099 - val_accuracy: 0.8230\n",
      "Epoch 100/300\n",
      "202/202 [==============================] - 1s 5ms/step - loss: 0.3738 - accuracy: 0.8330 - val_loss: 0.3978 - val_accuracy: 0.8259\n",
      "Epoch 101/300\n",
      "202/202 [==============================] - 1s 5ms/step - loss: 0.3737 - accuracy: 0.8314 - val_loss: 0.4085 - val_accuracy: 0.8191\n",
      "Epoch 102/300\n",
      "202/202 [==============================] - 1s 5ms/step - loss: 0.3724 - accuracy: 0.8347 - val_loss: 0.4057 - val_accuracy: 0.8183\n",
      "Epoch 103/300\n",
      "202/202 [==============================] - 1s 5ms/step - loss: 0.3671 - accuracy: 0.8374 - val_loss: 0.4056 - val_accuracy: 0.8225\n",
      "Epoch 104/300\n",
      "202/202 [==============================] - 1s 5ms/step - loss: 0.3662 - accuracy: 0.8359 - val_loss: 0.4044 - val_accuracy: 0.8220\n",
      "Epoch 105/300\n",
      "202/202 [==============================] - 1s 5ms/step - loss: 0.3662 - accuracy: 0.8350 - val_loss: 0.4027 - val_accuracy: 0.8200\n",
      "Epoch 106/300\n",
      "202/202 [==============================] - 1s 5ms/step - loss: 0.3694 - accuracy: 0.8328 - val_loss: 0.4026 - val_accuracy: 0.8191\n",
      "Epoch 107/300\n",
      "202/202 [==============================] - 1s 5ms/step - loss: 0.3621 - accuracy: 0.8362 - val_loss: 0.4102 - val_accuracy: 0.8235\n",
      "Epoch 108/300\n",
      "202/202 [==============================] - 1s 6ms/step - loss: 0.3630 - accuracy: 0.8372 - val_loss: 0.4054 - val_accuracy: 0.8228\n",
      "Epoch 109/300\n",
      "202/202 [==============================] - 1s 6ms/step - loss: 0.3641 - accuracy: 0.8357 - val_loss: 0.4048 - val_accuracy: 0.8280\n",
      "Epoch 110/300\n",
      "202/202 [==============================] - 1s 6ms/step - loss: 0.3663 - accuracy: 0.8342 - val_loss: 0.4074 - val_accuracy: 0.8244\n",
      "Epoch 111/300\n",
      "202/202 [==============================] - 1s 5ms/step - loss: 0.3641 - accuracy: 0.8346 - val_loss: 0.4021 - val_accuracy: 0.8253\n",
      "Epoch 112/300\n",
      "202/202 [==============================] - 1s 5ms/step - loss: 0.3637 - accuracy: 0.8351 - val_loss: 0.4021 - val_accuracy: 0.8232\n",
      "Epoch 113/300\n",
      "202/202 [==============================] - 1s 5ms/step - loss: 0.3639 - accuracy: 0.8377 - val_loss: 0.3950 - val_accuracy: 0.8255\n",
      "Epoch 114/300\n",
      "202/202 [==============================] - 1s 6ms/step - loss: 0.3592 - accuracy: 0.8362 - val_loss: 0.4032 - val_accuracy: 0.8266\n"
     ]
    },
    {
     "name": "stdout",
     "output_type": "stream",
     "text": [
      "Epoch 115/300\n",
      "202/202 [==============================] - 1s 5ms/step - loss: 0.3592 - accuracy: 0.8414 - val_loss: 0.4120 - val_accuracy: 0.8257\n",
      "Epoch 116/300\n",
      "202/202 [==============================] - 1s 5ms/step - loss: 0.3674 - accuracy: 0.8346 - val_loss: 0.4013 - val_accuracy: 0.8288\n",
      "Epoch 117/300\n",
      "202/202 [==============================] - 1s 6ms/step - loss: 0.3562 - accuracy: 0.8427 - val_loss: 0.3979 - val_accuracy: 0.8269\n",
      "Epoch 118/300\n",
      "202/202 [==============================] - 1s 6ms/step - loss: 0.3661 - accuracy: 0.8358 - val_loss: 0.4000 - val_accuracy: 0.8219\n",
      "Epoch 119/300\n",
      "202/202 [==============================] - 1s 5ms/step - loss: 0.3584 - accuracy: 0.8382 - val_loss: 0.4045 - val_accuracy: 0.8270\n",
      "Epoch 120/300\n",
      "202/202 [==============================] - 1s 5ms/step - loss: 0.3552 - accuracy: 0.8391 - val_loss: 0.4040 - val_accuracy: 0.8300\n",
      "Epoch 121/300\n",
      "202/202 [==============================] - 1s 5ms/step - loss: 0.3587 - accuracy: 0.8413 - val_loss: 0.4031 - val_accuracy: 0.8236\n",
      "Epoch 122/300\n",
      "202/202 [==============================] - 1s 6ms/step - loss: 0.3555 - accuracy: 0.8417 - val_loss: 0.4026 - val_accuracy: 0.8283\n",
      "Epoch 123/300\n",
      "202/202 [==============================] - 1s 5ms/step - loss: 0.3584 - accuracy: 0.8397 - val_loss: 0.4087 - val_accuracy: 0.8213\n",
      "Epoch 124/300\n",
      "202/202 [==============================] - 1s 5ms/step - loss: 0.3576 - accuracy: 0.8403 - val_loss: 0.4014 - val_accuracy: 0.8262\n",
      "Epoch 125/300\n",
      "202/202 [==============================] - 1s 5ms/step - loss: 0.3550 - accuracy: 0.8408 - val_loss: 0.4000 - val_accuracy: 0.8232\n",
      "Epoch 126/300\n",
      "202/202 [==============================] - 1s 6ms/step - loss: 0.3573 - accuracy: 0.8407 - val_loss: 0.4049 - val_accuracy: 0.8258\n",
      "Epoch 127/300\n",
      "202/202 [==============================] - 1s 5ms/step - loss: 0.3551 - accuracy: 0.8396 - val_loss: 0.4064 - val_accuracy: 0.8206\n",
      "Epoch 128/300\n",
      "202/202 [==============================] - 1s 6ms/step - loss: 0.3522 - accuracy: 0.8425 - val_loss: 0.3994 - val_accuracy: 0.8275\n",
      "Epoch 129/300\n",
      "202/202 [==============================] - 1s 7ms/step - loss: 0.3547 - accuracy: 0.8428 - val_loss: 0.3956 - val_accuracy: 0.8259\n",
      "Epoch 130/300\n",
      "202/202 [==============================] - 1s 5ms/step - loss: 0.3588 - accuracy: 0.8406 - val_loss: 0.4062 - val_accuracy: 0.8250\n",
      "Epoch 131/300\n",
      "202/202 [==============================] - 1s 5ms/step - loss: 0.3539 - accuracy: 0.8400 - val_loss: 0.4090 - val_accuracy: 0.8211\n",
      "Epoch 132/300\n",
      "202/202 [==============================] - 1s 6ms/step - loss: 0.3619 - accuracy: 0.8383 - val_loss: 0.4003 - val_accuracy: 0.8208\n",
      "Epoch 133/300\n",
      "202/202 [==============================] - 1s 5ms/step - loss: 0.3547 - accuracy: 0.8416 - val_loss: 0.4012 - val_accuracy: 0.8252\n",
      "Epoch 134/300\n",
      "202/202 [==============================] - 1s 5ms/step - loss: 0.3592 - accuracy: 0.8406 - val_loss: 0.3949 - val_accuracy: 0.8279\n",
      "Epoch 135/300\n",
      "202/202 [==============================] - 1s 5ms/step - loss: 0.3547 - accuracy: 0.8447 - val_loss: 0.4042 - val_accuracy: 0.8206\n",
      "Epoch 136/300\n",
      "202/202 [==============================] - 1s 6ms/step - loss: 0.3609 - accuracy: 0.8395 - val_loss: 0.3993 - val_accuracy: 0.8286\n",
      "Epoch 137/300\n",
      "202/202 [==============================] - 1s 7ms/step - loss: 0.3535 - accuracy: 0.8446 - val_loss: 0.3971 - val_accuracy: 0.8295\n",
      "Epoch 138/300\n",
      "202/202 [==============================] - 1s 7ms/step - loss: 0.3495 - accuracy: 0.8471 - val_loss: 0.4019 - val_accuracy: 0.8281\n",
      "Epoch 139/300\n",
      "202/202 [==============================] - 1s 7ms/step - loss: 0.3582 - accuracy: 0.8411 - val_loss: 0.3976 - val_accuracy: 0.8282\n",
      "Epoch 140/300\n",
      "202/202 [==============================] - 1s 6ms/step - loss: 0.3500 - accuracy: 0.8439 - val_loss: 0.4004 - val_accuracy: 0.8244\n",
      "Epoch 141/300\n",
      "202/202 [==============================] - 1s 6ms/step - loss: 0.3531 - accuracy: 0.8409 - val_loss: 0.4016 - val_accuracy: 0.8272\n",
      "Epoch 142/300\n",
      "202/202 [==============================] - 1s 5ms/step - loss: 0.3474 - accuracy: 0.8457 - val_loss: 0.3955 - val_accuracy: 0.8288\n",
      "Epoch 143/300\n",
      "202/202 [==============================] - 1s 5ms/step - loss: 0.3470 - accuracy: 0.8465 - val_loss: 0.4015 - val_accuracy: 0.8229\n",
      "Epoch 144/300\n",
      "202/202 [==============================] - 1s 5ms/step - loss: 0.3472 - accuracy: 0.8458 - val_loss: 0.4040 - val_accuracy: 0.8262\n",
      "Epoch 145/300\n",
      "202/202 [==============================] - 1s 5ms/step - loss: 0.3528 - accuracy: 0.8389 - val_loss: 0.4061 - val_accuracy: 0.8213\n",
      "Epoch 146/300\n",
      "202/202 [==============================] - 1s 5ms/step - loss: 0.3489 - accuracy: 0.8434 - val_loss: 0.3979 - val_accuracy: 0.8311\n",
      "Epoch 147/300\n",
      "202/202 [==============================] - 1s 5ms/step - loss: 0.3448 - accuracy: 0.8461 - val_loss: 0.4034 - val_accuracy: 0.8256\n",
      "Epoch 148/300\n",
      "202/202 [==============================] - 1s 5ms/step - loss: 0.3486 - accuracy: 0.8458 - val_loss: 0.4040 - val_accuracy: 0.8271\n",
      "Epoch 149/300\n",
      "202/202 [==============================] - 1s 5ms/step - loss: 0.3447 - accuracy: 0.8476 - val_loss: 0.3940 - val_accuracy: 0.8253\n",
      "Epoch 150/300\n",
      "202/202 [==============================] - 1s 5ms/step - loss: 0.3442 - accuracy: 0.8460 - val_loss: 0.3978 - val_accuracy: 0.8311\n",
      "Epoch 151/300\n",
      "202/202 [==============================] - 1s 5ms/step - loss: 0.3443 - accuracy: 0.8484 - val_loss: 0.4031 - val_accuracy: 0.8310\n",
      "Epoch 152/300\n",
      "202/202 [==============================] - 1s 5ms/step - loss: 0.3474 - accuracy: 0.8458 - val_loss: 0.3982 - val_accuracy: 0.8255\n",
      "Epoch 153/300\n",
      "202/202 [==============================] - 1s 5ms/step - loss: 0.3489 - accuracy: 0.8461 - val_loss: 0.3947 - val_accuracy: 0.8298\n",
      "Epoch 154/300\n",
      "202/202 [==============================] - 1s 5ms/step - loss: 0.3434 - accuracy: 0.8474 - val_loss: 0.3950 - val_accuracy: 0.8340\n",
      "Epoch 155/300\n",
      "202/202 [==============================] - 1s 6ms/step - loss: 0.3423 - accuracy: 0.8465 - val_loss: 0.4017 - val_accuracy: 0.8236\n",
      "Epoch 156/300\n",
      "202/202 [==============================] - 1s 6ms/step - loss: 0.3486 - accuracy: 0.8442 - val_loss: 0.3913 - val_accuracy: 0.8313\n",
      "Epoch 157/300\n",
      "202/202 [==============================] - 1s 5ms/step - loss: 0.3392 - accuracy: 0.8472 - val_loss: 0.3936 - val_accuracy: 0.8324\n",
      "Epoch 158/300\n",
      "202/202 [==============================] - 1s 5ms/step - loss: 0.3404 - accuracy: 0.8483 - val_loss: 0.3945 - val_accuracy: 0.8315\n",
      "Epoch 159/300\n",
      "202/202 [==============================] - 1s 6ms/step - loss: 0.3461 - accuracy: 0.8497 - val_loss: 0.3985 - val_accuracy: 0.8286\n",
      "Epoch 160/300\n",
      "202/202 [==============================] - 1s 6ms/step - loss: 0.3476 - accuracy: 0.8453 - val_loss: 0.3955 - val_accuracy: 0.8329\n",
      "Epoch 161/300\n",
      "202/202 [==============================] - 1s 6ms/step - loss: 0.3360 - accuracy: 0.8478 - val_loss: 0.4034 - val_accuracy: 0.8303\n",
      "Epoch 162/300\n",
      "202/202 [==============================] - 1s 6ms/step - loss: 0.3408 - accuracy: 0.8492 - val_loss: 0.4073 - val_accuracy: 0.8247\n",
      "Epoch 163/300\n",
      "202/202 [==============================] - 1s 5ms/step - loss: 0.3395 - accuracy: 0.8483 - val_loss: 0.3980 - val_accuracy: 0.8327\n",
      "Epoch 164/300\n",
      "202/202 [==============================] - 1s 6ms/step - loss: 0.3453 - accuracy: 0.8459 - val_loss: 0.4000 - val_accuracy: 0.8252\n",
      "Epoch 165/300\n",
      "202/202 [==============================] - 1s 5ms/step - loss: 0.3422 - accuracy: 0.8464 - val_loss: 0.4060 - val_accuracy: 0.8274\n",
      "Epoch 166/300\n",
      "202/202 [==============================] - 1s 6ms/step - loss: 0.3428 - accuracy: 0.8469 - val_loss: 0.3936 - val_accuracy: 0.8276\n",
      "Epoch 167/300\n",
      "202/202 [==============================] - 2s 8ms/step - loss: 0.3392 - accuracy: 0.8472 - val_loss: 0.4072 - val_accuracy: 0.8269\n",
      "Epoch 168/300\n",
      "202/202 [==============================] - 1s 7ms/step - loss: 0.3435 - accuracy: 0.8475 - val_loss: 0.3943 - val_accuracy: 0.8293\n",
      "Epoch 169/300\n",
      "202/202 [==============================] - 1s 7ms/step - loss: 0.3381 - accuracy: 0.8504 - val_loss: 0.3887 - val_accuracy: 0.8305\n",
      "Epoch 170/300\n",
      "202/202 [==============================] - 1s 6ms/step - loss: 0.3377 - accuracy: 0.8505 - val_loss: 0.3995 - val_accuracy: 0.8231\n",
      "Epoch 171/300\n"
     ]
    },
    {
     "name": "stdout",
     "output_type": "stream",
     "text": [
      "202/202 [==============================] - 1s 6ms/step - loss: 0.3416 - accuracy: 0.8491 - val_loss: 0.4000 - val_accuracy: 0.8314\n",
      "Epoch 172/300\n",
      "202/202 [==============================] - 1s 5ms/step - loss: 0.3393 - accuracy: 0.8502 - val_loss: 0.3997 - val_accuracy: 0.8289\n",
      "Epoch 173/300\n",
      "202/202 [==============================] - 1s 6ms/step - loss: 0.3432 - accuracy: 0.8480 - val_loss: 0.3976 - val_accuracy: 0.8295\n",
      "Epoch 174/300\n",
      "202/202 [==============================] - 1s 5ms/step - loss: 0.3369 - accuracy: 0.8494 - val_loss: 0.4051 - val_accuracy: 0.8311\n",
      "Epoch 175/300\n",
      "202/202 [==============================] - 1s 5ms/step - loss: 0.3415 - accuracy: 0.8483 - val_loss: 0.3944 - val_accuracy: 0.8309\n",
      "Epoch 176/300\n",
      "202/202 [==============================] - 1s 5ms/step - loss: 0.3366 - accuracy: 0.8515 - val_loss: 0.3934 - val_accuracy: 0.8270\n",
      "Epoch 177/300\n",
      "202/202 [==============================] - 1s 5ms/step - loss: 0.3391 - accuracy: 0.8506 - val_loss: 0.3891 - val_accuracy: 0.8340\n",
      "Epoch 178/300\n",
      "202/202 [==============================] - 1s 6ms/step - loss: 0.3366 - accuracy: 0.8505 - val_loss: 0.3892 - val_accuracy: 0.8366\n",
      "Epoch 179/300\n",
      "202/202 [==============================] - 1s 5ms/step - loss: 0.3383 - accuracy: 0.8490 - val_loss: 0.4085 - val_accuracy: 0.8300\n",
      "Epoch 180/300\n",
      "202/202 [==============================] - 1s 6ms/step - loss: 0.3377 - accuracy: 0.8469 - val_loss: 0.3912 - val_accuracy: 0.8295\n",
      "Epoch 181/300\n",
      "202/202 [==============================] - 1s 6ms/step - loss: 0.3387 - accuracy: 0.8479 - val_loss: 0.3921 - val_accuracy: 0.8303\n",
      "Epoch 182/300\n",
      "202/202 [==============================] - 1s 5ms/step - loss: 0.3386 - accuracy: 0.8468 - val_loss: 0.3961 - val_accuracy: 0.8271\n",
      "Epoch 183/300\n",
      "202/202 [==============================] - 1s 5ms/step - loss: 0.3316 - accuracy: 0.8507 - val_loss: 0.3970 - val_accuracy: 0.8316\n",
      "Epoch 184/300\n",
      "202/202 [==============================] - 1s 5ms/step - loss: 0.3352 - accuracy: 0.8496 - val_loss: 0.3917 - val_accuracy: 0.8322\n",
      "Epoch 185/300\n",
      "202/202 [==============================] - 1s 5ms/step - loss: 0.3350 - accuracy: 0.8499 - val_loss: 0.3925 - val_accuracy: 0.8347\n",
      "Epoch 186/300\n",
      "202/202 [==============================] - 1s 5ms/step - loss: 0.3323 - accuracy: 0.8539 - val_loss: 0.4051 - val_accuracy: 0.8301\n",
      "Epoch 187/300\n",
      "202/202 [==============================] - 1s 7ms/step - loss: 0.3371 - accuracy: 0.8487 - val_loss: 0.3925 - val_accuracy: 0.8324\n",
      "Epoch 188/300\n",
      "202/202 [==============================] - 1s 6ms/step - loss: 0.3358 - accuracy: 0.8516 - val_loss: 0.3978 - val_accuracy: 0.8304\n",
      "Epoch 189/300\n",
      "202/202 [==============================] - 1s 5ms/step - loss: 0.3360 - accuracy: 0.8499 - val_loss: 0.4006 - val_accuracy: 0.8325\n",
      "Epoch 190/300\n",
      "202/202 [==============================] - 1s 6ms/step - loss: 0.3312 - accuracy: 0.8542 - val_loss: 0.3926 - val_accuracy: 0.8334\n",
      "Epoch 191/300\n",
      "202/202 [==============================] - 1s 7ms/step - loss: 0.3371 - accuracy: 0.8503 - val_loss: 0.3864 - val_accuracy: 0.8343\n",
      "Epoch 192/300\n",
      "202/202 [==============================] - 1s 6ms/step - loss: 0.3299 - accuracy: 0.8517 - val_loss: 0.3900 - val_accuracy: 0.8360\n",
      "Epoch 193/300\n",
      "202/202 [==============================] - 1s 6ms/step - loss: 0.3360 - accuracy: 0.8499 - val_loss: 0.3895 - val_accuracy: 0.8357\n",
      "Epoch 194/300\n",
      "202/202 [==============================] - 1s 5ms/step - loss: 0.3371 - accuracy: 0.8508 - val_loss: 0.3896 - val_accuracy: 0.8310\n",
      "Epoch 195/300\n",
      "202/202 [==============================] - 1s 6ms/step - loss: 0.3286 - accuracy: 0.8534 - val_loss: 0.4008 - val_accuracy: 0.8334\n",
      "Epoch 196/300\n",
      "202/202 [==============================] - 1s 7ms/step - loss: 0.3329 - accuracy: 0.8538 - val_loss: 0.3985 - val_accuracy: 0.8329\n",
      "Epoch 197/300\n",
      "202/202 [==============================] - 1s 6ms/step - loss: 0.3308 - accuracy: 0.8519 - val_loss: 0.3860 - val_accuracy: 0.8369\n",
      "Epoch 198/300\n",
      "202/202 [==============================] - 1s 5ms/step - loss: 0.3272 - accuracy: 0.8551 - val_loss: 0.4145 - val_accuracy: 0.8291\n",
      "Epoch 199/300\n",
      "202/202 [==============================] - 1s 5ms/step - loss: 0.3305 - accuracy: 0.8529 - val_loss: 0.3916 - val_accuracy: 0.8333\n",
      "Epoch 200/300\n",
      "202/202 [==============================] - 1s 6ms/step - loss: 0.3286 - accuracy: 0.8512 - val_loss: 0.3929 - val_accuracy: 0.8317\n",
      "Epoch 201/300\n",
      "202/202 [==============================] - 1s 5ms/step - loss: 0.3360 - accuracy: 0.8482 - val_loss: 0.4043 - val_accuracy: 0.8263\n",
      "Epoch 202/300\n",
      "202/202 [==============================] - 1s 6ms/step - loss: 0.3270 - accuracy: 0.8546 - val_loss: 0.3915 - val_accuracy: 0.8359\n",
      "Epoch 203/300\n",
      "202/202 [==============================] - 1s 6ms/step - loss: 0.3250 - accuracy: 0.8522 - val_loss: 0.3942 - val_accuracy: 0.8325\n",
      "Epoch 204/300\n",
      "202/202 [==============================] - 1s 6ms/step - loss: 0.3261 - accuracy: 0.8550 - val_loss: 0.3876 - val_accuracy: 0.8355\n",
      "Epoch 205/300\n",
      "202/202 [==============================] - 1s 5ms/step - loss: 0.3298 - accuracy: 0.8536 - val_loss: 0.3933 - val_accuracy: 0.8312\n",
      "Epoch 206/300\n",
      "202/202 [==============================] - 1s 6ms/step - loss: 0.3350 - accuracy: 0.8462 - val_loss: 0.4017 - val_accuracy: 0.8314\n",
      "Epoch 207/300\n",
      "202/202 [==============================] - 1s 6ms/step - loss: 0.3294 - accuracy: 0.8529 - val_loss: 0.4101 - val_accuracy: 0.8272\n",
      "Epoch 208/300\n",
      "202/202 [==============================] - 1s 7ms/step - loss: 0.3305 - accuracy: 0.8541 - val_loss: 0.3987 - val_accuracy: 0.8352\n",
      "Epoch 209/300\n",
      "202/202 [==============================] - 1s 7ms/step - loss: 0.3235 - accuracy: 0.8539 - val_loss: 0.3977 - val_accuracy: 0.8347\n",
      "Epoch 210/300\n",
      "202/202 [==============================] - 1s 6ms/step - loss: 0.3250 - accuracy: 0.8556 - val_loss: 0.3923 - val_accuracy: 0.8341\n",
      "Epoch 211/300\n",
      "202/202 [==============================] - 1s 5ms/step - loss: 0.3256 - accuracy: 0.8571 - val_loss: 0.3892 - val_accuracy: 0.8356\n",
      "Epoch 212/300\n",
      "202/202 [==============================] - 1s 5ms/step - loss: 0.3307 - accuracy: 0.8542 - val_loss: 0.3969 - val_accuracy: 0.8302\n",
      "Epoch 213/300\n",
      "202/202 [==============================] - 1s 5ms/step - loss: 0.3244 - accuracy: 0.8579 - val_loss: 0.3977 - val_accuracy: 0.8332\n",
      "Epoch 214/300\n",
      "202/202 [==============================] - 1s 5ms/step - loss: 0.3204 - accuracy: 0.8564 - val_loss: 0.4017 - val_accuracy: 0.8305\n",
      "Epoch 215/300\n",
      "202/202 [==============================] - 1s 6ms/step - loss: 0.3298 - accuracy: 0.8513 - val_loss: 0.3964 - val_accuracy: 0.8357\n",
      "Epoch 216/300\n",
      "202/202 [==============================] - 1s 5ms/step - loss: 0.3251 - accuracy: 0.8538 - val_loss: 0.3950 - val_accuracy: 0.8342\n",
      "Epoch 217/300\n",
      "202/202 [==============================] - 1s 5ms/step - loss: 0.3301 - accuracy: 0.8518 - val_loss: 0.3877 - val_accuracy: 0.8319\n",
      "Epoch 218/300\n",
      "202/202 [==============================] - 1s 6ms/step - loss: 0.3276 - accuracy: 0.8559 - val_loss: 0.3925 - val_accuracy: 0.8341\n",
      "Epoch 219/300\n",
      "202/202 [==============================] - 1s 5ms/step - loss: 0.3219 - accuracy: 0.8576 - val_loss: 0.4113 - val_accuracy: 0.8293\n",
      "Epoch 220/300\n",
      "202/202 [==============================] - 1s 5ms/step - loss: 0.3290 - accuracy: 0.8534 - val_loss: 0.4018 - val_accuracy: 0.8260\n",
      "Epoch 221/300\n",
      "202/202 [==============================] - 1s 5ms/step - loss: 0.3252 - accuracy: 0.8555 - val_loss: 0.3917 - val_accuracy: 0.8365\n",
      "Epoch 222/300\n",
      "202/202 [==============================] - 1s 6ms/step - loss: 0.3235 - accuracy: 0.8554 - val_loss: 0.3952 - val_accuracy: 0.8350\n",
      "Epoch 223/300\n",
      "202/202 [==============================] - 1s 5ms/step - loss: 0.3254 - accuracy: 0.8554 - val_loss: 0.4031 - val_accuracy: 0.8318\n",
      "Epoch 224/300\n",
      "202/202 [==============================] - 1s 5ms/step - loss: 0.3268 - accuracy: 0.8555 - val_loss: 0.3839 - val_accuracy: 0.8388\n",
      "Epoch 225/300\n",
      "202/202 [==============================] - 1s 5ms/step - loss: 0.3257 - accuracy: 0.8567 - val_loss: 0.4022 - val_accuracy: 0.8346\n",
      "Epoch 226/300\n",
      "202/202 [==============================] - 1s 5ms/step - loss: 0.3232 - accuracy: 0.8571 - val_loss: 0.4040 - val_accuracy: 0.8249\n",
      "Epoch 227/300\n"
     ]
    },
    {
     "name": "stdout",
     "output_type": "stream",
     "text": [
      "202/202 [==============================] - 1s 5ms/step - loss: 0.3302 - accuracy: 0.8549 - val_loss: 0.3942 - val_accuracy: 0.8275\n",
      "Epoch 228/300\n",
      "202/202 [==============================] - 1s 5ms/step - loss: 0.3246 - accuracy: 0.8562 - val_loss: 0.4023 - val_accuracy: 0.8327\n",
      "Epoch 229/300\n",
      "202/202 [==============================] - 1s 6ms/step - loss: 0.3292 - accuracy: 0.8505 - val_loss: 0.4077 - val_accuracy: 0.8341\n",
      "Epoch 230/300\n",
      "202/202 [==============================] - 1s 6ms/step - loss: 0.3257 - accuracy: 0.8547 - val_loss: 0.3915 - val_accuracy: 0.8374\n",
      "Epoch 231/300\n",
      "202/202 [==============================] - 1s 5ms/step - loss: 0.3235 - accuracy: 0.8571 - val_loss: 0.4037 - val_accuracy: 0.8308\n",
      "Epoch 232/300\n",
      "202/202 [==============================] - 1s 5ms/step - loss: 0.3251 - accuracy: 0.8521 - val_loss: 0.3985 - val_accuracy: 0.8321\n",
      "Epoch 233/300\n",
      "202/202 [==============================] - 1s 5ms/step - loss: 0.3254 - accuracy: 0.8536 - val_loss: 0.3895 - val_accuracy: 0.8369\n",
      "Epoch 234/300\n",
      "202/202 [==============================] - 1s 5ms/step - loss: 0.3188 - accuracy: 0.8569 - val_loss: 0.3876 - val_accuracy: 0.8382\n",
      "Epoch 235/300\n",
      "202/202 [==============================] - 1s 6ms/step - loss: 0.3169 - accuracy: 0.8593 - val_loss: 0.4103 - val_accuracy: 0.8303\n",
      "Epoch 236/300\n",
      "202/202 [==============================] - 1s 5ms/step - loss: 0.3195 - accuracy: 0.8561 - val_loss: 0.3944 - val_accuracy: 0.8331\n",
      "Epoch 237/300\n",
      "202/202 [==============================] - 1s 6ms/step - loss: 0.3246 - accuracy: 0.8559 - val_loss: 0.3864 - val_accuracy: 0.8348\n",
      "Epoch 238/300\n",
      "202/202 [==============================] - 1s 5ms/step - loss: 0.3205 - accuracy: 0.8592 - val_loss: 0.3828 - val_accuracy: 0.8370\n",
      "Epoch 239/300\n",
      "202/202 [==============================] - 1s 6ms/step - loss: 0.3227 - accuracy: 0.8572 - val_loss: 0.3816 - val_accuracy: 0.8382\n",
      "Epoch 240/300\n",
      "202/202 [==============================] - 1s 6ms/step - loss: 0.3188 - accuracy: 0.8613 - val_loss: 0.4015 - val_accuracy: 0.8304\n",
      "Epoch 241/300\n",
      "202/202 [==============================] - 1s 7ms/step - loss: 0.3216 - accuracy: 0.8588 - val_loss: 0.3875 - val_accuracy: 0.8401\n",
      "Epoch 242/300\n",
      "202/202 [==============================] - 1s 5ms/step - loss: 0.3193 - accuracy: 0.8604 - val_loss: 0.3929 - val_accuracy: 0.8367\n",
      "Epoch 243/300\n",
      "202/202 [==============================] - 1s 5ms/step - loss: 0.3227 - accuracy: 0.8558 - val_loss: 0.3864 - val_accuracy: 0.8370\n",
      "Epoch 244/300\n",
      "202/202 [==============================] - 1s 7ms/step - loss: 0.3210 - accuracy: 0.8539 - val_loss: 0.3789 - val_accuracy: 0.8339\n",
      "Epoch 245/300\n",
      "202/202 [==============================] - 1s 5ms/step - loss: 0.3206 - accuracy: 0.8582 - val_loss: 0.3845 - val_accuracy: 0.8376\n",
      "Epoch 246/300\n",
      "202/202 [==============================] - 1s 5ms/step - loss: 0.3203 - accuracy: 0.8577 - val_loss: 0.3863 - val_accuracy: 0.8402\n",
      "Epoch 247/300\n",
      "202/202 [==============================] - 1s 5ms/step - loss: 0.3202 - accuracy: 0.8569 - val_loss: 0.3902 - val_accuracy: 0.8358\n",
      "Epoch 248/300\n",
      "202/202 [==============================] - 1s 6ms/step - loss: 0.3192 - accuracy: 0.8600 - val_loss: 0.4042 - val_accuracy: 0.8332\n",
      "Epoch 249/300\n",
      "202/202 [==============================] - 1s 6ms/step - loss: 0.3222 - accuracy: 0.8571 - val_loss: 0.3970 - val_accuracy: 0.8290\n",
      "Epoch 250/300\n",
      "202/202 [==============================] - 1s 5ms/step - loss: 0.3175 - accuracy: 0.8596 - val_loss: 0.3858 - val_accuracy: 0.8352\n",
      "Epoch 251/300\n",
      "202/202 [==============================] - 1s 7ms/step - loss: 0.3179 - accuracy: 0.8611 - val_loss: 0.3914 - val_accuracy: 0.8381\n",
      "Epoch 252/300\n",
      "202/202 [==============================] - 1s 5ms/step - loss: 0.3187 - accuracy: 0.8588 - val_loss: 0.3927 - val_accuracy: 0.8376\n",
      "Epoch 253/300\n",
      "202/202 [==============================] - 1s 5ms/step - loss: 0.3187 - accuracy: 0.8587 - val_loss: 0.3856 - val_accuracy: 0.8399\n",
      "Epoch 254/300\n",
      "202/202 [==============================] - 1s 5ms/step - loss: 0.3214 - accuracy: 0.8553 - val_loss: 0.3875 - val_accuracy: 0.8322\n",
      "Epoch 255/300\n",
      "202/202 [==============================] - 1s 6ms/step - loss: 0.3177 - accuracy: 0.8580 - val_loss: 0.3899 - val_accuracy: 0.8370\n",
      "Epoch 256/300\n",
      "202/202 [==============================] - 1s 5ms/step - loss: 0.3286 - accuracy: 0.8563 - val_loss: 0.3862 - val_accuracy: 0.8336\n",
      "Epoch 257/300\n",
      "202/202 [==============================] - 1s 5ms/step - loss: 0.3217 - accuracy: 0.8575 - val_loss: 0.3817 - val_accuracy: 0.8419\n",
      "Epoch 258/300\n",
      "202/202 [==============================] - 1s 5ms/step - loss: 0.3143 - accuracy: 0.8637 - val_loss: 0.3943 - val_accuracy: 0.8406\n",
      "Epoch 259/300\n",
      "202/202 [==============================] - 1s 6ms/step - loss: 0.3220 - accuracy: 0.8549 - val_loss: 0.3916 - val_accuracy: 0.8365\n",
      "Epoch 260/300\n",
      "202/202 [==============================] - 1s 7ms/step - loss: 0.3115 - accuracy: 0.8594 - val_loss: 0.3896 - val_accuracy: 0.8388\n",
      "Epoch 261/300\n",
      "202/202 [==============================] - 2s 8ms/step - loss: 0.3188 - accuracy: 0.8583 - val_loss: 0.3942 - val_accuracy: 0.8385\n",
      "Epoch 262/300\n",
      "202/202 [==============================] - 1s 5ms/step - loss: 0.3142 - accuracy: 0.8606 - val_loss: 0.3892 - val_accuracy: 0.8331\n",
      "Epoch 263/300\n",
      "202/202 [==============================] - 1s 5ms/step - loss: 0.3204 - accuracy: 0.8571 - val_loss: 0.3835 - val_accuracy: 0.8359\n",
      "Epoch 264/300\n",
      "202/202 [==============================] - 1s 6ms/step - loss: 0.3082 - accuracy: 0.8630 - val_loss: 0.4208 - val_accuracy: 0.8326\n",
      "Epoch 265/300\n",
      "202/202 [==============================] - 1s 6ms/step - loss: 0.3196 - accuracy: 0.8580 - val_loss: 0.3975 - val_accuracy: 0.8375\n",
      "Epoch 266/300\n",
      "202/202 [==============================] - 1s 6ms/step - loss: 0.3103 - accuracy: 0.8618 - val_loss: 0.3990 - val_accuracy: 0.8351\n",
      "Epoch 267/300\n",
      "202/202 [==============================] - 1s 6ms/step - loss: 0.3206 - accuracy: 0.8593 - val_loss: 0.3879 - val_accuracy: 0.8386\n",
      "Epoch 268/300\n",
      "202/202 [==============================] - 1s 6ms/step - loss: 0.3133 - accuracy: 0.8600 - val_loss: 0.3848 - val_accuracy: 0.8360\n",
      "Epoch 269/300\n",
      "202/202 [==============================] - 1s 6ms/step - loss: 0.3113 - accuracy: 0.8608 - val_loss: 0.3952 - val_accuracy: 0.8381\n",
      "Epoch 270/300\n",
      "202/202 [==============================] - 1s 6ms/step - loss: 0.3181 - accuracy: 0.8594 - val_loss: 0.3988 - val_accuracy: 0.8374\n",
      "Epoch 271/300\n",
      "202/202 [==============================] - 1s 5ms/step - loss: 0.3181 - accuracy: 0.8585 - val_loss: 0.3842 - val_accuracy: 0.8345\n",
      "Epoch 272/300\n",
      "202/202 [==============================] - 1s 5ms/step - loss: 0.3149 - accuracy: 0.8576 - val_loss: 0.3827 - val_accuracy: 0.8409\n",
      "Epoch 273/300\n",
      "202/202 [==============================] - 1s 5ms/step - loss: 0.3127 - accuracy: 0.8616 - val_loss: 0.3856 - val_accuracy: 0.8344\n",
      "Epoch 274/300\n",
      "202/202 [==============================] - 1s 5ms/step - loss: 0.3188 - accuracy: 0.8593 - val_loss: 0.3843 - val_accuracy: 0.8378\n",
      "Epoch 275/300\n",
      "202/202 [==============================] - 1s 5ms/step - loss: 0.3195 - accuracy: 0.8579 - val_loss: 0.3886 - val_accuracy: 0.8369\n",
      "Epoch 276/300\n",
      "202/202 [==============================] - 1s 5ms/step - loss: 0.3184 - accuracy: 0.8583 - val_loss: 0.3930 - val_accuracy: 0.8361\n",
      "Epoch 277/300\n",
      "202/202 [==============================] - 1s 6ms/step - loss: 0.3168 - accuracy: 0.8620 - val_loss: 0.3968 - val_accuracy: 0.8371\n",
      "Epoch 278/300\n",
      "202/202 [==============================] - 1s 6ms/step - loss: 0.3176 - accuracy: 0.8595 - val_loss: 0.3877 - val_accuracy: 0.8389\n",
      "Epoch 279/300\n",
      "202/202 [==============================] - 1s 6ms/step - loss: 0.3173 - accuracy: 0.8564 - val_loss: 0.3951 - val_accuracy: 0.8323\n",
      "Epoch 280/300\n",
      "202/202 [==============================] - 1s 6ms/step - loss: 0.3172 - accuracy: 0.8566 - val_loss: 0.3892 - val_accuracy: 0.8320\n",
      "Epoch 281/300\n",
      "202/202 [==============================] - 1s 6ms/step - loss: 0.3187 - accuracy: 0.8577 - val_loss: 0.3956 - val_accuracy: 0.8330\n",
      "Epoch 282/300\n",
      "202/202 [==============================] - 1s 5ms/step - loss: 0.3119 - accuracy: 0.8608 - val_loss: 0.3849 - val_accuracy: 0.8365\n",
      "Epoch 283/300\n"
     ]
    },
    {
     "name": "stdout",
     "output_type": "stream",
     "text": [
      "202/202 [==============================] - 1s 6ms/step - loss: 0.3140 - accuracy: 0.8627 - val_loss: 0.3991 - val_accuracy: 0.8380\n",
      "Epoch 284/300\n",
      "202/202 [==============================] - 1s 5ms/step - loss: 0.3186 - accuracy: 0.8584 - val_loss: 0.3881 - val_accuracy: 0.8294\n",
      "Epoch 285/300\n",
      "202/202 [==============================] - 1s 5ms/step - loss: 0.3181 - accuracy: 0.8588 - val_loss: 0.3891 - val_accuracy: 0.8327\n",
      "Epoch 286/300\n",
      "202/202 [==============================] - 1s 5ms/step - loss: 0.3108 - accuracy: 0.8616 - val_loss: 0.3902 - val_accuracy: 0.8384\n",
      "Epoch 287/300\n",
      "202/202 [==============================] - 1s 6ms/step - loss: 0.3104 - accuracy: 0.8612 - val_loss: 0.3858 - val_accuracy: 0.8368\n",
      "Epoch 288/300\n",
      "202/202 [==============================] - 1s 6ms/step - loss: 0.3106 - accuracy: 0.8610 - val_loss: 0.3961 - val_accuracy: 0.8355\n",
      "Epoch 289/300\n",
      "202/202 [==============================] - 1s 6ms/step - loss: 0.3138 - accuracy: 0.8612 - val_loss: 0.4014 - val_accuracy: 0.8381\n",
      "Epoch 290/300\n",
      "202/202 [==============================] - 1s 6ms/step - loss: 0.3062 - accuracy: 0.8623 - val_loss: 0.3949 - val_accuracy: 0.8366\n",
      "Epoch 291/300\n",
      "202/202 [==============================] - 1s 5ms/step - loss: 0.3069 - accuracy: 0.8636 - val_loss: 0.3885 - val_accuracy: 0.8345\n",
      "Epoch 292/300\n",
      "202/202 [==============================] - 1s 6ms/step - loss: 0.3151 - accuracy: 0.8631 - val_loss: 0.3941 - val_accuracy: 0.8359\n",
      "Epoch 293/300\n",
      "202/202 [==============================] - 1s 6ms/step - loss: 0.3146 - accuracy: 0.8620 - val_loss: 0.3824 - val_accuracy: 0.8384\n",
      "Epoch 294/300\n",
      "202/202 [==============================] - 1s 6ms/step - loss: 0.3125 - accuracy: 0.8633 - val_loss: 0.4034 - val_accuracy: 0.8365\n",
      "Epoch 295/300\n",
      "202/202 [==============================] - 1s 6ms/step - loss: 0.3131 - accuracy: 0.8636 - val_loss: 0.3795 - val_accuracy: 0.8397\n",
      "Epoch 296/300\n",
      "202/202 [==============================] - 1s 7ms/step - loss: 0.3199 - accuracy: 0.8596 - val_loss: 0.3788 - val_accuracy: 0.8382\n",
      "Epoch 297/300\n",
      "202/202 [==============================] - 1s 6ms/step - loss: 0.3165 - accuracy: 0.8600 - val_loss: 0.3853 - val_accuracy: 0.8354\n",
      "Epoch 298/300\n",
      "202/202 [==============================] - 1s 5ms/step - loss: 0.3111 - accuracy: 0.8612 - val_loss: 0.3986 - val_accuracy: 0.8372\n",
      "Epoch 299/300\n",
      "202/202 [==============================] - 1s 6ms/step - loss: 0.3168 - accuracy: 0.8596 - val_loss: 0.3893 - val_accuracy: 0.8408\n",
      "Epoch 300/300\n",
      "202/202 [==============================] - 1s 6ms/step - loss: 0.3152 - accuracy: 0.8601 - val_loss: 0.3930 - val_accuracy: 0.8356\n"
     ]
    }
   ],
   "source": [
    "history = estimator.fit(X_train, y_train,  validation_data=(X_test,y_test))"
   ]
  },
  {
   "cell_type": "code",
   "execution_count": 96,
   "id": "982fdb69",
   "metadata": {},
   "outputs": [
    {
     "data": {
      "text/plain": [
       "[<matplotlib.lines.Line2D at 0x258368ed0d0>]"
      ]
     },
     "execution_count": 96,
     "metadata": {},
     "output_type": "execute_result"
    },
    {
     "data": {
      "image/png": "[encoded data removed]",
      "text/plain": [
       "<Figure size 432x288 with 1 Axes>"
      ]
     },
     "metadata": {
      "needs_background": "light"
     },
     "output_type": "display_data"
    }
   ],
   "source": [
    "plt.plot(history.history['accuracy'])"
   ]
  },
  {
   "cell_type": "code",
   "execution_count": 35,
   "id": "b888316c",
   "metadata": {},
   "outputs": [],
   "source": [
    "ecg_teste = pd.read_pickle(\"ecg_teste.pickle\")\n",
    "rotulos_teste = pd.read_csv(\"rotulos_teste.csv\")\n",
    "n_rotulos_teste = pd.read_csv(\"n_rotulos_teste.csv\")"
   ]
  },
  {
   "cell_type": "code",
   "execution_count": 36,
   "id": "f9664b98",
   "metadata": {},
   "outputs": [
    {
     "data": {
      "text/html": [
       "<div>\n",
       "<style scoped>\n",
       "    .dataframe tbody tr th:only-of-type {\n",
       "        vertical-align: middle;\n",
       "    }\n",
       "\n",
       "    .dataframe tbody tr th {\n",
       "        vertical-align: top;\n",
       "    }\n",
       "\n",
       "    .dataframe thead th {\n",
       "        text-align: right;\n",
       "    }\n",
       "</style>\n",
       "<table border=\"1\" class=\"dataframe\">\n",
       "  <thead>\n",
       "    <tr style=\"text-align: right;\">\n",
       "      <th></th>\n",
       "      <th>Unnamed: 0</th>\n",
       "      <th>0</th>\n",
       "      <th>1</th>\n",
       "      <th>2</th>\n",
       "      <th>3</th>\n",
       "      <th>4</th>\n",
       "      <th>5</th>\n",
       "      <th>6</th>\n",
       "      <th>7</th>\n",
       "      <th>8</th>\n",
       "      <th>...</th>\n",
       "      <th>3241</th>\n",
       "      <th>3242</th>\n",
       "      <th>3243</th>\n",
       "      <th>3244</th>\n",
       "      <th>3245</th>\n",
       "      <th>3246</th>\n",
       "      <th>3247</th>\n",
       "      <th>3248</th>\n",
       "      <th>3249</th>\n",
       "      <th>3250</th>\n",
       "    </tr>\n",
       "  </thead>\n",
       "  <tbody>\n",
       "    <tr>\n",
       "      <th>0</th>\n",
       "      <td>Paciente100</td>\n",
       "      <td>N</td>\n",
       "      <td>N</td>\n",
       "      <td>N</td>\n",
       "      <td>N</td>\n",
       "      <td>N</td>\n",
       "      <td>N</td>\n",
       "      <td>N</td>\n",
       "      <td>S</td>\n",
       "      <td>N</td>\n",
       "      <td>...</td>\n",
       "      <td>NaN</td>\n",
       "      <td>NaN</td>\n",
       "      <td>NaN</td>\n",
       "      <td>NaN</td>\n",
       "      <td>NaN</td>\n",
       "      <td>NaN</td>\n",
       "      <td>NaN</td>\n",
       "      <td>NaN</td>\n",
       "      <td>NaN</td>\n",
       "      <td>NaN</td>\n",
       "    </tr>\n",
       "    <tr>\n",
       "      <th>1</th>\n",
       "      <td>Paciente103</td>\n",
       "      <td>N</td>\n",
       "      <td>N</td>\n",
       "      <td>N</td>\n",
       "      <td>N</td>\n",
       "      <td>N</td>\n",
       "      <td>N</td>\n",
       "      <td>N</td>\n",
       "      <td>N</td>\n",
       "      <td>N</td>\n",
       "      <td>...</td>\n",
       "      <td>NaN</td>\n",
       "      <td>NaN</td>\n",
       "      <td>NaN</td>\n",
       "      <td>NaN</td>\n",
       "      <td>NaN</td>\n",
       "      <td>NaN</td>\n",
       "      <td>NaN</td>\n",
       "      <td>NaN</td>\n",
       "      <td>NaN</td>\n",
       "      <td>NaN</td>\n",
       "    </tr>\n",
       "    <tr>\n",
       "      <th>2</th>\n",
       "      <td>Paciente105</td>\n",
       "      <td>N</td>\n",
       "      <td>N</td>\n",
       "      <td>N</td>\n",
       "      <td>N</td>\n",
       "      <td>N</td>\n",
       "      <td>N</td>\n",
       "      <td>N</td>\n",
       "      <td>N</td>\n",
       "      <td>N</td>\n",
       "      <td>...</td>\n",
       "      <td>NaN</td>\n",
       "      <td>NaN</td>\n",
       "      <td>NaN</td>\n",
       "      <td>NaN</td>\n",
       "      <td>NaN</td>\n",
       "      <td>NaN</td>\n",
       "      <td>NaN</td>\n",
       "      <td>NaN</td>\n",
       "      <td>NaN</td>\n",
       "      <td>NaN</td>\n",
       "    </tr>\n",
       "    <tr>\n",
       "      <th>3</th>\n",
       "      <td>Paciente111</td>\n",
       "      <td>N</td>\n",
       "      <td>N</td>\n",
       "      <td>N</td>\n",
       "      <td>N</td>\n",
       "      <td>N</td>\n",
       "      <td>N</td>\n",
       "      <td>N</td>\n",
       "      <td>N</td>\n",
       "      <td>N</td>\n",
       "      <td>...</td>\n",
       "      <td>NaN</td>\n",
       "      <td>NaN</td>\n",
       "      <td>NaN</td>\n",
       "      <td>NaN</td>\n",
       "      <td>NaN</td>\n",
       "      <td>NaN</td>\n",
       "      <td>NaN</td>\n",
       "      <td>NaN</td>\n",
       "      <td>NaN</td>\n",
       "      <td>NaN</td>\n",
       "    </tr>\n",
       "    <tr>\n",
       "      <th>4</th>\n",
       "      <td>Paciente113</td>\n",
       "      <td>N</td>\n",
       "      <td>N</td>\n",
       "      <td>N</td>\n",
       "      <td>N</td>\n",
       "      <td>N</td>\n",
       "      <td>N</td>\n",
       "      <td>N</td>\n",
       "      <td>N</td>\n",
       "      <td>N</td>\n",
       "      <td>...</td>\n",
       "      <td>NaN</td>\n",
       "      <td>NaN</td>\n",
       "      <td>NaN</td>\n",
       "      <td>NaN</td>\n",
       "      <td>NaN</td>\n",
       "      <td>NaN</td>\n",
       "      <td>NaN</td>\n",
       "      <td>NaN</td>\n",
       "      <td>NaN</td>\n",
       "      <td>NaN</td>\n",
       "    </tr>\n",
       "  </tbody>\n",
       "</table>\n",
       "<p>5 rows × 3252 columns</p>\n",
       "</div>"
      ],
      "text/plain": [
       "    Unnamed: 0  0  1  2  3  4  5  6  7  8  ... 3241 3242 3243 3244 3245 3246  \\\n",
       "0  Paciente100  N  N  N  N  N  N  N  S  N  ...  NaN  NaN  NaN  NaN  NaN  NaN   \n",
       "1  Paciente103  N  N  N  N  N  N  N  N  N  ...  NaN  NaN  NaN  NaN  NaN  NaN   \n",
       "2  Paciente105  N  N  N  N  N  N  N  N  N  ...  NaN  NaN  NaN  NaN  NaN  NaN   \n",
       "3  Paciente111  N  N  N  N  N  N  N  N  N  ...  NaN  NaN  NaN  NaN  NaN  NaN   \n",
       "4  Paciente113  N  N  N  N  N  N  N  N  N  ...  NaN  NaN  NaN  NaN  NaN  NaN   \n",
       "\n",
       "  3247 3248 3249 3250  \n",
       "0  NaN  NaN  NaN  NaN  \n",
       "1  NaN  NaN  NaN  NaN  \n",
       "2  NaN  NaN  NaN  NaN  \n",
       "3  NaN  NaN  NaN  NaN  \n",
       "4  NaN  NaN  NaN  NaN  \n",
       "\n",
       "[5 rows x 3252 columns]"
      ]
     },
     "execution_count": 36,
     "metadata": {},
     "output_type": "execute_result"
    }
   ],
   "source": [
    "rotulos_teste.head()"
   ]
  },
  {
   "cell_type": "code",
   "execution_count": null,
   "id": "708e7a79",
   "metadata": {},
   "outputs": [],
   "source": []
  },
  {
   "cell_type": "code",
   "execution_count": 37,
   "id": "f8c0fe8d",
   "metadata": {},
   "outputs": [],
   "source": [
    "ecg = ecg_teste.iloc[: , 1:].to_numpy()\n",
    "batimentos_teste = ecg[:,:2000*280]\n",
    "X_teste = np.reshape(batimentos_teste, (-1,280))"
   ]
  },
  {
   "cell_type": "code",
   "execution_count": 38,
   "id": "1b418610",
   "metadata": {},
   "outputs": [],
   "source": [
    "X_teste_norm = scaler.transform(X_teste)"
   ]
  },
  {
   "cell_type": "code",
   "execution_count": null,
   "id": "46fb2509",
   "metadata": {},
   "outputs": [],
   "source": [
    "X_teste_fft = fft(X_teste)\n",
    "X_teste_fft = scaler.fit_transform(np.abs(X_teste_fft))"
   ]
  },
  {
   "cell_type": "code",
   "execution_count": 39,
   "id": "047b19d9",
   "metadata": {},
   "outputs": [
    {
     "name": "stdout",
     "output_type": "stream",
     "text": [
      "(44000, 1)\n"
     ]
    }
   ],
   "source": [
    "rotulos_test = rotulos_teste.iloc[: , 1:].to_numpy()\n",
    "\n",
    "rotulos_test = rotulos_test[:, :2000]\n",
    "Y_teste = np.reshape(rotulos_test, (-1, 1))\n",
    "print(Y_teste.shape)"
   ]
  },
  {
   "cell_type": "code",
   "execution_count": 40,
   "id": "c2036ebd",
   "metadata": {},
   "outputs": [
    {
     "name": "stderr",
     "output_type": "stream",
     "text": [
      "C:\\Users\\jean_\\anaconda3\\lib\\site-packages\\sklearn\\preprocessing\\_label.py:115: DataConversionWarning: A column-vector y was passed when a 1d array was expected. Please change the shape of y to (n_samples, ), for example using ravel().\n",
      "  y = column_or_1d(y, warn=True)\n"
     ]
    }
   ],
   "source": [
    "# integer encode\n",
    "label_encoder = LabelEncoder()\n",
    "teste_encoded = label_encoder.fit_transform(Y_teste)\n",
    "\n",
    "for i in range(len(teste_encoded)):\n",
    "    if teste_encoded[i] != 1:\n",
    "        teste_encoded[i] = 0"
   ]
  },
  {
   "cell_type": "code",
   "execution_count": 41,
   "id": "6f8d2166",
   "metadata": {},
   "outputs": [
    {
     "data": {
      "text/plain": [
       "(44000, 1)"
      ]
     },
     "execution_count": 41,
     "metadata": {},
     "output_type": "execute_result"
    }
   ],
   "source": [
    "df_teste = pd.DataFrame(X_teste_norm)\n",
    "df_rotulo_teste = pd.DataFrame(teste_encoded, columns=['Rotulos'])\n",
    "df_rotulo_teste.shape"
   ]
  },
  {
   "cell_type": "code",
   "execution_count": 101,
   "id": "dbe6313b",
   "metadata": {},
   "outputs": [
    {
     "name": "stdout",
     "output_type": "stream",
     "text": [
      "1375/1375 [==============================] - 2s 1ms/step\n"
     ]
    }
   ],
   "source": [
    "# accuracy = estimator.evaluate(df_teste, df_rotulo_teste)\n",
    "= SVC(random_state=0)\n",
    "y_valid = estimator.predict(df_teste, verbose=1)\n",
    "# print(\"Model accuracy: %.2f\"% (accuracy[1]*100))"
   ]
  },
  {
   "cell_type": "code",
   "execution_count": 102,
   "id": "04304806",
   "metadata": {},
   "outputs": [
    {
     "name": "stdout",
     "output_type": "stream",
     "text": [
      "[[ 1161  5363]\n",
      " [ 5525 31951]]\n",
      "              precision    recall  f1-score   support\n",
      "\n",
      "           0       0.18      0.20      0.19      6524\n",
      "           1       0.86      0.84      0.85     37476\n",
      "\n",
      "    accuracy                           0.75     44000\n",
      "   macro avg       0.52      0.52      0.52     44000\n",
      "weighted avg       0.76      0.75      0.75     44000\n",
      "\n"
     ]
    }
   ],
   "source": [
    "# from sklearn.metrics import confusion_matrix\n",
    "from sklearn.metrics import classification_report,confusion_matrix\n",
    "\n",
    "# matrix_confusion = confusion_matrix(teste_encoded[0], y_valid)\n",
    "print(matrix_confusion)\n",
    "print(classification_report(teste_encoded,y_valid))"
   ]
  },
  {
   "cell_type": "markdown",
   "id": "b94749be",
   "metadata": {},
   "source": [
    "# Classificador multiclasse\n",
    "\n",
    "Primeiramente, vamos criar a matriz de rótulo com 3 colunas, uma para cada classe."
   ]
  },
  {
   "cell_type": "code",
   "execution_count": 109,
   "id": "56c6118b",
   "metadata": {},
   "outputs": [
    {
     "name": "stdout",
     "output_type": "stream",
     "text": [
      "{'F': 0, 'N': 1, 'Q': 2, 'S': 3, 'V': 4}\n"
     ]
    },
    {
     "name": "stderr",
     "output_type": "stream",
     "text": [
      "C:\\Users\\jean_\\anaconda3\\lib\\site-packages\\sklearn\\preprocessing\\_label.py:115: DataConversionWarning: A column-vector y was passed when a 1d array was expected. Please change the shape of y to (n_samples, ), for example using ravel().\n",
      "  y = column_or_1d(y, warn=True)\n"
     ]
    }
   ],
   "source": [
    "from sklearn import preprocessing\n",
    "\n",
    "encode = preprocessing.LabelEncoder()\n",
    "integer = encode.fit_transform(Y_train)\n",
    "keys = encode.classes_\n",
    "values = encode.transform(encode.classes_)\n",
    "dictionary = dict(zip(keys, values))\n",
    "print(dictionary)"
   ]
  },
  {
   "cell_type": "code",
   "execution_count": null,
   "id": "9cf6dae8",
   "metadata": {},
   "outputs": [],
   "source": [
    "for value in integer:\n",
    "    if value == 1:\n",
    "        np.append(N, value)\n",
    "    elif value == 3:\n",
    "        "
   ]
  },
  {
   "cell_type": "code",
   "execution_count": null,
   "id": "d85c6109",
   "metadata": {},
   "outputs": [],
   "source": []
  },
  {
   "cell_type": "code",
   "execution_count": 60,
   "id": "51e019ac",
   "metadata": {},
   "outputs": [
    {
     "name": "stdout",
     "output_type": "stream",
     "text": [
      "(44000,)\n"
     ]
    }
   ],
   "source": [
    "print(teste_encoded.shape)"
   ]
  },
  {
   "cell_type": "code",
   "execution_count": 61,
   "id": "f7462feb",
   "metadata": {},
   "outputs": [
    {
     "name": "stdout",
     "output_type": "stream",
     "text": [
      "44000\n"
     ]
    }
   ],
   "source": [
    "print(y_valid.shape[0])"
   ]
  },
  {
   "cell_type": "code",
   "execution_count": null,
   "id": "29e34959",
   "metadata": {},
   "outputs": [],
   "source": [
    "from keras.models import Sequential\n",
    "from keras.layers import Dense\n",
    "from keras.wrappers.scikit_learn import KerasClassifier\n",
    "from sklearn.model_selection import cross_val_score\n",
    "from sklearn.preprocessing import LabelEncoder\n",
    "from sklearn.model_selection import StratifiedKFold\n",
    "\n",
    "def create_baseline():\n",
    "\t# create model\n",
    "    initializer = HeUniform() \n",
    "    model = Sequential()\n",
    "    model.add(Dense(280, input_dim=280, activation='relu', kernel_initializer=initializer))\n",
    "    model.add(Dropout(rate=0.5))\n",
    "    model.add(Dense(50, activation='relu'))\n",
    "    model.add(Dropout(rate=0.5))\n",
    "    model.add(Dense(3, activation='sigmoid'))\n",
    "    # Compile model\n",
    "    model.compile(loss='binary_crossentropy', optimizer='adam', metrics=['accuracy'])\n",
    "    return model\n",
    "\n",
    "estimator = KerasClassifier(build_fn=create_baseline, epochs=300, batch_size=100, verbose=0)"
   ]
  }
 ],
 "metadata": {
  "kernelspec": {
   "display_name": "Python 3 (ipykernel)",
   "language": "python",
   "name": "python3"
  },
  "language_info": {
   "codemirror_mode": {
    "name": "ipython",
    "version": 3
   },
   "file_extension": ".py",
   "mimetype": "text/x-python",
   "name": "python",
   "nbconvert_exporter": "python",
   "pygments_lexer": "ipython3",
   "version": "3.9.12"
  }
 },
 "nbformat": 4,
 "nbformat_minor": 5
}
