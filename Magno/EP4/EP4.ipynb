{
 "cells": [
  {
   "cell_type": "markdown",
   "id": "e15ca719",
   "metadata": {},
   "source": [
    "# Exercício 4 - Aplicação de redes neurais\n",
    "\n",
    "Jean Carlos Mello Xavier Faria - 11259628\n",
    "\n",
    "Leonardo Alves Amaral Torres   - 11261002"
   ]
  },
  {
   "cell_type": "code",
   "execution_count": 1,
   "id": "a7da1444",
   "metadata": {},
   "outputs": [],
   "source": [
    "import torch\n",
    "import torch.nn as nn\n",
    "import torch.nn.functional as F\n",
    "import torch.optim as optim\n",
    "from torchvision import datasets, transforms\n",
    "import matplotlib.pyplot as plt\n",
    "import numpy"
   ]
  },
  {
   "cell_type": "code",
   "execution_count": 2,
   "id": "aba81581",
   "metadata": {},
   "outputs": [],
   "source": [
    "input_size  = 28*28   # imagens com 28x28 pixels\n",
    "output_size = 10      # 10 classes\n",
    "\n",
    "train_loader = torch.utils.data.DataLoader(\n",
    "    datasets.MNIST('./data', train=True, download=True,\n",
    "                   transform=transforms.Compose([\n",
    "                       transforms.ToTensor(),\n",
    "                       transforms.Normalize((0.1307,), (0.3081,))\n",
    "                   ])),\n",
    "    batch_size=64, shuffle=True)\n",
    "\n",
    "test_loader = torch.utils.data.DataLoader(\n",
    "    datasets.MNIST('./data', train=False, transform=transforms.Compose([\n",
    "                       transforms.ToTensor(),\n",
    "                       transforms.Normalize((0.1307,), (0.3081,))\n",
    "                   ])),\n",
    "    batch_size=1000, shuffle=True)"
   ]
  },
  {
   "cell_type": "code",
   "execution_count": 4,
   "id": "37f5415c",
   "metadata": {},
   "outputs": [
    {
     "name": "stdout",
     "output_type": "stream",
     "text": [
      "<torch.utils.data.dataloader.DataLoader object at 0x000002016963CAC0>\n"
     ]
    }
   ],
   "source": []
  },
  {
   "cell_type": "code",
   "execution_count": 3,
   "id": "67cea187",
   "metadata": {},
   "outputs": [
    {
     "data": {
      "image/png": "[encoded data removed]",
      "text/plain": [
       "<Figure size 1152x432 with 10 Axes>"
      ]
     },
     "metadata": {
      "needs_background": "light"
     },
     "output_type": "display_data"
    }
   ],
   "source": [
    "plt.figure(figsize=(16, 6))\n",
    "for i in range(10):\n",
    "    plt.subplot(2, 5, i + 1)\n",
    "    image, _ = train_loader.dataset.__getitem__(i)\n",
    "    plt.imshow(image.squeeze().numpy())\n",
    "    plt.axis('off');"
   ]
  },
  {
   "cell_type": "code",
   "execution_count": 4,
   "id": "84a34385",
   "metadata": {},
   "outputs": [],
   "source": [
    "class MLP(nn.Module):\n",
    "    def __init__(self, input_size, n_hidden, output_size):\n",
    "        super(MLP, self).__init__()\n",
    "        self.input_size = input_size\n",
    "        self.network = nn.Sequential(\n",
    "            nn.Linear(input_size, n_hidden), \n",
    "            nn.ReLU(), \n",
    "            nn.Linear(n_hidden, n_hidden), \n",
    "            nn.ReLU(), \n",
    "            nn.Linear(n_hidden, output_size), \n",
    "            nn.LogSoftmax(dim=1)\n",
    "        )\n",
    "\n",
    "    def forward(self, x):\n",
    "        x = x.view(-1, self.input_size)\n",
    "        return self.network(x)"
   ]
  },
  {
   "cell_type": "code",
   "execution_count": 5,
   "id": "89c9d09b",
   "metadata": {},
   "outputs": [],
   "source": [
    "class CNN(nn.Module):\n",
    "    def __init__(self, n_feature):\n",
    "        super(CNN, self).__init__()\n",
    "        self.n_feature = n_feature\n",
    "        self.conv1 = nn.Conv2d(in_channels=1, out_channels=n_feature, kernel_size=5)\n",
    "        self.conv2 = nn.Conv2d(n_feature, n_feature, kernel_size=5)\n",
    "        self.fc1 = nn.Linear(n_feature*4*4, 50)\n",
    "        self.fc2 = nn.Linear(50, 10)\n",
    "        \n",
    "    def forward(self, x, verbose=False):\n",
    "        x = self.conv1(x)\n",
    "        x = F.relu(x)\n",
    "        x = F.max_pool2d(x, kernel_size=2)        \n",
    "        x = self.conv2(x)\n",
    "        x = F.relu(x)\n",
    "        \n",
    "        x = F.max_pool2d(x, kernel_size=2)\n",
    "        x = x.view(-1, self.n_feature*4*4)\n",
    "        x = self.fc1(x)\n",
    "        x = F.relu(x)\n",
    "        x = self.fc2(x)\n",
    "        x = F.log_softmax(x, dim=1)\n",
    "        return x"
   ]
  },
  {
   "cell_type": "code",
   "execution_count": 6,
   "id": "131123e1",
   "metadata": {},
   "outputs": [],
   "source": [
    "device = torch.device(\"cuda:0\" if torch.cuda.is_available() else \"cpu\")"
   ]
  },
  {
   "cell_type": "code",
   "execution_count": 7,
   "id": "c9f98e99",
   "metadata": {},
   "outputs": [],
   "source": [
    "accuracy_list = []\n",
    "\n",
    "# Função para retornar o número de parâmetros de um modelo\n",
    "def get_n_params(model):\n",
    "    np=0\n",
    "    for p in list(model.parameters()):\n",
    "        np += p.nelement()\n",
    "    return np\n",
    "\n",
    "def train(epoch, model):\n",
    "    # Coloca o modelo em modo de treinamento\n",
    "    model.train()\n",
    "    \n",
    "    # Loop sobre os mini-batches, fornecidos pelo DataLoader train_loader\n",
    "    for batch_idx, (data, target) in enumerate(train_loader):      \n",
    "        # Para mandar os dados para o device (GPU ou CPU definido anteriormente), usamos o método .to(device)\n",
    "        data, target = data.to(device), target.to(device)\n",
    "        \n",
    "        # Ajuste de dimensões\n",
    "        data = data.view(-1, 1, 28, 28)\n",
    "\n",
    "        # Necessário no PyTorch, para limpar o cache de gradientes acumulados\n",
    "        optimizer.zero_grad()\n",
    "        \n",
    "        # Cálculo da saída\n",
    "        output = model(data)\n",
    "        \n",
    "        # nll_loss é a função custo da entropia cruzada\n",
    "        loss = F.nll_loss(output, target)\n",
    "        # cálculo dos gradientes\n",
    "        loss.backward()\n",
    "        # atualização dos parâmetros do modelo\n",
    "        optimizer.step()\n",
    "        \n",
    "        # Exibe o status do treinamento\n",
    "        if batch_idx % 100 == 0:\n",
    "            print('Train Epoch: {} [{}/{} ({:.0f}%)]\\tLoss: {:.6f}'.format(\n",
    "                epoch, batch_idx * len(data), len(train_loader.dataset),\n",
    "                100. * batch_idx / len(train_loader), loss.item()))\n",
    "            \n",
    "def test(model):\n",
    "    # Coloca o modelo em modo de teste\n",
    "    model.eval()\n",
    "    \n",
    "    # Variáveis usadas para contabilizar o valor da função custo e número de acertos\n",
    "    test_loss = 0\n",
    "    correct = 0\n",
    "    \n",
    "    # Loop sobre os mini-batches, fornecidos pelo DataLoader test_loader\n",
    "    for data, target in test_loader:\n",
    "        \n",
    "        # Para mandar os dados para o device (GPU ou CPU definido anteriormente), usamos o método .to(device)     \n",
    "        data, target = data.to(device), target.to(device)\n",
    "        \n",
    "        # Ajuste de dimensões\n",
    "        data = data.view(-1, 1, 28, 28)\n",
    "        \n",
    "        # Cálculo da saída\n",
    "        output = model(data)\n",
    "\n",
    "        # Valor da função custo\n",
    "        test_loss += F.nll_loss(output, target, reduction='sum').item() # sum up batch loss                                                               \n",
    "\n",
    "        # Cálculo do número de acertos\n",
    "        pred = output.data.max(1, keepdim=True)[1] # get the index of the max log-probability                                                                 \n",
    "        correct += pred.eq(target.data.view_as(pred)).cpu().sum().item()\n",
    "\n",
    "    # Mostra o desempenho obtido no teste    \n",
    "    test_loss /= len(test_loader.dataset)\n",
    "    accuracy = 100. * correct / len(test_loader.dataset)\n",
    "    accuracy_list.append(accuracy)\n",
    "    print('\\nTest set: Average loss: {:.4f}, Accuracy: {}/{} ({:.0f}%)\\n'.format(\n",
    "        test_loss, correct, len(test_loader.dataset),\n",
    "        accuracy))"
   ]
  },
  {
   "cell_type": "markdown",
   "id": "fee828c3",
   "metadata": {},
   "source": [
    "A modificação realizada para a rede MLP foi aumentar o número de neurônios da camada oculta, para 20. Além disso, foi utilizado o otimizador de Adam. A utilização do otimizador de Adam se deu ao fato de estarmos usando uma quantidade grande de dados, além de evitar a divergência ou estagnação do backpropagation."
   ]
  },
  {
   "cell_type": "code",
   "execution_count": 21,
   "id": "da40e84f",
   "metadata": {},
   "outputs": [
    {
     "name": "stdout",
     "output_type": "stream",
     "text": [
      "Number of parameters: 42310\n",
      "Train Epoch: 0 [0/60000 (0%)]\tLoss: 2.285907\n",
      "Train Epoch: 0 [6400/60000 (11%)]\tLoss: 0.489709\n",
      "Train Epoch: 0 [12800/60000 (21%)]\tLoss: 0.293671\n",
      "Train Epoch: 0 [19200/60000 (32%)]\tLoss: 0.107887\n",
      "Train Epoch: 0 [25600/60000 (43%)]\tLoss: 0.129993\n",
      "Train Epoch: 0 [32000/60000 (53%)]\tLoss: 0.096052\n",
      "Train Epoch: 0 [38400/60000 (64%)]\tLoss: 0.219631\n",
      "Train Epoch: 0 [44800/60000 (75%)]\tLoss: 0.083588\n",
      "Train Epoch: 0 [51200/60000 (85%)]\tLoss: 0.163164\n",
      "Train Epoch: 0 [57600/60000 (96%)]\tLoss: 0.175158\n",
      "\n",
      "Test set: Average loss: 0.1486, Accuracy: 9557/10000 (96%)\n",
      "\n"
     ]
    }
   ],
   "source": [
    "# número de neurônios da camada oculta\n",
    "n_hidden = 50\n",
    "\n",
    "# Instanciando o modelo\n",
    "model_fnn = MLP(input_size, n_hidden, output_size)\n",
    "\n",
    "# Para mandar o modelo para o device (GPU ou CPU definido anteriormente), usamos o método .to(device)     \n",
    "model_fnn.to(device)\n",
    "\n",
    "# Definição do otimizador a ser utilizado. Aqui é usado o SGD, que usa o gradiente descendente com momentum\n",
    "optimizer = optim.Adam(model_fnn.parameters(), lr=0.005)\n",
    "\n",
    "# Mostra o número de parâmetros do modelo\n",
    "print('Number of parameters: {}'.format(get_n_params(model_fnn)))\n",
    "\n",
    "# Loop das épocas de treinamento. Aqui é usada apenas 1 época.\n",
    "for epoch in range(0, 1):\n",
    "    train(epoch, model_fnn)\n",
    "    test(model_fnn)"
   ]
  },
  {
   "cell_type": "markdown",
   "id": "9efac15b",
   "metadata": {},
   "source": [
    "Para o caso da CNN, apenas foi mudado o otimizador, como no caso da MLP, foi utilizado o otimizador de Adam. Au"
   ]
  },
  {
   "cell_type": "code",
   "execution_count": 12,
   "id": "869ebf68",
   "metadata": {},
   "outputs": [
    {
     "name": "stdout",
     "output_type": "stream",
     "text": [
      "Number of parameters: 6422\n",
      "Train Epoch: 0 [0/60000 (0%)]\tLoss: 2.284324\n",
      "Train Epoch: 0 [6400/60000 (11%)]\tLoss: 0.367853\n",
      "Train Epoch: 0 [12800/60000 (21%)]\tLoss: 0.058071\n",
      "Train Epoch: 0 [19200/60000 (32%)]\tLoss: 0.135294\n",
      "Train Epoch: 0 [25600/60000 (43%)]\tLoss: 0.182500\n",
      "Train Epoch: 0 [32000/60000 (53%)]\tLoss: 0.264537\n",
      "Train Epoch: 0 [38400/60000 (64%)]\tLoss: 0.250786\n",
      "Train Epoch: 0 [44800/60000 (75%)]\tLoss: 0.095612\n",
      "Train Epoch: 0 [51200/60000 (85%)]\tLoss: 0.016882\n",
      "Train Epoch: 0 [57600/60000 (96%)]\tLoss: 0.094270\n",
      "\n",
      "Test set: Average loss: 0.0999, Accuracy: 9674/10000 (97%)\n",
      "\n"
     ]
    }
   ],
   "source": [
    "# Número de filtros das camadas convolucionais\n",
    "n_features = 6\n",
    "\n",
    "# Instanciando o modelo\n",
    "model_cnn = CNN(n_features)\n",
    "\n",
    "# Para mandar o modelo para o device (GPU ou CPU definido anteriormente), usamos o método .to(device)     \n",
    "model_cnn.to(device)\n",
    "\n",
    "# Definição do otimizador a ser utilizado. Aqui é usado o SGD, que usa o gradiente descendente com momentum\n",
    "optimizer = optim.Adam(model_cnn.parameters(), lr=0.01)\n",
    "\n",
    "# Mostra o número de parâmetros do modelo\n",
    "print('Number of parameters: {}'.format(get_n_params(model_cnn)))\n",
    "\n",
    "# Loop das épocas de treinamento. Aqui é usada apenas 1 época.\n",
    "for epoch in range(0, 1):\n",
    "    train(epoch, model_cnn)\n",
    "    test(model_cnn)"
   ]
  },
  {
   "cell_type": "code",
   "execution_count": null,
   "id": "70db98ac",
   "metadata": {},
   "outputs": [],
   "source": []
  }
 ],
 "metadata": {
  "interpreter": {
   "hash": "ba04bcace5c0b76cd7ce4d844300973fc4ac7ef9ba95de7950c6b16bd7937221"
  },
  "kernelspec": {
   "display_name": "Python 3 (ipykernel)",
   "language": "python",
   "name": "python3"
  },
  "language_info": {
   "codemirror_mode": {
    "name": "ipython",
    "version": 3
   },
   "file_extension": ".py",
   "mimetype": "text/x-python",
   "name": "python",
   "nbconvert_exporter": "python",
   "pygments_lexer": "ipython3",
   "version": "3.9.12"
  }
 },
 "nbformat": 4,
 "nbformat_minor": 5
}
