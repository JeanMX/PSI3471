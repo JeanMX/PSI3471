{
 "cells": [
  {
   "cell_type": "markdown",
   "id": "35c02a16",
   "metadata": {},
   "source": [
    "# Exercício 2 - Perceptron de Rosenblatt - Circles and Squares \n",
    "\n",
    "Jean Carlos Mello Xavier Faria - 11259628\n",
    "\n",
    "Leonardo Alves Amaral Torres   - 11261002"
   ]
  },
  {
   "cell_type": "markdown",
   "id": "55489f8d",
   "metadata": {},
   "source": [
    "# Inicialização\n",
    "\n",
    "Nesta primeira etapa vamos incluir todas as bibliotecas que serão necessárias para a realização do código. Logo depois, vamos ler os arquivos de teste e treino e visualizá-los"
   ]
  },
  {
   "cell_type": "code",
   "execution_count": 1,
   "id": "aab5aafe",
   "metadata": {},
   "outputs": [],
   "source": [
    "import pandas as pd\n",
    "import numpy as np\n",
    "import matplotlib.pyplot as plt"
   ]
  },
  {
   "cell_type": "code",
   "execution_count": 2,
   "id": "9e9dfa4a",
   "metadata": {},
   "outputs": [],
   "source": [
    "data_df = pd.read_csv(\"circles_and_squares.csv\")"
   ]
  },
  {
   "cell_type": "code",
   "execution_count": 3,
   "id": "68933a0e",
   "metadata": {
    "scrolled": true
   },
   "outputs": [
    {
     "data": {
      "text/html": [
       "<div>\n",
       "<style scoped>\n",
       "    .dataframe tbody tr th:only-of-type {\n",
       "        vertical-align: middle;\n",
       "    }\n",
       "\n",
       "    .dataframe tbody tr th {\n",
       "        vertical-align: top;\n",
       "    }\n",
       "\n",
       "    .dataframe thead th {\n",
       "        text-align: right;\n",
       "    }\n",
       "</style>\n",
       "<table border=\"1\" class=\"dataframe\">\n",
       "  <thead>\n",
       "    <tr style=\"text-align: right;\">\n",
       "      <th></th>\n",
       "      <th>0</th>\n",
       "      <th>1</th>\n",
       "      <th>2</th>\n",
       "      <th>3</th>\n",
       "      <th>4</th>\n",
       "      <th>5</th>\n",
       "      <th>6</th>\n",
       "      <th>7</th>\n",
       "      <th>8</th>\n",
       "      <th>9</th>\n",
       "      <th>...</th>\n",
       "      <th>391</th>\n",
       "      <th>392</th>\n",
       "      <th>393</th>\n",
       "      <th>394</th>\n",
       "      <th>395</th>\n",
       "      <th>396</th>\n",
       "      <th>397</th>\n",
       "      <th>398</th>\n",
       "      <th>399</th>\n",
       "      <th>400</th>\n",
       "    </tr>\n",
       "  </thead>\n",
       "  <tbody>\n",
       "    <tr>\n",
       "      <th>0</th>\n",
       "      <td>0.0</td>\n",
       "      <td>0.0</td>\n",
       "      <td>0.0</td>\n",
       "      <td>0.0</td>\n",
       "      <td>0.0</td>\n",
       "      <td>0.0</td>\n",
       "      <td>1.0</td>\n",
       "      <td>0.0</td>\n",
       "      <td>0.0</td>\n",
       "      <td>0.0</td>\n",
       "      <td>...</td>\n",
       "      <td>0.0</td>\n",
       "      <td>0.0</td>\n",
       "      <td>0.0</td>\n",
       "      <td>0.0</td>\n",
       "      <td>0.0</td>\n",
       "      <td>0.0</td>\n",
       "      <td>0.0</td>\n",
       "      <td>0.0</td>\n",
       "      <td>0.0</td>\n",
       "      <td>-1.0</td>\n",
       "    </tr>\n",
       "    <tr>\n",
       "      <th>1</th>\n",
       "      <td>0.0</td>\n",
       "      <td>0.0</td>\n",
       "      <td>0.0</td>\n",
       "      <td>0.0</td>\n",
       "      <td>0.0</td>\n",
       "      <td>0.0</td>\n",
       "      <td>0.0</td>\n",
       "      <td>0.0</td>\n",
       "      <td>0.0</td>\n",
       "      <td>0.0</td>\n",
       "      <td>...</td>\n",
       "      <td>0.0</td>\n",
       "      <td>0.0</td>\n",
       "      <td>0.0</td>\n",
       "      <td>0.0</td>\n",
       "      <td>0.0</td>\n",
       "      <td>0.0</td>\n",
       "      <td>0.0</td>\n",
       "      <td>0.0</td>\n",
       "      <td>0.0</td>\n",
       "      <td>-1.0</td>\n",
       "    </tr>\n",
       "    <tr>\n",
       "      <th>2</th>\n",
       "      <td>0.0</td>\n",
       "      <td>0.0</td>\n",
       "      <td>0.0</td>\n",
       "      <td>0.0</td>\n",
       "      <td>0.0</td>\n",
       "      <td>0.0</td>\n",
       "      <td>0.0</td>\n",
       "      <td>0.0</td>\n",
       "      <td>0.0</td>\n",
       "      <td>0.0</td>\n",
       "      <td>...</td>\n",
       "      <td>0.0</td>\n",
       "      <td>0.0</td>\n",
       "      <td>0.0</td>\n",
       "      <td>0.0</td>\n",
       "      <td>0.0</td>\n",
       "      <td>0.0</td>\n",
       "      <td>0.0</td>\n",
       "      <td>0.0</td>\n",
       "      <td>0.0</td>\n",
       "      <td>-1.0</td>\n",
       "    </tr>\n",
       "    <tr>\n",
       "      <th>3</th>\n",
       "      <td>0.0</td>\n",
       "      <td>0.0</td>\n",
       "      <td>0.0</td>\n",
       "      <td>0.0</td>\n",
       "      <td>0.0</td>\n",
       "      <td>0.0</td>\n",
       "      <td>0.0</td>\n",
       "      <td>0.0</td>\n",
       "      <td>0.0</td>\n",
       "      <td>0.0</td>\n",
       "      <td>...</td>\n",
       "      <td>0.0</td>\n",
       "      <td>0.0</td>\n",
       "      <td>0.0</td>\n",
       "      <td>0.0</td>\n",
       "      <td>0.0</td>\n",
       "      <td>0.0</td>\n",
       "      <td>0.0</td>\n",
       "      <td>0.0</td>\n",
       "      <td>0.0</td>\n",
       "      <td>-1.0</td>\n",
       "    </tr>\n",
       "    <tr>\n",
       "      <th>4</th>\n",
       "      <td>0.0</td>\n",
       "      <td>0.0</td>\n",
       "      <td>0.0</td>\n",
       "      <td>0.0</td>\n",
       "      <td>0.0</td>\n",
       "      <td>0.0</td>\n",
       "      <td>0.0</td>\n",
       "      <td>0.0</td>\n",
       "      <td>0.0</td>\n",
       "      <td>0.0</td>\n",
       "      <td>...</td>\n",
       "      <td>0.0</td>\n",
       "      <td>0.0</td>\n",
       "      <td>0.0</td>\n",
       "      <td>0.0</td>\n",
       "      <td>0.0</td>\n",
       "      <td>0.0</td>\n",
       "      <td>0.0</td>\n",
       "      <td>0.0</td>\n",
       "      <td>0.0</td>\n",
       "      <td>1.0</td>\n",
       "    </tr>\n",
       "  </tbody>\n",
       "</table>\n",
       "<p>5 rows × 401 columns</p>\n",
       "</div>"
      ],
      "text/plain": [
       "     0    1    2    3    4    5    6    7    8    9  ...  391  392  393  394  \\\n",
       "0  0.0  0.0  0.0  0.0  0.0  0.0  1.0  0.0  0.0  0.0  ...  0.0  0.0  0.0  0.0   \n",
       "1  0.0  0.0  0.0  0.0  0.0  0.0  0.0  0.0  0.0  0.0  ...  0.0  0.0  0.0  0.0   \n",
       "2  0.0  0.0  0.0  0.0  0.0  0.0  0.0  0.0  0.0  0.0  ...  0.0  0.0  0.0  0.0   \n",
       "3  0.0  0.0  0.0  0.0  0.0  0.0  0.0  0.0  0.0  0.0  ...  0.0  0.0  0.0  0.0   \n",
       "4  0.0  0.0  0.0  0.0  0.0  0.0  0.0  0.0  0.0  0.0  ...  0.0  0.0  0.0  0.0   \n",
       "\n",
       "   395  396  397  398  399  400  \n",
       "0  0.0  0.0  0.0  0.0  0.0 -1.0  \n",
       "1  0.0  0.0  0.0  0.0  0.0 -1.0  \n",
       "2  0.0  0.0  0.0  0.0  0.0 -1.0  \n",
       "3  0.0  0.0  0.0  0.0  0.0 -1.0  \n",
       "4  0.0  0.0  0.0  0.0  0.0  1.0  \n",
       "\n",
       "[5 rows x 401 columns]"
      ]
     },
     "execution_count": 3,
     "metadata": {},
     "output_type": "execute_result"
    }
   ],
   "source": [
    "data_df.head()"
   ]
  },
  {
   "cell_type": "markdown",
   "id": "f0ee8b3a",
   "metadata": {},
   "source": [
    "Agora vamos modificar o dataframe para uma matriz em numpy. Após isso, vamos visualizar uma imagem de círculo e de quadrado."
   ]
  },
  {
   "cell_type": "code",
   "execution_count": 4,
   "id": "0459ab54",
   "metadata": {},
   "outputs": [
    {
     "data": {
      "text/plain": [
       "(1000, 401)"
      ]
     },
     "execution_count": 4,
     "metadata": {},
     "output_type": "execute_result"
    }
   ],
   "source": [
    "data = data_df.to_numpy()\n",
    "data_df.shape"
   ]
  },
  {
   "cell_type": "code",
   "execution_count": 5,
   "id": "ac627ac6",
   "metadata": {},
   "outputs": [
    {
     "data": {
      "text/plain": [
       "-1.0"
      ]
     },
     "execution_count": 5,
     "metadata": {},
     "output_type": "execute_result"
    },
    {
     "data": {
      "image/png": "[encoded data removed]",
      "text/plain": [
       "<Figure size 432x288 with 1 Axes>"
      ]
     },
     "metadata": {
      "needs_background": "light"
     },
     "output_type": "display_data"
    }
   ],
   "source": [
    "img = data[0, :-1].reshape(20,20)\n",
    "plt.imshow(img, cmap='gray')\n",
    "data[0, 400]"
   ]
  },
  {
   "cell_type": "code",
   "execution_count": 6,
   "id": "828f29af",
   "metadata": {},
   "outputs": [
    {
     "name": "stdout",
     "output_type": "stream",
     "text": [
      "1.0\n"
     ]
    },
    {
     "data": {
      "image/png": "[encoded data removed]",
      "text/plain": [
       "<Figure size 432x288 with 1 Axes>"
      ]
     },
     "metadata": {
      "needs_background": "light"
     },
     "output_type": "display_data"
    }
   ],
   "source": [
    "img = data[4, :-1].reshape((20,20))\n",
    "plt.imshow(img, cmap='gray')\n",
    "print(data[4, 400])"
   ]
  },
  {
   "cell_type": "markdown",
   "id": "115c1237",
   "metadata": {},
   "source": [
    "Como é possível verificar, quando a imagem é um círculo o último valor da linha vale -1 e se for um quadrado vale 1."
   ]
  },
  {
   "cell_type": "markdown",
   "id": "c129c543",
   "metadata": {},
   "source": [
    "# Treinamento do Perceptron de Rosenblatt\n",
    "\n",
    "Para realizar o treinamento vamos separar os dados em treino e teste. As 800 primeiras linhas vão ser para treino e as 200 restante seram usadas para o teste."
   ]
  },
  {
   "cell_type": "code",
   "execution_count": 7,
   "id": "5e099c62",
   "metadata": {},
   "outputs": [],
   "source": [
    "xd = data[:800, :]\n",
    "xd_test = data[800:, :]"
   ]
  },
  {
   "cell_type": "markdown",
   "id": "b5f416aa",
   "metadata": {},
   "source": [
    "Vamos criar uma função para ser a função não linear $\\varphi(\\cdot)$"
   ]
  },
  {
   "cell_type": "code",
   "execution_count": 8,
   "id": "cc825a3a",
   "metadata": {},
   "outputs": [],
   "source": [
    "def sgn(v):\n",
    "    if v < 0:\n",
    "        signal = -1\n",
    "    else:\n",
    "        signal = 1\n",
    "    return signal"
   ]
  },
  {
   "cell_type": "markdown",
   "id": "6b93fc74",
   "metadata": {},
   "source": [
    "Agora, vamos criar a função que vai ser usada para o treinamento do perceptron de Rosenblatt."
   ]
  },
  {
   "cell_type": "code",
   "execution_count": 9,
   "id": "724f1183",
   "metadata": {},
   "outputs": [],
   "source": [
    "def perceptron(xd, eta, Ne, Nb):\n",
    "    X = np.ones([len(xd), 1]) #Coluna de 1's\n",
    "    X = np.column_stack((X, xd)) # Criando a matriz X \n",
    "    d = xd[:, 400] #Cria o vetor com as respostas\n",
    "    X = np.delete(X, len(X[1])-1, 1) #Deleta a coluna com as respostas\n",
    "    \n",
    "    #Criando os vetores utilizados no perceptron\n",
    "    w = np.zeros(len(X[1]))\n",
    "    v = np.zeros(len(X[:,1]))\n",
    "    y = np.zeros(len(X[:,1]))\n",
    "    \n",
    "    e = np.zeros(len(X[:,1])) #Criando o vetor de erros\n",
    "    \n",
    "    Nt = len(X)\n",
    "    \n",
    "    for k in range(1, Ne):\n",
    "        #Misturar a matriz\n",
    "        np.random.permutation(xd)[:]\n",
    "        \n",
    "        for l in range ((Nt//Nb)-1):\n",
    "            v[l] = X[l].T @ w \n",
    "            y[l] = sgn(v[l])\n",
    "            e[l] = d[l]-y[l]\n",
    "            w = w + (eta/Nb)*X[l]*e[l]\n",
    "    return w"
   ]
  },
  {
   "cell_type": "markdown",
   "id": "86ba3ffd",
   "metadata": {},
   "source": [
    "Treinando o perceptron com os dados de treino, $\\eta=0,001$, $N_e=2000$ e $N_b=1$"
   ]
  },
  {
   "cell_type": "code",
   "execution_count": 10,
   "id": "ede1e996",
   "metadata": {
    "scrolled": true
   },
   "outputs": [],
   "source": [
    "w = perceptron(xd, 0.001, 2000, 1) #Define os pesos com os dados de treino"
   ]
  },
  {
   "cell_type": "markdown",
   "id": "9e4aa54b",
   "metadata": {},
   "source": [
    "Por fim, vamos preparar a matriz X de teste, calcular com os pesos calculados anteriormente e verificar a acurácia."
   ]
  },
  {
   "cell_type": "code",
   "execution_count": 11,
   "id": "0b3a28bf",
   "metadata": {
    "scrolled": true
   },
   "outputs": [
    {
     "name": "stdout",
     "output_type": "stream",
     "text": [
      "Acurácia = 70.5 %\n"
     ]
    }
   ],
   "source": [
    "X_teste = np.ones([len(xd_test), 1]) #Cria a coluna de 1's da matriz X\n",
    "X_teste = np.column_stack((X_teste,xd_test)) #Adiciona a matriz de teste para a matriz X\n",
    "d_teste = xd_test[:, 400] #Coloca no vetor d_teste a última coluna da matriz X com as respostas\n",
    "X_teste = np.delete(X_teste, len(X_teste[1])-1, 1) #Deleta a última coluna\n",
    "\n",
    "v = np.zeros(len(X_teste[:, 1])) #Inicializa o vetor v\n",
    "y = np.zeros(len(X_teste[:, 1])) #Inicializa o vetor y\n",
    "\n",
    "acerto = 0\n",
    "v = X_teste @ w #Multiplica a matriz de teste com o vetor de pesos\n",
    "for l in range (len(X_teste)):\n",
    "    y[l] = sgn(v[l]) #Usa a função de ativação\n",
    "    if(d_teste[l] - y[l] == 0): #Verifica se o valor encontrado é igual ao desejado\n",
    "        acerto += 1\n",
    "\n",
    "print('Acurácia = {} %'.format(100*(acerto/len(X_teste))))"
   ]
  }
 ],
 "metadata": {
  "kernelspec": {
   "display_name": "Python 3 (ipykernel)",
   "language": "python",
   "name": "python3"
  },
  "language_info": {
   "codemirror_mode": {
    "name": "ipython",
    "version": 3
   },
   "file_extension": ".py",
   "mimetype": "text/x-python",
   "name": "python",
   "nbconvert_exporter": "python",
   "pygments_lexer": "ipython3",
   "version": "3.10.2"
  }
 },
 "nbformat": 4,
 "nbformat_minor": 5
}
