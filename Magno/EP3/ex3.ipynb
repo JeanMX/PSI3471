{
 "cells": [
  {
   "cell_type": "markdown",
   "id": "2be03ed0",
   "metadata": {},
   "source": [
    "# Exercício 3 - Rede Neural com Retropropagação \n",
    "\n",
    "Jean Carlos Mello Xavier Faria - 11259628\n",
    "\n",
    "Leonardo Alves Amaral Torres   - 11261002"
   ]
  },
  {
   "cell_type": "code",
   "execution_count": 65,
   "id": "1ad81fab",
   "metadata": {},
   "outputs": [],
   "source": [
    "import numpy as np\n",
    "import random \n",
    "import math\n",
    "import matplotlib.pyplot as plt"
   ]
  },
  {
   "cell_type": "code",
   "execution_count": 76,
   "id": "96cf14c4",
   "metadata": {},
   "outputs": [],
   "source": [
    "class NN:\n",
    "    def __init__(self, layers, eta):\n",
    "        self.W = []\n",
    "        self.layers = layers\n",
    "        self.eta = eta\n",
    "\n",
    "        for i in range(0, len(layers)-2):\n",
    "            w = np.random.randn(layers[i] + 1, layers[i+1] + 1)\n",
    "            self.W.append(w/np.sqrt(layers[i]))\n",
    "        \n",
    "        w = np.random.randn(layers[-2] + 1, layers[-1])\n",
    "        self.W.append(w/np.sqrt(layers[-2]))\n",
    "        \n",
    "    def sigmoid(self, x):\n",
    "        return 1.0/ (1.0 + np.exp(-x))\n",
    "\n",
    "    def predict(self, X):\n",
    "        p = np.atleast_2d(X)\n",
    "        p = np.c_[p, np.ones((p.shape[0]))]\n",
    "        for layer in np.arange(0, len(self.W)):\n",
    "            p = self.sigmoid(np.dot(p, self.W[layer]))\n",
    "        return p \n",
    "\n",
    "    def sigmoid_derivada(self, x):\n",
    "        return x*(1-x)\n",
    "\n",
    "    def fit_partial(self, x, y):\n",
    "        A = [np.atleast_2d(x)]\n",
    "        for layer in np.arange(0, len(self.W)):\n",
    "            net = A[layer].dot(self.W[layer])\n",
    "            out = self.sigmoid(net)\n",
    "            A.append(out)\n",
    "        \n",
    "        error = A[-1] - y\n",
    "        Delt = [error * self.sigmoid_derivada(A[-1])]\n",
    "        for layer in np.arange(len(A) -2,0,-1):\n",
    "            delta = Delt[-1].dot(self.W[layer].T)\n",
    "            delta = delta * self.sigmoid_derivada(A[layer])\n",
    "            Delt.append(delta)\n",
    "\n",
    "        Delt = Delt[::-1]\n",
    "        \n",
    "        for layer in np.arange(0, len(self.W)):\n",
    "            self.W[layer] += -self.eta*A[layer].T.dot(Delt[layer])\n",
    "\n",
    "    def fit(self, X, y, Ne):\n",
    "        X = np.c_[X, np.ones((X.shape[0]))]\n",
    "        for epoch in np.arange(0,Ne):\n",
    "            for (x, target) in zip(X, y):\n",
    "                self.fit_partial(x, target)    "
   ]
  },
  {
   "cell_type": "code",
   "execution_count": 77,
   "id": "ba4a5680",
   "metadata": {},
   "outputs": [],
   "source": [
    "neurons = [3,4,5,10,15,20,50,100]\n",
    "\n",
    "#Criando os dados de treino\n",
    "x = np.zeros((4, 1000))\n",
    "y = np.zeros((4,1000))\n",
    "\n",
    "x[0] = [random.randrange(1,100) for i in range(len(x[1]))]\n",
    "x[1] = [random.randrange(1,10) for i in range(len(x[1]))]\n",
    "x[2] = [random.randrange(1,10) for i in range(len(x[1]))]\n",
    "x[3] = [random.uniform(0, math.pi/2) for i in range(len(x[1]))]\n",
    "\n",
    "y[0] = np.reciprocal(x[0])\n",
    "y[1] = np.log10(x[1])\n",
    "y[2] = np.exp(-x[2])\n",
    "y[3] = np.sin(x[3])\n",
    "\n",
    "# Criando os dados de teste\n",
    "xteste = np.zeros((4,1000))\n",
    "yteste = np.zeros((4,1000))\n",
    "\n",
    "xteste[0] = np.linspace(1,100,1000)\n",
    "yteste[0] = np.reciprocal(xteste[0])\n",
    "\n",
    "xteste[1] = np.linspace(1,10,1000)\n",
    "yteste[1] = np.log10(xteste[1])\n",
    "\n",
    "xteste[2] = np.linspace(1,10,1000)\n",
    "yteste[2] = np.exp(-xteste[2])\n",
    "\n",
    "xteste[3] = np.linspace(0,math.pi/2,1000)\n",
    "yteste[3]  = np.sin(xteste[3])\n",
    "\n",
    "#Variáveis para cada caso\n",
    "MSE = []\n",
    "ypred1 = []\n",
    "ypred2 = []\n",
    "ypred3 = []\n",
    "ypred4 = []"
   ]
  },
  {
   "cell_type": "code",
   "execution_count": 78,
   "id": "982da8e2",
   "metadata": {},
   "outputs": [],
   "source": [
    "#Função 1/x\n",
    "for neuron in neurons: #Inicia o treinamento\n",
    "    ypred = []\n",
    "    rede = NN([1, neuron, 1], 0.1)\n",
    "    rede.fit(x[0], y[0], 100)\n",
    "    for (xt, target) in zip(xteste[0], yteste[0]): #Inicia o teste\n",
    "        pred = rede.predict(xt)[0][0]\n",
    "        ypred.append(pred)\n",
    "    erro = 0\n",
    "    erro = np.sum(y[0]-ypred)**2/len(y[0])\n",
    "    ypred1.append(ypred)\n",
    "    MSE.append(erro)"
   ]
  },
  {
   "cell_type": "code",
   "execution_count": 79,
   "id": "f6f4ae33",
   "metadata": {},
   "outputs": [],
   "source": [
    "for neuron in neurons:\n",
    "    ypred = []\n",
    "    rede = NN([1, neuron, 1], 0.1)\n",
    "    rede.fit(x[1], y[1], 100)\n",
    "    for (xt, target) in zip(xteste[1], yteste[1]): #Inicia o teste\n",
    "        pred = rede.predict(xt)[0][0]\n",
    "        ypred.append(pred)\n",
    "    erro = 0\n",
    "    erro = np.sum(y[0]-ypred)**2/len(y[0])\n",
    "    ypred2.append(ypred)\n",
    "    MSE.append(erro)"
   ]
  },
  {
   "cell_type": "code",
   "execution_count": 80,
   "id": "fff7e251",
   "metadata": {},
   "outputs": [],
   "source": [
    "for neuron in neurons:\n",
    "    ypred = []\n",
    "    rede = NN([1, neuron, 1], 0.1)\n",
    "    rede.fit(x[2], y[2], 100)\n",
    "    for (xt, target) in zip(xteste[2], yteste[2]): #Inicia o teste\n",
    "        pred = rede.predict(xt)[0][0]\n",
    "        ypred.append(pred)\n",
    "    erro = 0\n",
    "    erro = np.sum(y[0]-ypred)**2/len(y[0])\n",
    "    ypred3.append(ypred)\n",
    "    MSE.append(erro)"
   ]
  },
  {
   "cell_type": "code",
   "execution_count": 81,
   "id": "a53a0a78",
   "metadata": {},
   "outputs": [],
   "source": [
    "for neuron in neurons:\n",
    "    ypred = []\n",
    "    rede = NN([1, neuron, 1], 0.1)\n",
    "    rede.fit(x[3], y[3], 100)\n",
    "    for (xt, target) in zip(xteste[3], yteste[3]): #Inicia o teste\n",
    "        pred = rede.predict(xt)[0][0]\n",
    "        ypred.append(pred)\n",
    "    erro = 0\n",
    "    erro = np.sum(y[0]-ypred)**2/len(y[0])\n",
    "    ypred4.append(ypred)\n",
    "    MSE.append(erro)"
   ]
  },
  {
   "cell_type": "code",
   "execution_count": 82,
   "id": "6b0acf7d",
   "metadata": {},
   "outputs": [
    {
     "name": "stdout",
     "output_type": "stream",
     "text": [
      "\t\tFunção 1/x 1 <= x <= 100\t\t\n",
      "Número de neurônios \t\t Erro Quadrático médio\n",
      "\t3 \t\t\t\t 0.004805\n",
      "\t4 \t\t\t\t 0.000629\n",
      "\t5 \t\t\t\t 0.003133\n",
      "\t10 \t\t\t\t 0.003285\n",
      "\t15 \t\t\t\t 0.000619\n",
      "\t20 \t\t\t\t 0.006223\n",
      "\t50 \t\t\t\t 0.002181\n",
      "\t100 \t\t\t\t 0.001159\n",
      "----------------------------------------------------\n",
      "\t\tFunção log10(x) 1 <= x <= 10\t\t\n",
      "\t3 \t\t\t\t 359.799597\n",
      "\t4 \t\t\t\t 385.812168\n",
      "\t5 \t\t\t\t 381.243564\n",
      "\t10 \t\t\t\t 384.178658\n",
      "\t15 \t\t\t\t 383.563466\n",
      "\t20 \t\t\t\t 382.766931\n",
      "\t50 \t\t\t\t 379.640063\n",
      "\t100 \t\t\t\t 381.776926\n",
      "----------------------------------------------------\n",
      "\t\tFunção exp(-x) 1 <= x <= 10\t\t\n",
      "\t3 \t\t\t\t 0.014439\n",
      "\t4 \t\t\t\t 0.019975\n",
      "\t5 \t\t\t\t 0.017393\n",
      "\t10 \t\t\t\t 0.024374\n",
      "\t15 \t\t\t\t 0.028178\n",
      "\t20 \t\t\t\t 0.028110\n",
      "\t50 \t\t\t\t 0.035097\n",
      "\t100 \t\t\t\t 0.036909\n",
      "----------------------------------------------------\n",
      "\t\tFunção sen(x) 1 <= x <= pi/2\t\t\n",
      "\t3 \t\t\t\t 343.336594\n",
      "\t4 \t\t\t\t 344.688639\n",
      "\t5 \t\t\t\t 344.659655\n",
      "\t10 \t\t\t\t 344.229218\n",
      "\t15 \t\t\t\t 344.297611\n",
      "\t20 \t\t\t\t 342.635152\n",
      "\t50 \t\t\t\t 342.519402\n",
      "\t100 \t\t\t\t 342.127013\n",
      "----------------------------------------------------\n"
     ]
    }
   ],
   "source": [
    "print(\"\\t\\tFunção 1/x 1 <= x <= 100\\t\\t\")\n",
    "print(\"Número de neurônios \\t\\t Erro Quadrático médio\")\n",
    "\n",
    "for i in range (0,len(MSE_matriz[1])):\n",
    "        print(\"\\t%d \\t\\t\\t\\t %f\" % (neurons[i], MSE_matriz[0][i]))\n",
    "print(\"----------------------------------------------------\")\n",
    "\n",
    "print(\"\\t\\tFunção log10(x) 1 <= x <= 10\\t\\t\")\n",
    "for i in range (0,len(MSE_matriz[1])):\n",
    "        print(\"\\t%d \\t\\t\\t\\t %f\" % (neurons[i], MSE_matriz[1][i]))\n",
    "print(\"----------------------------------------------------\")\n",
    "\n",
    "print(\"\\t\\tFunção exp(-x) 1 <= x <= 10\\t\\t\")\n",
    "for i in range (0,len(MSE_matriz[1])):\n",
    "        print(\"\\t%d \\t\\t\\t\\t %f\" % (neurons[i], MSE_matriz[2][i]))\n",
    "print(\"----------------------------------------------------\")\n",
    "\n",
    "print(\"\\t\\tFunção sen(x) 1 <= x <= pi/2\\t\\t\")\n",
    "for i in range (0,len(MSE_matriz[1])):\n",
    "        print(\"\\t%d \\t\\t\\t\\t %f\" % (neurons[i], MSE_matriz[3][i]))\n",
    "print(\"----------------------------------------------------\")"
   ]
  },
  {
   "cell_type": "code",
   "execution_count": 83,
   "id": "d36a994f",
   "metadata": {},
   "outputs": [
    {
     "data": {
      "image/png": "[encoded data removed]",
      "text/plain": [
       "<Figure size 432x288 with 4 Axes>"
      ]
     },
     "metadata": {
      "needs_background": "light"
     },
     "output_type": "display_data"
    }
   ],
   "source": [
    "fig, axs = plt.subplots(2, 2)\n",
    "\n",
    "axs[0, 0].plot(xteste[0], yteste[0],xteste[0],ypred1[4])\n",
    "axs[0,0].legend(labels=['Função Real', 'Função Mod.'])\n",
    "axs[0, 0].set_title('Função 1/x com 15 Neur.')\n",
    "axs[0, 1].plot(xteste[1], yteste[1],xteste[1],ypred2[0])\n",
    "axs[0, 1].legend(labels=['Função Real', 'Função Mod.'])\n",
    "axs[0, 1].set_title('Função log10(x) com 3 Neur.')\n",
    "axs[1, 0].plot(xteste[2], yteste[2],xteste[2],ypred3[0])\n",
    "axs[1, 0].legend(labels=['Função Real', 'Função Mod.'])\n",
    "axs[1, 0].set_title('Função exp(-x) com 3 Neur.')\n",
    "axs[1, 1].plot(xteste[3], yteste[3],xteste[3],ypred4[7])\n",
    "axs[1, 1].legend(labels=['Função Real', 'Função Mod.'])\n",
    "axs[1, 1].set_title('Função sen(x) com 100 Neur.')\n",
    "\n",
    "for ax in axs.flat:\n",
    "    ax.set(xlabel='x', ylabel='y')\n",
    "\n",
    "# Hide x labels and tick labels for top plots and y ticks for right plots.\n",
    "for ax in axs.flat:\n",
    "    ax.label_outer()\n"
   ]
  },
  {
   "cell_type": "code",
   "execution_count": null,
   "id": "8e03881a",
   "metadata": {},
   "outputs": [],
   "source": []
  },
  {
   "cell_type": "code",
   "execution_count": null,
   "id": "0f19a162",
   "metadata": {},
   "outputs": [],
   "source": []
  }
 ],
 "metadata": {
  "interpreter": {
   "hash": "ba04bcace5c0b76cd7ce4d844300973fc4ac7ef9ba95de7950c6b16bd7937221"
  },
  "kernelspec": {
   "display_name": "Python 3 (ipykernel)",
   "language": "python",
   "name": "python3"
  },
  "language_info": {
   "codemirror_mode": {
    "name": "ipython",
    "version": 3
   },
   "file_extension": ".py",
   "mimetype": "text/x-python",
   "name": "python",
   "nbconvert_exporter": "python",
   "pygments_lexer": "ipython3",
   "version": "3.10.2"
  }
 },
 "nbformat": 4,
 "nbformat_minor": 5
}
