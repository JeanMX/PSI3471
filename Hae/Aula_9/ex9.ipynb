{
 "cells": [
  {
   "cell_type": "markdown",
   "id": "4457f563",
   "metadata": {},
   "source": [
    "# Lição de Casa - Aula 9\n",
    "Jean Carlos Mello Xavier Faria - 11259628\n",
    "\n",
    "Leonardo Alves Amaral Torres   - 11261002"
   ]
  },
  {
   "cell_type": "code",
   "execution_count": 1,
   "id": "fb0305aa",
   "metadata": {},
   "outputs": [],
   "source": [
    "import tensorflow.keras as keras\n",
    "from keras.datasets import mnist\n",
    "import cv2\n",
    "import numpy as np\n",
    "import sys\n",
    "import time\n",
    "import matplotlib.pyplot as plt"
   ]
  },
  {
   "cell_type": "markdown",
   "id": "8f495f1f",
   "metadata": {},
   "source": [
    "Vamos criar uma função para realizar os deslocamentos de um pixel de cada imagem para norte, sul, leste e oeste."
   ]
  },
  {
   "cell_type": "code",
   "execution_count": 2,
   "id": "a1f9b477",
   "metadata": {},
   "outputs": [],
   "source": [
    "def data_augmentation(data, resp):\n",
    "    desloc_n = np.empty((data.shape))\n",
    "    desloc_s = np.empty((data.shape))\n",
    "    desloc_l = np.empty((data.shape))\n",
    "    desloc_o = np.empty((data.shape))\n",
    "    \n",
    "    transform_o = np.float32([[1,0,-1], [0,1,0]])\n",
    "    transform_l = np.float32([[1,0,1], [0,1,0]])\n",
    "    transform_s = np.float32([[1,0,0], [0,1,1]])\n",
    "    transform_n = np.float32([[1,0,0], [0,1,-1]])\n",
    "    \n",
    "    for i in range(data.shape[0]):\n",
    "        desloc_o[i] = cv2.warpAffine(data[i], transform_o, (data.shape[2], data.shape[1]))\n",
    "        desloc_l[i] = cv2.warpAffine(data[i], transform_l, (data.shape[1], data.shape[2]))\n",
    "        desloc_s[i] = cv2.warpAffine(data[i], transform_s, (data.shape[1], data.shape[2]))\n",
    "        desloc_n[i] = cv2.warpAffine(data[i], transform_n, (data.shape[1], data.shape[2]))\n",
    "        \n",
    "    data_desloc = np.append(data, desloc_o, axis = 0)\n",
    "    data_desloc = np.append(data_desloc, desloc_l, axis=0)\n",
    "    data_desloc = np.append(data_desloc, desloc_s, axis=0)\n",
    "    data_desloc = np.append(data_desloc, desloc_n, axis=0)\n",
    "    \n",
    "    for i in range(4):\n",
    "        resp = np.append(resp, np.array([resp]))\n",
    "    return data_desloc, resp"
   ]
  },
  {
   "cell_type": "code",
   "execution_count": 3,
   "id": "4549c2d4",
   "metadata": {},
   "outputs": [],
   "source": [
    "# the data, split between train and test sets\n",
    "(AX, ay), (QX, qy) = mnist.load_data()"
   ]
  },
  {
   "cell_type": "code",
   "execution_count": 4,
   "id": "2966b294",
   "metadata": {},
   "outputs": [],
   "source": [
    "ax=np.empty((AX.shape[0],14,14))\n",
    "for i in range(AX.shape[0]):\n",
    "    ax[i]=cv2.resize(AX[i],(14,14))\n",
    "ax, ay = data_augmentation(ax, ay)\n",
    "qx=np.empty((QX.shape[0],14,14))\n",
    "for i in range(QX.shape[0]):\n",
    "     qx[i]=cv2.resize(QX[i],(14,14))\n",
    "qx, qy = data_augmentation(qx, qy)"
   ]
  },
  {
   "cell_type": "markdown",
   "id": "d112b33c",
   "metadata": {},
   "source": [
    "Vamos criar duas funções para conseguirmos printar as 5 imagens lado a lado para conseguirmos verificar o pixel deslocado para cada caso."
   ]
  },
  {
   "cell_type": "code",
   "execution_count": 5,
   "id": "6e117f9f",
   "metadata": {},
   "outputs": [],
   "source": [
    "def img_is_color(img):\n",
    "\n",
    "    if len(img.shape) == 3:\n",
    "        # Check the color channels to see if they're all the same.\n",
    "        c1, c2, c3 = img[:, : , 0], img[:, :, 1], img[:, :, 2]\n",
    "        if (c1 == c2).all() and (c2 == c3).all():\n",
    "            return True\n",
    "\n",
    "    return False\n",
    "\n",
    "def show_image_list(list_images, list_titles=None, list_cmaps=None, grid=True, num_cols=2, figsize=(20, 10), title_fontsize=30):\n",
    "\n",
    "    assert isinstance(list_images, list)\n",
    "    assert len(list_images) > 0\n",
    "    assert isinstance(list_images[0], np.ndarray)\n",
    "\n",
    "    if list_titles is not None:\n",
    "        assert isinstance(list_titles, list)\n",
    "        assert len(list_images) == len(list_titles), '%d imgs != %d titles' % (len(list_images), len(list_titles))\n",
    "\n",
    "    if list_cmaps is not None:\n",
    "        assert isinstance(list_cmaps, list)\n",
    "        assert len(list_images) == len(list_cmaps), '%d imgs != %d cmaps' % (len(list_images), len(list_cmaps))\n",
    "\n",
    "    num_images  = len(list_images)\n",
    "    num_cols    = min(num_images, num_cols)\n",
    "    num_rows    = int(num_images / num_cols) + (1 if num_images % num_cols != 0 else 0)\n",
    "\n",
    "    # Create a grid of subplots.\n",
    "    fig, axes = plt.subplots(num_rows, num_cols, figsize=figsize)\n",
    "    \n",
    "    # Create list of axes for easy iteration.\n",
    "    if isinstance(axes, np.ndarray):\n",
    "        list_axes = list(axes.flat)\n",
    "    else:\n",
    "        list_axes = [axes]\n",
    "\n",
    "    for i in range(num_images):\n",
    "\n",
    "        img    = list_images[i]\n",
    "        title  = list_titles[i] if list_titles is not None else 'Image %d' % (i)\n",
    "        cmap   = list_cmaps[i] if list_cmaps is not None else (None if img_is_color(img) else 'gray')\n",
    "        \n",
    "        list_axes[i].imshow(img, cmap=cmap)\n",
    "        list_axes[i].set_title(title, fontsize=title_fontsize) \n",
    "        list_axes[i].grid(grid)\n",
    "\n",
    "    for i in range(num_images, len(list_axes)):\n",
    "        list_axes[i].set_visible(False)\n",
    "\n",
    "    fig.tight_layout()\n",
    "    _ = plt.show()"
   ]
  },
  {
   "cell_type": "code",
   "execution_count": 6,
   "id": "4f6ffb2c",
   "metadata": {},
   "outputs": [
    {
     "data": {
      "image/png": "[encoded data removed]",
      "text/plain": [
       "<Figure size 1440x720 with 6 Axes>"
      ]
     },
     "metadata": {
      "needs_background": "light"
     },
     "output_type": "display_data"
    }
   ],
   "source": [
    "show_image_list(list_images=[ax[0], ax[60000], ax[120000], ax[180000], ax[240000]], \n",
    "                list_titles=['Original', 'Desloc. Oeste', 'Desloc. Leste', 'Desloc. Sul', 'Desloc. Norte'],\n",
    "                num_cols=3,\n",
    "                figsize=(20, 10),\n",
    "                grid=False,\n",
    "                title_fontsize=20)"
   ]
  },
  {
   "cell_type": "markdown",
   "id": "6cd3a477",
   "metadata": {},
   "source": [
    "Agora, vamos normalizar os dados"
   ]
  },
  {
   "cell_type": "code",
   "execution_count": 7,
   "id": "596552aa",
   "metadata": {},
   "outputs": [],
   "source": [
    "ax = ax.astype('float32')\n",
    "qx = qx.astype('float32')\n",
    "ax = ax.reshape(ax.shape[0],ax.shape[1]*ax.shape[2])\n",
    "qx = qx.reshape(qx.shape[0],qx.shape[1]*qx.shape[2])\n",
    "ax /= 255.0; #0 a 1\n",
    "qx /= 255.0; #0 a 1\n",
    "qp=np.empty(qy.shape,dtype=\"uint8\")"
   ]
  },
  {
   "cell_type": "markdown",
   "id": "1f09a9d4",
   "metadata": {},
   "source": [
    "Aplicando o FlaNN com 4 árvores"
   ]
  },
  {
   "cell_type": "code",
   "execution_count": 8,
   "id": "16698ade",
   "metadata": {},
   "outputs": [],
   "source": [
    "t1 = time.time()\n",
    "FLANN_INDEX_KDTREE = 1; # bug: flann enums are missing\n",
    "flann_params = dict(algorithm = FLANN_INDEX_KDTREE, trees = 4)\n",
    "flann = cv2.flann_Index(ax, flann_params)\n",
    "t2 = time.time()\n",
    "matches, dists = flann.knnSearch(qx, 1)\n",
    "t3 = time.time()"
   ]
  },
  {
   "cell_type": "markdown",
   "id": "a7dfa4c5",
   "metadata": {},
   "source": [
    "Realizando a contagem dos erros"
   ]
  },
  {
   "cell_type": "code",
   "execution_count": 9,
   "id": "0430ef5f",
   "metadata": {},
   "outputs": [],
   "source": [
    "for l in range(matches.shape[0]):\n",
    "    i=matches[l]\n",
    "    qp[l]=ay[i]\n",
    "erros=0\n",
    "for l in range(matches.shape[0]):\n",
    "     if qp[l]!=qy[l]: \n",
    "            erros+=1"
   ]
  },
  {
   "cell_type": "code",
   "execution_count": 10,
   "id": "4d55b43d",
   "metadata": {},
   "outputs": [
    {
     "name": "stdout",
     "output_type": "stream",
     "text": [
      "Erros= 1.18%\n",
      "Tempo de treinamento: 10.890707\n",
      "Tempo de predicao: 2.552042\n"
     ]
    }
   ],
   "source": [
    "print(\"Erros=%5.2f%%\" % (100.0*erros/qy.shape[0]))\n",
    "print(\"Tempo de treinamento: %f\"%(t2-t1))\n",
    "print(\"Tempo de predicao: %f\"%(t3-t2))"
   ]
  }
 ],
 "metadata": {
  "kernelspec": {
   "display_name": "Python 3 (ipykernel)",
   "language": "python",
   "name": "python3"
  },
  "language_info": {
   "codemirror_mode": {
    "name": "ipython",
    "version": 3
   },
   "file_extension": ".py",
   "mimetype": "text/x-python",
   "name": "python",
   "nbconvert_exporter": "python",
   "pygments_lexer": "ipython3",
   "version": "3.9.12"
  },
  "vscode": {
   "interpreter": {
    "hash": "ba04bcace5c0b76cd7ce4d844300973fc4ac7ef9ba95de7950c6b16bd7937221"
   }
  }
 },
 "nbformat": 4,
 "nbformat_minor": 5
}
