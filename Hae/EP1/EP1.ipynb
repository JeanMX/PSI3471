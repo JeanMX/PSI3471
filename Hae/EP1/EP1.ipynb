{
 "cells": [
  {
   "cell_type": "markdown",
   "id": "f1eb4313",
   "metadata": {},
   "source": [
    "# Exercício Programa PSI3471\n",
    "\n",
    "Jean Carlos Mello Xavier Faria - 11259628\n",
    "\n",
    "Leonardo"
   ]
  },
  {
   "cell_type": "markdown",
   "id": "3f49e4da",
   "metadata": {},
   "source": [
    "Primeiramente, será importado as bibliotecas que serão utilizadas durante o programa"
   ]
  },
  {
   "cell_type": "code",
   "execution_count": 36,
   "id": "511f2fdc",
   "metadata": {},
   "outputs": [],
   "source": [
    "import pandas as pd\n",
    "import numpy as np\n",
    "import cv2\n",
    "import math\n",
    "import sys\n",
    "import keras\n",
    "import matplotlib.pyplot as plt"
   ]
  },
  {
   "cell_type": "markdown",
   "id": "f48d5e8f",
   "metadata": {},
   "source": [
    "A primeira etapa tem como objetivo alinhas os grãos horizontalmente, para isso, será necessário encontrar o centro de massa e a orientação das imagens do dataset. Para isso ser possível, será utilizada a função findCenterAndOrientation()"
   ]
  },
  {
   "cell_type": "code",
   "execution_count": 21,
   "id": "afe07853",
   "metadata": {},
   "outputs": [],
   "source": [
    "def findCenterAndOrientation(src):\n",
    "    M = cv2.moments(src)\n",
    "    cen_x = M[\"m10\"]/M[\"m00\"]\n",
    "    cen_y = M[\"m01\"]/M[\"m00\"]\n",
    "    theta = 0.5 * math.atan2( 2*M[\"mu11\"], M[\"mu20\"]-M[\"mu02\"]);\n",
    "    \n",
    "    return cen_x, cen_y, theta"
   ]
  },
  {
   "cell_type": "markdown",
   "id": "2e0186cd",
   "metadata": {},
   "source": [
    "Para saber se a função findCenterAndOrientation() está funcionando adequadamente e sendo possível rotacionar a imagem, vamos testar com a imagem \"Jasmine (2).jpg\", uma das imagens do DataSet. Primeramente, vamos ler a imagem e colocar em img."
   ]
  },
  {
   "cell_type": "code",
   "execution_count": 22,
   "id": "a9df72bc",
   "metadata": {},
   "outputs": [],
   "source": [
    "img = cv2.imread('Jasmine (2).jpg', 0)"
   ]
  },
  {
   "cell_type": "markdown",
   "id": "9b0f496e",
   "metadata": {},
   "source": [
    "Vamos observar como a imagem é antes de ser rotacionada."
   ]
  },
  {
   "cell_type": "code",
   "execution_count": 23,
   "id": "e09a3b22",
   "metadata": {},
   "outputs": [
    {
     "data": {
      "image/jpeg": "[encoded data removed]",
      "text/plain": [
       "<IPython.core.display.Image object>"
      ]
     },
     "execution_count": 23,
     "metadata": {},
     "output_type": "execute_result"
    }
   ],
   "source": [
    "from IPython.display import Image\n",
    "\n",
    "Image(filename='Jasmine (2).jpg')"
   ]
  },
  {
   "cell_type": "markdown",
   "id": "eb80eea6",
   "metadata": {},
   "source": [
    "Utilizando a função findCenterAndOrientation() nessa imagem, vamos obter os pontos x, y e o ângulo da orientação."
   ]
  },
  {
   "cell_type": "code",
   "execution_count": 24,
   "id": "b7dc73d1",
   "metadata": {},
   "outputs": [],
   "source": [
    "x, y, theta = findCenterAndOrientation(img)\n",
    "ponto = (x,y)"
   ]
  },
  {
   "cell_type": "markdown",
   "id": "d81e0c35",
   "metadata": {},
   "source": [
    "Para realizar a rotação, vamos utilizar o OpenCV, o método getRotationMatrix2D() e warpAffine(). Como o parâmetro do ângulo para o getRotationMatrix2D() está em graus e a nossa função retorna o valor em radianos, vamos converter o ângulo com a equação básica: $\\theta(^o) = 180 \\cdot \\frac{\\theta(rad)}{\\pi}$"
   ]
  },
  {
   "cell_type": "code",
   "execution_count": 25,
   "id": "09051e17",
   "metadata": {},
   "outputs": [],
   "source": [
    "angulo = 180*theta/math.pi\n",
    "rotacao = cv2.getRotationMatrix2D(ponto, angulo, 1.0)\n",
    "rotacionado = cv2.warpAffine(img, rotacao, (len(img[0]), len(img[1])))"
   ]
  },
  {
   "cell_type": "markdown",
   "id": "57544f2d",
   "metadata": {},
   "source": [
    "Com isso, temos a imagem rotacionada na variável rotacionado. Agora, para podermos visualizar o resultado, vamos passar os valores para uma imagem .png."
   ]
  },
  {
   "cell_type": "code",
   "execution_count": 26,
   "id": "41bf6899",
   "metadata": {},
   "outputs": [
    {
     "data": {
      "text/plain": [
       "True"
      ]
     },
     "execution_count": 26,
     "metadata": {},
     "output_type": "execute_result"
    }
   ],
   "source": [
    "cv2.imwrite('white_shape_centered.png',rotacionado)"
   ]
  },
  {
   "cell_type": "code",
   "execution_count": 27,
   "id": "03817c6e",
   "metadata": {},
   "outputs": [
    {
     "data": {
      "image/png": "[encoded data removed]",
      "text/plain": [
       "<IPython.core.display.Image object>"
      ]
     },
     "execution_count": 27,
     "metadata": {},
     "output_type": "execute_result"
    }
   ],
   "source": [
    "Image(filename='Jasmine (2).png') "
   ]
  },
  {
   "cell_type": "markdown",
   "id": "7c3ecc66",
   "metadata": {},
   "source": [
    "Com isso, temos a imagem Jasmine (2).jpg alinhada horizontalmente. Agora, será necessário realizar esse procidimento em todas as imagens. \n",
    "\n",
    "Como as imagens estão escritas como: \"nome_do_grão (i).jpg\", será criado um array com os nomes dos tipos de grãos que será percorrido por um loop for e dentro desse loop, terá um outro loop para ir de 1 a 1000, conseguindo percorrer todas as imagens. Cada imagem lida será rotacionada, como o procedimento realizado anteriormente, e escrita para uma imagem com o padrão \"nome_do_grão (i).png\"."
   ]
  },
  {
   "cell_type": "code",
   "execution_count": 28,
   "id": "4d1e2f27",
   "metadata": {},
   "outputs": [],
   "source": [
    "rices = ['Arborio', 'Basmati', 'Ipsala', 'Jasmine', 'Karacadag']\n",
    "\n",
    "for rice in rices:\n",
    "    for num in range(1,1001):\n",
    "        img = cv2.imread(rice + ' ({}).jpg'.format(num), 0)\n",
    "        x, y, theta = findCenterAndOrientation(img)\n",
    "        ponto = (x,y)\n",
    "        angulo = 180*theta/math.pi\n",
    "        rotacao = cv2.getRotationMatrix2D(ponto, angulo, 1.0)\n",
    "        rotacionado = cv2.warpAffine(img, rotacao, (len(img[0]), len(img[1])))\n",
    "        cv2.imwrite(rice + ' ({}).png'.format(num),rotacionado)"
   ]
  },
  {
   "cell_type": "markdown",
   "id": "600a60be",
   "metadata": {},
   "source": [
    "## Parte 2 - Classificar as imagens originais e alinhadas horizontalmente"
   ]
  },
  {
   "cell_type": "markdown",
   "id": "28f0ef8a",
   "metadata": {},
   "source": [
    "Após rotacionar as imagens, vamos começar a classificar as imagens. Serão realizadas diversas classificações, com as 25, 50 e 100 primeiras imagens de cada tipo de arroz alinhada horizontalmente e não alinhada horizontalmente, após isso, vamos comparar os valores para saber se a classificação melhorou com o aumento de imagens e se alinhar horizontalmente realmente melhora o desempenho da rede neural. \n",
    "\n",
    "Primeiramente, vamos criar uma função para ler a quantidade de imagens que desejamos e se serão as imagens alinhadas ou desalinhadas."
   ]
  },
  {
   "cell_type": "code",
   "execution_count": 29,
   "id": "12d0ef27",
   "metadata": {},
   "outputs": [],
   "source": [
    "def le(diretorio,nl,nc,inic,fim, alinhada=True):\n",
    "    nclasses=len(diretorio)\n",
    "    n=nclasses*(fim-inic+1)\n",
    "    AX=np.empty((n,nl,nc),np.uint8)\n",
    "    AY=np.empty((n,),np.uint8)\n",
    "    j=0; k=0\n",
    "    for nome in diretorio:\n",
    "        for i in range(inic,fim+1):\n",
    "            if alinhada == True:\n",
    "                st = nome + ' ({}).png'.format(i)\n",
    "            else:\n",
    "                st = nome + ' ({}).jpg'.format(i)\n",
    "            a=cv2.imread(st,0)\n",
    "            if a is None: print(\"Erro leitura\",st); sys.exit()\n",
    "            a=cv2.resize(a,(nl,nc),interpolation=cv2.INTER_AREA)\n",
    "            AX[k,:,:]=a; AY[k]=j\n",
    "            k+=1\n",
    "        j+=1\n",
    "    return AX,AY"
   ]
  },
  {
   "cell_type": "markdown",
   "id": "be8f20ce",
   "metadata": {},
   "source": [
    "Como o objetivo é testar a rede com 25, 50 e 100 primeiras imagens de cada tipo de arroz e isso se divide em imagens que estão alinhadas horizontalmente e imagens não alinhadas, vamos criar um AX e um AY para cada caso e aplicar na nossa rede que será criada posteriormente. Cada imagem será do tamanho 28x28.\n",
    "\n",
    "Por fim, vamos definir o QX e QY para testar a rede treinada, com as 900 últimas imagens de cada tipo de arroz. "
   ]
  },
  {
   "cell_type": "code",
   "execution_count": 30,
   "id": "fcb9baeb",
   "metadata": {},
   "outputs": [],
   "source": [
    "diretorio=[\"Arborio\",\"Basmati\",\"Ipsala\",\"Jasmine\",\"Karacadag\"]\n",
    "nl = 28\n",
    "nc = 28\n",
    "na = [25, 50, 100]\n",
    "nclasses = len(diretorio)\n",
    "\n",
    "\n",
    "AX_25_a, AY_25_a = le(diretorio,nl,nc, 1,na[0], alinhada=True)\n",
    "AX_50_a, AY_50_a = le(diretorio,nl,nc, 1,na[1], alinhada=True)\n",
    "AX_100_a, AY_100_a = le(diretorio,nl,nc, 1,na[2], alinhada=True)\n",
    "\n",
    "AX_25_d, AY_25_d = le(diretorio,nl,nc, 1,na[0], alinhada=False)\n",
    "AX_50_d, AY_50_d = le(diretorio,nl,nc, 1,na[1], alinhada=False)\n",
    "AX_100_d, AY_100_d = le(diretorio,nl,nc, 1,na[2], alinhada=False)\n",
    "\n",
    "AY_25_a = keras.utils.to_categorical(AY_25_a, nclasses)\n",
    "AY_50_a = keras.utils.to_categorical(AY_50_a, nclasses)\n",
    "AY_100_a = keras.utils.to_categorical(AY_100_a, nclasses)\n",
    "\n",
    "AY_25_d = keras.utils.to_categorical(AY_25_d, nclasses)\n",
    "AY_50_d = keras.utils.to_categorical(AY_50_d, nclasses)\n",
    "AY_100_d = keras.utils.to_categorical(AY_100_d, nclasses)\n",
    "\n",
    "QX, QY = le(diretorio, nl, nc, 101, 1000)\n",
    "\n",
    "QY2 = keras.utils.to_categorical(QY, nclasses)"
   ]
  },
  {
   "cell_type": "markdown",
   "id": "8d14ca1e",
   "metadata": {},
   "source": [
    "A rede criada conterá as duas primeiras camadas como camadas convolucionais e as duas últimas como camadas densas. A primeira camada tem o um tamanho "
   ]
  },
  {
   "cell_type": "code",
   "execution_count": 43,
   "id": "f6cf43a4",
   "metadata": {},
   "outputs": [],
   "source": [
    "import os; os.environ['TF_CPP_MIN_LOG_LEVEL']='3'\n",
    "os.environ['TF_FORCE_GPU_ALLOW_GROWTH'] = 'true'\n",
    "import tensorflow.keras as keras\n",
    "from tensorflow.keras.datasets import mnist\n",
    "from tensorflow.keras.models import Sequential\n",
    "from tensorflow.keras.layers import Dropout, Conv2D, MaxPooling2D, Dense, Flatten\n",
    "from tensorflow.keras import optimizers\n",
    "import numpy as np; import sys; import os; from time import time\n",
    "\n",
    "def NN(AX, AY):\n",
    "    model = Sequential() # 28x28\n",
    "    model.add(Conv2D(20, kernel_size=(5,5), activation='relu', input_shape=(nl, nc, 1) )) #20x24x24\n",
    "    model.add(MaxPooling2D(pool_size=(2,2))) #20x12x12\n",
    "    model.add(Conv2D(40, kernel_size=(5,5), activation='relu')) #40x8x8\n",
    "    model.add(MaxPooling2D(pool_size=(2,2))) #40x4x4\n",
    "    model.add(Flatten()) #640\n",
    "    model.add(Dense(200, activation='relu')) #200\n",
    "    model.add(Dense(nclasses, activation='softmax')) #10\n",
    "    from tensorflow.keras.utils import plot_model\n",
    "    model.summary()\n",
    "    opt=optimizers.Adam()\n",
    "    model.compile(optimizer=opt, loss='categorical_crossentropy', metrics=['accuracy'])\n",
    "    t0=time()\n",
    "    history = model.fit(AX, AY, batch_size=100, epochs=30, verbose=1)\n",
    "    score = model.evaluate(QX, QY2, verbose=False)\n",
    "    print('\\nTest loss: %.4f'%(score[0]))\n",
    "    print('Test accuracy: %.2f %%'%(100*score[1]))\n",
    "    print('Test error: %.2f %%'%(100*(1-score[1])))\n",
    "    t2=time()\n",
    "    QP2=model.predict(QX); QP=np.argmax(QP2,1)\n",
    "    t3=time(); print(\"Tempo de predicao: %.2f s\"%(t3-t2))\n",
    "    nerro=np.count_nonzero(QP-QY); print(\"nerro=%d\"%(nerro))\n",
    "    return history"
   ]
  },
  {
   "cell_type": "markdown",
   "id": "498042c3",
   "metadata": {},
   "source": [
    "Para realizar os treinamentos e os testes, vamos realizar na seguinte sequência: Primeiramente, o 25 alinhado e depois desalinhado, 50 alinhado e desalinhado e, por fim, 100 alinhado e desalinhado. Além disso, vamos gerar um gráfico com o valor das perdas em cada época. \n",
    "\n",
    "Portanto, começando com um $n_a = 25$ e alinhado."
   ]
  },
  {
   "cell_type": "code",
   "execution_count": 44,
   "id": "f3a41d29",
   "metadata": {
    "scrolled": true
   },
   "outputs": [
    {
     "name": "stdout",
     "output_type": "stream",
     "text": [
      "Model: \"sequential_7\"\n",
      "_________________________________________________________________\n",
      " Layer (type)                Output Shape              Param #   \n",
      "=================================================================\n",
      " conv2d_14 (Conv2D)          (None, 24, 24, 20)        520       \n",
      "                                                                 \n",
      " max_pooling2d_14 (MaxPoolin  (None, 12, 12, 20)       0         \n",
      " g2D)                                                            \n",
      "                                                                 \n",
      " conv2d_15 (Conv2D)          (None, 8, 8, 40)          20040     \n",
      "                                                                 \n",
      " max_pooling2d_15 (MaxPoolin  (None, 4, 4, 40)         0         \n",
      " g2D)                                                            \n",
      "                                                                 \n",
      " flatten_7 (Flatten)         (None, 640)               0         \n",
      "                                                                 \n",
      " dense_14 (Dense)            (None, 200)               128200    \n",
      "                                                                 \n",
      " dense_15 (Dense)            (None, 5)                 1005      \n",
      "                                                                 \n",
      "=================================================================\n",
      "Total params: 149,765\n",
      "Trainable params: 149,765\n",
      "Non-trainable params: 0\n",
      "_________________________________________________________________\n",
      "Epoch 1/30\n",
      "2/2 [==============================] - 1s 16ms/step - loss: 50.2919 - accuracy: 0.2320\n",
      "Epoch 2/30\n",
      "2/2 [==============================] - 0s 16ms/step - loss: 24.5910 - accuracy: 0.3200\n",
      "Epoch 3/30\n",
      "2/2 [==============================] - 0s 16ms/step - loss: 18.2601 - accuracy: 0.3760\n",
      "Epoch 4/30\n",
      "2/2 [==============================] - 0s 32ms/step - loss: 7.7891 - accuracy: 0.4480\n",
      "Epoch 5/30\n",
      "2/2 [==============================] - 0s 16ms/step - loss: 2.5070 - accuracy: 0.5760\n",
      "Epoch 6/30\n",
      "2/2 [==============================] - 0s 8ms/step - loss: 2.6739 - accuracy: 0.5520\n",
      "Epoch 7/30\n",
      "2/2 [==============================] - 0s 16ms/step - loss: 1.3979 - accuracy: 0.6720\n",
      "Epoch 8/30\n",
      "2/2 [==============================] - 0s 16ms/step - loss: 0.6811 - accuracy: 0.8480\n",
      "Epoch 9/30\n",
      "2/2 [==============================] - 0s 16ms/step - loss: 0.2328 - accuracy: 0.9200\n",
      "Epoch 10/30\n",
      "2/2 [==============================] - 0s 16ms/step - loss: 0.2405 - accuracy: 0.9280\n",
      "Epoch 11/30\n",
      "2/2 [==============================] - 0s 16ms/step - loss: 0.3337 - accuracy: 0.9120\n",
      "Epoch 12/30\n",
      "2/2 [==============================] - 0s 16ms/step - loss: 0.3457 - accuracy: 0.8880\n",
      "Epoch 13/30\n",
      "2/2 [==============================] - 0s 16ms/step - loss: 0.2355 - accuracy: 0.9200\n",
      "Epoch 14/30\n",
      "2/2 [==============================] - 0s 16ms/step - loss: 0.1507 - accuracy: 0.9600\n",
      "Epoch 15/30\n",
      "2/2 [==============================] - 0s 16ms/step - loss: 0.1018 - accuracy: 0.9360\n",
      "Epoch 16/30\n",
      "2/2 [==============================] - 0s 16ms/step - loss: 0.0586 - accuracy: 0.9840\n",
      "Epoch 17/30\n",
      "2/2 [==============================] - 0s 16ms/step - loss: 0.0497 - accuracy: 0.9920\n",
      "Epoch 18/30\n",
      "2/2 [==============================] - 0s 8ms/step - loss: 0.0374 - accuracy: 0.9920\n",
      "Epoch 19/30\n",
      "2/2 [==============================] - 0s 16ms/step - loss: 0.0407 - accuracy: 0.9920\n",
      "Epoch 20/30\n",
      "2/2 [==============================] - 0s 8ms/step - loss: 0.0261 - accuracy: 1.0000\n",
      "Epoch 21/30\n",
      "2/2 [==============================] - 0s 16ms/step - loss: 0.0376 - accuracy: 1.0000\n",
      "Epoch 22/30\n",
      "2/2 [==============================] - 0s 16ms/step - loss: 0.0263 - accuracy: 1.0000\n",
      "Epoch 23/30\n",
      "2/2 [==============================] - 0s 16ms/step - loss: 0.0246 - accuracy: 0.9920\n",
      "Epoch 24/30\n",
      "2/2 [==============================] - 0s 8ms/step - loss: 0.0167 - accuracy: 1.0000\n",
      "Epoch 25/30\n",
      "2/2 [==============================] - 0s 8ms/step - loss: 0.0253 - accuracy: 0.9920\n",
      "Epoch 26/30\n",
      "2/2 [==============================] - 0s 16ms/step - loss: 0.0128 - accuracy: 1.0000\n",
      "Epoch 27/30\n",
      "2/2 [==============================] - 0s 16ms/step - loss: 0.0361 - accuracy: 0.9920\n",
      "Epoch 28/30\n",
      "2/2 [==============================] - 0s 16ms/step - loss: 0.0155 - accuracy: 1.0000\n",
      "Epoch 29/30\n",
      "2/2 [==============================] - 0s 8ms/step - loss: 0.0124 - accuracy: 1.0000\n",
      "Epoch 30/30\n",
      "2/2 [==============================] - 0s 16ms/step - loss: 0.0284 - accuracy: 0.9920\n",
      "\n",
      "Test loss: 0.2014\n",
      "Test accuracy: 94.31 %\n",
      "Test error: 5.69 %\n",
      "141/141 [==============================] - 2s 5ms/step\n",
      "Tempo de predicao: 2.03 s\n",
      "nerro=256\n"
     ]
    }
   ],
   "source": [
    "history_1 = NN(AX_25_a, AY_25_a)"
   ]
  },
  {
   "cell_type": "code",
   "execution_count": 45,
   "id": "59766bca",
   "metadata": {},
   "outputs": [
    {
     "data": {
      "image/png": "[encoded data removed]",
      "text/plain": [
       "<Figure size 432x288 with 1 Axes>"
      ]
     },
     "metadata": {
      "needs_background": "light"
     },
     "output_type": "display_data"
    }
   ],
   "source": [
    "plt.plot(history_1.history['loss'], label='Perda')\n",
    "plt.xlabel(\"Épocas\")\n",
    "plt.ylabel(\"Loss\")\n",
    "plt.legend()\n",
    "plt.show()"
   ]
  },
  {
   "cell_type": "markdown",
   "id": "e69cc820",
   "metadata": {},
   "source": [
    "Agora para $n_a=25$ com as imagens desalinhadas."
   ]
  },
  {
   "cell_type": "code",
   "execution_count": 46,
   "id": "2bccae71",
   "metadata": {},
   "outputs": [
    {
     "name": "stdout",
     "output_type": "stream",
     "text": [
      "Model: \"sequential_8\"\n",
      "_________________________________________________________________\n",
      " Layer (type)                Output Shape              Param #   \n",
      "=================================================================\n",
      " conv2d_16 (Conv2D)          (None, 24, 24, 20)        520       \n",
      "                                                                 \n",
      " max_pooling2d_16 (MaxPoolin  (None, 12, 12, 20)       0         \n",
      " g2D)                                                            \n",
      "                                                                 \n",
      " conv2d_17 (Conv2D)          (None, 8, 8, 40)          20040     \n",
      "                                                                 \n",
      " max_pooling2d_17 (MaxPoolin  (None, 4, 4, 40)         0         \n",
      " g2D)                                                            \n",
      "                                                                 \n",
      " flatten_8 (Flatten)         (None, 640)               0         \n",
      "                                                                 \n",
      " dense_16 (Dense)            (None, 200)               128200    \n",
      "                                                                 \n",
      " dense_17 (Dense)            (None, 5)                 1005      \n",
      "                                                                 \n",
      "=================================================================\n",
      "Total params: 149,765\n",
      "Trainable params: 149,765\n",
      "Non-trainable params: 0\n",
      "_________________________________________________________________\n",
      "Epoch 1/30\n",
      "2/2 [==============================] - 1s 16ms/step - loss: 46.2792 - accuracy: 0.2080\n",
      "Epoch 2/30\n",
      "2/2 [==============================] - 0s 8ms/step - loss: 49.4824 - accuracy: 0.2640\n",
      "Epoch 3/30\n",
      "2/2 [==============================] - 0s 16ms/step - loss: 58.0944 - accuracy: 0.2560\n",
      "Epoch 4/30\n",
      "2/2 [==============================] - 0s 8ms/step - loss: 33.5908 - accuracy: 0.2960\n",
      "Epoch 5/30\n",
      "2/2 [==============================] - 0s 24ms/step - loss: 11.8238 - accuracy: 0.3440\n",
      "Epoch 6/30\n",
      "2/2 [==============================] - 0s 16ms/step - loss: 5.2818 - accuracy: 0.3680\n",
      "Epoch 7/30\n",
      "2/2 [==============================] - 0s 16ms/step - loss: 3.6762 - accuracy: 0.4000\n",
      "Epoch 8/30\n",
      "2/2 [==============================] - 0s 16ms/step - loss: 4.0748 - accuracy: 0.3520\n",
      "Epoch 9/30\n",
      "2/2 [==============================] - 0s 16ms/step - loss: 2.3871 - accuracy: 0.4960\n",
      "Epoch 10/30\n",
      "2/2 [==============================] - 0s 16ms/step - loss: 1.1849 - accuracy: 0.6320\n",
      "Epoch 11/30\n",
      "2/2 [==============================] - 0s 8ms/step - loss: 1.0184 - accuracy: 0.6320\n",
      "Epoch 12/30\n",
      "2/2 [==============================] - 0s 16ms/step - loss: 1.2241 - accuracy: 0.6880\n",
      "Epoch 13/30\n",
      "2/2 [==============================] - 0s 8ms/step - loss: 1.1144 - accuracy: 0.6640\n",
      "Epoch 14/30\n",
      "2/2 [==============================] - 0s 8ms/step - loss: 0.7068 - accuracy: 0.7040\n",
      "Epoch 15/30\n",
      "2/2 [==============================] - 0s 16ms/step - loss: 0.4862 - accuracy: 0.7760\n",
      "Epoch 16/30\n",
      "2/2 [==============================] - 0s 16ms/step - loss: 0.4720 - accuracy: 0.7920\n",
      "Epoch 17/30\n",
      "2/2 [==============================] - 0s 16ms/step - loss: 0.4268 - accuracy: 0.8240\n",
      "Epoch 18/30\n",
      "2/2 [==============================] - 0s 16ms/step - loss: 0.3353 - accuracy: 0.8640\n",
      "Epoch 19/30\n",
      "2/2 [==============================] - 0s 16ms/step - loss: 0.2701 - accuracy: 0.8880\n",
      "Epoch 20/30\n",
      "2/2 [==============================] - 0s 16ms/step - loss: 0.2385 - accuracy: 0.9120\n",
      "Epoch 21/30\n",
      "2/2 [==============================] - 0s 16ms/step - loss: 0.1906 - accuracy: 0.9520\n",
      "Epoch 22/30\n",
      "2/2 [==============================] - 0s 16ms/step - loss: 0.1520 - accuracy: 0.9680\n",
      "Epoch 23/30\n",
      "2/2 [==============================] - 0s 8ms/step - loss: 0.1258 - accuracy: 0.9840\n",
      "Epoch 24/30\n",
      "2/2 [==============================] - 0s 8ms/step - loss: 0.1033 - accuracy: 1.0000\n",
      "Epoch 25/30\n",
      "2/2 [==============================] - 0s 16ms/step - loss: 0.0901 - accuracy: 1.0000\n",
      "Epoch 26/30\n",
      "2/2 [==============================] - 0s 16ms/step - loss: 0.0833 - accuracy: 0.9920\n",
      "Epoch 27/30\n",
      "2/2 [==============================] - 0s 16ms/step - loss: 0.0783 - accuracy: 0.9920\n",
      "Epoch 28/30\n",
      "2/2 [==============================] - 0s 16ms/step - loss: 0.0701 - accuracy: 1.0000\n",
      "Epoch 29/30\n",
      "2/2 [==============================] - 0s 8ms/step - loss: 0.0603 - accuracy: 1.0000\n",
      "Epoch 30/30\n",
      "2/2 [==============================] - 0s 16ms/step - loss: 0.0528 - accuracy: 1.0000\n",
      "\n",
      "Test loss: 0.2762\n",
      "Test accuracy: 89.29 %\n",
      "Test error: 10.71 %\n",
      "141/141 [==============================] - 1s 5ms/step\n",
      "Tempo de predicao: 0.97 s\n",
      "nerro=482\n"
     ]
    }
   ],
   "source": [
    "history_2 = NN(AX_25_d, AY_25_d)"
   ]
  },
  {
   "cell_type": "code",
   "execution_count": 47,
   "id": "6c89ab1d",
   "metadata": {
    "scrolled": true
   },
   "outputs": [
    {
     "data": {
      "image/png": "[encoded data removed]",
      "text/plain": [
       "<Figure size 432x288 with 1 Axes>"
      ]
     },
     "metadata": {
      "needs_background": "light"
     },
     "output_type": "display_data"
    }
   ],
   "source": [
    "plt.plot(history_2.history['loss'], label='Perda')\n",
    "plt.xlabel(\"Épocas\")\n",
    "plt.ylabel(\"Loss\")\n",
    "plt.legend()\n",
    "plt.show()"
   ]
  },
  {
   "cell_type": "markdown",
   "id": "0c70662d",
   "metadata": {},
   "source": [
    "Para $n_a=50$ com as imagens alinhadas:"
   ]
  },
  {
   "cell_type": "code",
   "execution_count": 48,
   "id": "0ca6db24",
   "metadata": {},
   "outputs": [
    {
     "name": "stdout",
     "output_type": "stream",
     "text": [
      "Model: \"sequential_9\"\n",
      "_________________________________________________________________\n",
      " Layer (type)                Output Shape              Param #   \n",
      "=================================================================\n",
      " conv2d_18 (Conv2D)          (None, 24, 24, 20)        520       \n",
      "                                                                 \n",
      " max_pooling2d_18 (MaxPoolin  (None, 12, 12, 20)       0         \n",
      " g2D)                                                            \n",
      "                                                                 \n",
      " conv2d_19 (Conv2D)          (None, 8, 8, 40)          20040     \n",
      "                                                                 \n",
      " max_pooling2d_19 (MaxPoolin  (None, 4, 4, 40)         0         \n",
      " g2D)                                                            \n",
      "                                                                 \n",
      " flatten_9 (Flatten)         (None, 640)               0         \n",
      "                                                                 \n",
      " dense_18 (Dense)            (None, 200)               128200    \n",
      "                                                                 \n",
      " dense_19 (Dense)            (None, 5)                 1005      \n",
      "                                                                 \n",
      "=================================================================\n",
      "Total params: 149,765\n",
      "Trainable params: 149,765\n",
      "Non-trainable params: 0\n",
      "_________________________________________________________________\n",
      "Epoch 1/30\n",
      "3/3 [==============================] - 1s 32ms/step - loss: 60.2313 - accuracy: 0.2040\n",
      "Epoch 2/30\n",
      "3/3 [==============================] - 0s 24ms/step - loss: 32.6584 - accuracy: 0.2640\n",
      "Epoch 3/30\n",
      "3/3 [==============================] - 0s 24ms/step - loss: 7.4606 - accuracy: 0.4440\n",
      "Epoch 4/30\n",
      "3/3 [==============================] - 0s 32ms/step - loss: 5.9970 - accuracy: 0.5280\n",
      "Epoch 5/30\n",
      "3/3 [==============================] - 0s 32ms/step - loss: 3.6521 - accuracy: 0.7600\n",
      "Epoch 6/30\n",
      "3/3 [==============================] - 0s 28ms/step - loss: 0.8949 - accuracy: 0.7920\n",
      "Epoch 7/30\n",
      "3/3 [==============================] - 0s 28ms/step - loss: 1.5344 - accuracy: 0.7880\n",
      "Epoch 8/30\n",
      "3/3 [==============================] - 0s 36ms/step - loss: 0.6761 - accuracy: 0.7720\n",
      "Epoch 9/30\n",
      "3/3 [==============================] - 0s 28ms/step - loss: 0.4584 - accuracy: 0.8400\n",
      "Epoch 10/30\n",
      "3/3 [==============================] - 0s 24ms/step - loss: 0.3088 - accuracy: 0.8720\n",
      "Epoch 11/30\n",
      "3/3 [==============================] - 0s 28ms/step - loss: 0.2645 - accuracy: 0.8880\n",
      "Epoch 12/30\n",
      "3/3 [==============================] - 0s 32ms/step - loss: 0.1169 - accuracy: 0.9520\n",
      "Epoch 13/30\n",
      "3/3 [==============================] - 0s 24ms/step - loss: 0.0949 - accuracy: 0.9520\n",
      "Epoch 14/30\n",
      "3/3 [==============================] - 0s 28ms/step - loss: 0.0865 - accuracy: 0.9640\n",
      "Epoch 15/30\n",
      "3/3 [==============================] - 0s 32ms/step - loss: 0.0862 - accuracy: 0.9680\n",
      "Epoch 16/30\n",
      "3/3 [==============================] - 0s 28ms/step - loss: 0.0710 - accuracy: 0.9720\n",
      "Epoch 17/30\n",
      "3/3 [==============================] - 0s 28ms/step - loss: 0.0638 - accuracy: 0.9800\n",
      "Epoch 18/30\n",
      "3/3 [==============================] - 0s 32ms/step - loss: 0.0500 - accuracy: 0.9800\n",
      "Epoch 19/30\n",
      "3/3 [==============================] - 0s 28ms/step - loss: 0.0546 - accuracy: 0.9720\n",
      "Epoch 20/30\n",
      "3/3 [==============================] - 0s 24ms/step - loss: 0.0433 - accuracy: 0.9800\n",
      "Epoch 21/30\n",
      "3/3 [==============================] - 0s 28ms/step - loss: 0.0427 - accuracy: 0.9920\n",
      "Epoch 22/30\n",
      "3/3 [==============================] - 0s 32ms/step - loss: 0.0388 - accuracy: 0.9920\n",
      "Epoch 23/30\n",
      "3/3 [==============================] - 0s 32ms/step - loss: 0.0358 - accuracy: 0.9880\n",
      "Epoch 24/30\n",
      "3/3 [==============================] - 0s 28ms/step - loss: 0.0327 - accuracy: 0.9920\n",
      "Epoch 25/30\n",
      "3/3 [==============================] - 0s 32ms/step - loss: 0.0294 - accuracy: 0.9960\n",
      "Epoch 26/30\n",
      "3/3 [==============================] - 0s 28ms/step - loss: 0.0294 - accuracy: 0.9960\n",
      "Epoch 27/30\n",
      "3/3 [==============================] - 0s 28ms/step - loss: 0.0261 - accuracy: 0.9960\n",
      "Epoch 28/30\n",
      "3/3 [==============================] - 0s 24ms/step - loss: 0.0245 - accuracy: 0.9960\n",
      "Epoch 29/30\n",
      "3/3 [==============================] - 0s 32ms/step - loss: 0.0230 - accuracy: 0.9960\n",
      "Epoch 30/30\n",
      "3/3 [==============================] - 0s 28ms/step - loss: 0.0222 - accuracy: 0.9960\n",
      "\n",
      "Test loss: 0.0724\n",
      "Test accuracy: 97.47 %\n",
      "Test error: 2.53 %\n",
      "141/141 [==============================] - 1s 5ms/step\n",
      "Tempo de predicao: 0.86 s\n",
      "nerro=114\n"
     ]
    }
   ],
   "source": [
    "history_3 = NN(AX_50_a, AY_50_a)"
   ]
  },
  {
   "cell_type": "code",
   "execution_count": 49,
   "id": "45b52836",
   "metadata": {},
   "outputs": [
    {
     "data": {
      "image/png": "[encoded data removed]",
      "text/plain": [
       "<Figure size 432x288 with 1 Axes>"
      ]
     },
     "metadata": {
      "needs_background": "light"
     },
     "output_type": "display_data"
    }
   ],
   "source": [
    "plt.plot(history_3.history['loss'], label='Perda')\n",
    "plt.xlabel(\"Épocas\")\n",
    "plt.ylabel(\"Loss\")\n",
    "plt.legend()\n",
    "plt.show()"
   ]
  },
  {
   "cell_type": "markdown",
   "id": "75909808",
   "metadata": {},
   "source": [
    "Para $n_a = 50$ com as imagens desalinhadas."
   ]
  },
  {
   "cell_type": "code",
   "execution_count": 50,
   "id": "50a928df",
   "metadata": {},
   "outputs": [
    {
     "name": "stdout",
     "output_type": "stream",
     "text": [
      "Model: \"sequential_10\"\n",
      "_________________________________________________________________\n",
      " Layer (type)                Output Shape              Param #   \n",
      "=================================================================\n",
      " conv2d_20 (Conv2D)          (None, 24, 24, 20)        520       \n",
      "                                                                 \n",
      " max_pooling2d_20 (MaxPoolin  (None, 12, 12, 20)       0         \n",
      " g2D)                                                            \n",
      "                                                                 \n",
      " conv2d_21 (Conv2D)          (None, 8, 8, 40)          20040     \n",
      "                                                                 \n",
      " max_pooling2d_21 (MaxPoolin  (None, 4, 4, 40)         0         \n",
      " g2D)                                                            \n",
      "                                                                 \n",
      " flatten_10 (Flatten)        (None, 640)               0         \n",
      "                                                                 \n",
      " dense_20 (Dense)            (None, 200)               128200    \n",
      "                                                                 \n",
      " dense_21 (Dense)            (None, 5)                 1005      \n",
      "                                                                 \n",
      "=================================================================\n",
      "Total params: 149,765\n",
      "Trainable params: 149,765\n",
      "Non-trainable params: 0\n",
      "_________________________________________________________________\n",
      "Epoch 1/30\n",
      "3/3 [==============================] - 1s 28ms/step - loss: 34.7333 - accuracy: 0.2520\n",
      "Epoch 2/30\n",
      "3/3 [==============================] - 0s 24ms/step - loss: 24.4066 - accuracy: 0.3560\n",
      "Epoch 3/30\n",
      "3/3 [==============================] - 0s 24ms/step - loss: 9.4698 - accuracy: 0.5160\n",
      "Epoch 4/30\n",
      "3/3 [==============================] - 0s 32ms/step - loss: 3.3064 - accuracy: 0.4720\n",
      "Epoch 5/30\n",
      "3/3 [==============================] - 0s 32ms/step - loss: 3.0552 - accuracy: 0.5320\n",
      "Epoch 6/30\n",
      "3/3 [==============================] - 0s 28ms/step - loss: 1.0698 - accuracy: 0.6840\n",
      "Epoch 7/30\n",
      "3/3 [==============================] - 0s 24ms/step - loss: 1.3582 - accuracy: 0.6400\n",
      "Epoch 8/30\n",
      "3/3 [==============================] - 0s 28ms/step - loss: 0.5578 - accuracy: 0.7720\n",
      "Epoch 9/30\n",
      "3/3 [==============================] - 0s 32ms/step - loss: 0.6393 - accuracy: 0.7280\n",
      "Epoch 10/30\n",
      "3/3 [==============================] - 0s 28ms/step - loss: 0.4029 - accuracy: 0.8440\n",
      "Epoch 11/30\n",
      "3/3 [==============================] - 0s 28ms/step - loss: 0.2832 - accuracy: 0.8880\n",
      "Epoch 12/30\n",
      "3/3 [==============================] - 0s 28ms/step - loss: 0.3102 - accuracy: 0.8640\n",
      "Epoch 13/30\n",
      "3/3 [==============================] - 0s 28ms/step - loss: 0.2017 - accuracy: 0.9120\n",
      "Epoch 14/30\n",
      "3/3 [==============================] - 0s 24ms/step - loss: 0.1557 - accuracy: 0.9480\n",
      "Epoch 15/30\n",
      "3/3 [==============================] - 0s 24ms/step - loss: 0.1292 - accuracy: 0.9600\n",
      "Epoch 16/30\n",
      "3/3 [==============================] - 0s 28ms/step - loss: 0.1180 - accuracy: 0.9640\n",
      "Epoch 17/30\n",
      "3/3 [==============================] - 0s 28ms/step - loss: 0.0996 - accuracy: 0.9760\n",
      "Epoch 18/30\n",
      "3/3 [==============================] - 0s 32ms/step - loss: 0.0733 - accuracy: 0.9920\n",
      "Epoch 19/30\n",
      "3/3 [==============================] - 0s 28ms/step - loss: 0.0672 - accuracy: 0.9960\n",
      "Epoch 20/30\n",
      "3/3 [==============================] - 0s 28ms/step - loss: 0.0598 - accuracy: 1.0000\n",
      "Epoch 21/30\n",
      "3/3 [==============================] - 0s 28ms/step - loss: 0.0493 - accuracy: 1.0000\n",
      "Epoch 22/30\n",
      "3/3 [==============================] - 0s 24ms/step - loss: 0.0457 - accuracy: 0.9960\n",
      "Epoch 23/30\n",
      "3/3 [==============================] - 0s 24ms/step - loss: 0.0407 - accuracy: 1.0000\n",
      "Epoch 24/30\n",
      "3/3 [==============================] - 0s 28ms/step - loss: 0.0352 - accuracy: 1.0000\n",
      "Epoch 25/30\n",
      "3/3 [==============================] - 0s 24ms/step - loss: 0.0327 - accuracy: 1.0000\n",
      "Epoch 26/30\n",
      "3/3 [==============================] - 0s 28ms/step - loss: 0.0298 - accuracy: 1.0000\n",
      "Epoch 27/30\n",
      "3/3 [==============================] - 0s 24ms/step - loss: 0.0268 - accuracy: 1.0000\n",
      "Epoch 28/30\n",
      "3/3 [==============================] - 0s 24ms/step - loss: 0.0255 - accuracy: 1.0000\n",
      "Epoch 29/30\n",
      "3/3 [==============================] - 0s 24ms/step - loss: 0.0234 - accuracy: 1.0000\n",
      "Epoch 30/30\n",
      "3/3 [==============================] - 0s 24ms/step - loss: 0.0212 - accuracy: 1.0000\n",
      "\n",
      "Test loss: 0.1399\n",
      "Test accuracy: 95.84 %\n",
      "Test error: 4.16 %\n",
      "141/141 [==============================] - 1s 5ms/step\n",
      "Tempo de predicao: 0.81 s\n",
      "nerro=187\n"
     ]
    }
   ],
   "source": [
    "history_4 = NN(AX_50_d, AY_50_d)"
   ]
  },
  {
   "cell_type": "code",
   "execution_count": 51,
   "id": "3ce51eae",
   "metadata": {},
   "outputs": [
    {
     "data": {
      "image/png": "[encoded data removed]",
      "text/plain": [
       "<Figure size 432x288 with 1 Axes>"
      ]
     },
     "metadata": {
      "needs_background": "light"
     },
     "output_type": "display_data"
    }
   ],
   "source": [
    "plt.plot(history_4.history['loss'], label='Perda')\n",
    "plt.xlabel(\"Épocas\")\n",
    "plt.ylabel(\"Loss\")\n",
    "plt.legend()\n",
    "plt.show()"
   ]
  },
  {
   "cell_type": "markdown",
   "id": "e712d5fd",
   "metadata": {},
   "source": [
    "Por fim, vamos realizar o treinamento com $n_a = 100$, primeiramente com as imagens alinhadas."
   ]
  },
  {
   "cell_type": "code",
   "execution_count": 52,
   "id": "0f4c8ced",
   "metadata": {},
   "outputs": [
    {
     "name": "stdout",
     "output_type": "stream",
     "text": [
      "Model: \"sequential_11\"\n",
      "_________________________________________________________________\n",
      " Layer (type)                Output Shape              Param #   \n",
      "=================================================================\n",
      " conv2d_22 (Conv2D)          (None, 24, 24, 20)        520       \n",
      "                                                                 \n",
      " max_pooling2d_22 (MaxPoolin  (None, 12, 12, 20)       0         \n",
      " g2D)                                                            \n",
      "                                                                 \n",
      " conv2d_23 (Conv2D)          (None, 8, 8, 40)          20040     \n",
      "                                                                 \n",
      " max_pooling2d_23 (MaxPoolin  (None, 4, 4, 40)         0         \n",
      " g2D)                                                            \n",
      "                                                                 \n",
      " flatten_11 (Flatten)        (None, 640)               0         \n",
      "                                                                 \n",
      " dense_22 (Dense)            (None, 200)               128200    \n",
      "                                                                 \n",
      " dense_23 (Dense)            (None, 5)                 1005      \n",
      "                                                                 \n",
      "=================================================================\n",
      "Total params: 149,765\n",
      "Trainable params: 149,765\n",
      "Non-trainable params: 0\n",
      "_________________________________________________________________\n",
      "Epoch 1/30\n",
      "5/5 [==============================] - 1s 32ms/step - loss: 24.2537 - accuracy: 0.3880\n",
      "Epoch 2/30\n",
      "5/5 [==============================] - 0s 32ms/step - loss: 5.3073 - accuracy: 0.6060\n",
      "Epoch 3/30\n",
      "5/5 [==============================] - 0s 34ms/step - loss: 1.5329 - accuracy: 0.6880\n",
      "Epoch 4/30\n",
      "5/5 [==============================] - 0s 32ms/step - loss: 0.4866 - accuracy: 0.8100\n",
      "Epoch 5/30\n",
      "5/5 [==============================] - 0s 30ms/step - loss: 0.2489 - accuracy: 0.9220\n",
      "Epoch 6/30\n",
      "5/5 [==============================] - 0s 32ms/step - loss: 0.1246 - accuracy: 0.9540\n",
      "Epoch 7/30\n",
      "5/5 [==============================] - 0s 30ms/step - loss: 0.0829 - accuracy: 0.9780\n",
      "Epoch 8/30\n",
      "5/5 [==============================] - 0s 32ms/step - loss: 0.0753 - accuracy: 0.9740\n",
      "Epoch 9/30\n",
      "5/5 [==============================] - 0s 32ms/step - loss: 0.0619 - accuracy: 0.9800\n",
      "Epoch 10/30\n",
      "5/5 [==============================] - 0s 32ms/step - loss: 0.0497 - accuracy: 0.9860\n",
      "Epoch 11/30\n",
      "5/5 [==============================] - 0s 30ms/step - loss: 0.0389 - accuracy: 0.9860\n",
      "Epoch 12/30\n",
      "5/5 [==============================] - 0s 34ms/step - loss: 0.0409 - accuracy: 0.9800\n",
      "Epoch 13/30\n",
      "5/5 [==============================] - 0s 34ms/step - loss: 0.0327 - accuracy: 0.9880\n",
      "Epoch 14/30\n",
      "5/5 [==============================] - 0s 32ms/step - loss: 0.0274 - accuracy: 0.9920\n",
      "Epoch 15/30\n",
      "5/5 [==============================] - 0s 32ms/step - loss: 0.0216 - accuracy: 0.9960\n",
      "Epoch 16/30\n",
      "5/5 [==============================] - 0s 34ms/step - loss: 0.0168 - accuracy: 0.9960\n",
      "Epoch 17/30\n",
      "5/5 [==============================] - 0s 30ms/step - loss: 0.0151 - accuracy: 0.9980\n",
      "Epoch 18/30\n",
      "5/5 [==============================] - 0s 30ms/step - loss: 0.0118 - accuracy: 1.0000\n",
      "Epoch 19/30\n",
      "5/5 [==============================] - 0s 30ms/step - loss: 0.0119 - accuracy: 1.0000\n",
      "Epoch 20/30\n",
      "5/5 [==============================] - 0s 30ms/step - loss: 0.0096 - accuracy: 1.0000\n",
      "Epoch 21/30\n",
      "5/5 [==============================] - 0s 30ms/step - loss: 0.0095 - accuracy: 1.0000\n",
      "Epoch 22/30\n",
      "5/5 [==============================] - 0s 34ms/step - loss: 0.0081 - accuracy: 1.0000\n",
      "Epoch 23/30\n",
      "5/5 [==============================] - 0s 34ms/step - loss: 0.0077 - accuracy: 1.0000\n",
      "Epoch 24/30\n",
      "5/5 [==============================] - 0s 32ms/step - loss: 0.0072 - accuracy: 1.0000\n",
      "Epoch 25/30\n",
      "5/5 [==============================] - 0s 32ms/step - loss: 0.0066 - accuracy: 1.0000\n",
      "Epoch 26/30\n",
      "5/5 [==============================] - 0s 36ms/step - loss: 0.0060 - accuracy: 1.0000\n",
      "Epoch 27/30\n",
      "5/5 [==============================] - 0s 32ms/step - loss: 0.0056 - accuracy: 1.0000\n",
      "Epoch 28/30\n",
      "5/5 [==============================] - 0s 32ms/step - loss: 0.0054 - accuracy: 1.0000\n",
      "Epoch 29/30\n",
      "5/5 [==============================] - 0s 32ms/step - loss: 0.0050 - accuracy: 1.0000\n",
      "Epoch 30/30\n",
      "5/5 [==============================] - 0s 30ms/step - loss: 0.0048 - accuracy: 1.0000\n",
      "\n",
      "Test loss: 0.0621\n",
      "Test accuracy: 98.02 %\n",
      "Test error: 1.98 %\n",
      "141/141 [==============================] - 1s 5ms/step\n",
      "Tempo de predicao: 1.00 s\n",
      "nerro=89\n"
     ]
    }
   ],
   "source": [
    "history_5 = NN(AX_100_a, AY_100_a)"
   ]
  },
  {
   "cell_type": "code",
   "execution_count": 53,
   "id": "f86531e5",
   "metadata": {},
   "outputs": [
    {
     "data": {
      "image/png": "[encoded data removed]",
      "text/plain": [
       "<Figure size 432x288 with 1 Axes>"
      ]
     },
     "metadata": {
      "needs_background": "light"
     },
     "output_type": "display_data"
    }
   ],
   "source": [
    "plt.plot(history_5.history['loss'], label='Perda')\n",
    "plt.xlabel(\"Épocas\")\n",
    "plt.ylabel(\"Loss\")\n",
    "plt.legend()\n",
    "plt.show()"
   ]
  },
  {
   "cell_type": "markdown",
   "id": "cce140c6",
   "metadata": {},
   "source": [
    "Por último $n_a = 100$ com as imagens desalinhadas."
   ]
  },
  {
   "cell_type": "code",
   "execution_count": 54,
   "id": "bd4e6565",
   "metadata": {},
   "outputs": [
    {
     "name": "stdout",
     "output_type": "stream",
     "text": [
      "Model: \"sequential_12\"\n",
      "_________________________________________________________________\n",
      " Layer (type)                Output Shape              Param #   \n",
      "=================================================================\n",
      " conv2d_24 (Conv2D)          (None, 24, 24, 20)        520       \n",
      "                                                                 \n",
      " max_pooling2d_24 (MaxPoolin  (None, 12, 12, 20)       0         \n",
      " g2D)                                                            \n",
      "                                                                 \n",
      " conv2d_25 (Conv2D)          (None, 8, 8, 40)          20040     \n",
      "                                                                 \n",
      " max_pooling2d_25 (MaxPoolin  (None, 4, 4, 40)         0         \n",
      " g2D)                                                            \n",
      "                                                                 \n",
      " flatten_12 (Flatten)        (None, 640)               0         \n",
      "                                                                 \n",
      " dense_24 (Dense)            (None, 200)               128200    \n",
      "                                                                 \n",
      " dense_25 (Dense)            (None, 5)                 1005      \n",
      "                                                                 \n",
      "=================================================================\n",
      "Total params: 149,765\n",
      "Trainable params: 149,765\n",
      "Non-trainable params: 0\n",
      "_________________________________________________________________\n",
      "Epoch 1/30\n",
      "5/5 [==============================] - 1s 32ms/step - loss: 49.1425 - accuracy: 0.2520\n",
      "Epoch 2/30\n",
      "5/5 [==============================] - 0s 34ms/step - loss: 17.1919 - accuracy: 0.2860\n",
      "Epoch 3/30\n",
      "5/5 [==============================] - 0s 34ms/step - loss: 5.0627 - accuracy: 0.3480\n",
      "Epoch 4/30\n",
      "5/5 [==============================] - 0s 36ms/step - loss: 1.7613 - accuracy: 0.5180\n",
      "Epoch 5/30\n",
      "5/5 [==============================] - 0s 36ms/step - loss: 1.3602 - accuracy: 0.6260\n",
      "Epoch 6/30\n",
      "5/5 [==============================] - 0s 36ms/step - loss: 0.7895 - accuracy: 0.7180\n",
      "Epoch 7/30\n",
      "5/5 [==============================] - 0s 36ms/step - loss: 0.5291 - accuracy: 0.7900\n",
      "Epoch 8/30\n",
      "5/5 [==============================] - 0s 32ms/step - loss: 0.3905 - accuracy: 0.8620\n",
      "Epoch 9/30\n",
      "5/5 [==============================] - 0s 38ms/step - loss: 0.2951 - accuracy: 0.8680\n",
      "Epoch 10/30\n",
      "5/5 [==============================] - 0s 38ms/step - loss: 0.2072 - accuracy: 0.9140\n",
      "Epoch 11/30\n",
      "5/5 [==============================] - 0s 34ms/step - loss: 0.1548 - accuracy: 0.9620\n",
      "Epoch 12/30\n",
      "5/5 [==============================] - 0s 34ms/step - loss: 0.1129 - accuracy: 0.9760\n",
      "Epoch 13/30\n",
      "5/5 [==============================] - 0s 32ms/step - loss: 0.0928 - accuracy: 0.9840\n",
      "Epoch 14/30\n",
      "5/5 [==============================] - 0s 32ms/step - loss: 0.0711 - accuracy: 0.9860\n",
      "Epoch 15/30\n",
      "5/5 [==============================] - 0s 32ms/step - loss: 0.0594 - accuracy: 0.9900\n",
      "Epoch 16/30\n",
      "5/5 [==============================] - 0s 32ms/step - loss: 0.0505 - accuracy: 0.9900\n",
      "Epoch 17/30\n",
      "5/5 [==============================] - 0s 32ms/step - loss: 0.0435 - accuracy: 0.9900\n",
      "Epoch 18/30\n",
      "5/5 [==============================] - 0s 36ms/step - loss: 0.0363 - accuracy: 0.9980\n",
      "Epoch 19/30\n",
      "5/5 [==============================] - 0s 30ms/step - loss: 0.0312 - accuracy: 1.0000\n",
      "Epoch 20/30\n",
      "5/5 [==============================] - 0s 32ms/step - loss: 0.0286 - accuracy: 0.9980\n",
      "Epoch 21/30\n",
      "5/5 [==============================] - 0s 30ms/step - loss: 0.0254 - accuracy: 1.0000\n",
      "Epoch 22/30\n",
      "5/5 [==============================] - 0s 32ms/step - loss: 0.0228 - accuracy: 1.0000\n",
      "Epoch 23/30\n",
      "5/5 [==============================] - 0s 30ms/step - loss: 0.0203 - accuracy: 1.0000\n",
      "Epoch 24/30\n",
      "5/5 [==============================] - 0s 32ms/step - loss: 0.0181 - accuracy: 1.0000\n",
      "Epoch 25/30\n",
      "5/5 [==============================] - 0s 32ms/step - loss: 0.0165 - accuracy: 1.0000\n",
      "Epoch 26/30\n",
      "5/5 [==============================] - 0s 32ms/step - loss: 0.0151 - accuracy: 1.0000\n",
      "Epoch 27/30\n",
      "5/5 [==============================] - 0s 30ms/step - loss: 0.0139 - accuracy: 1.0000\n",
      "Epoch 28/30\n",
      "5/5 [==============================] - 0s 32ms/step - loss: 0.0127 - accuracy: 1.0000\n",
      "Epoch 29/30\n",
      "5/5 [==============================] - 0s 34ms/step - loss: 0.0118 - accuracy: 1.0000\n",
      "Epoch 30/30\n",
      "5/5 [==============================] - 0s 34ms/step - loss: 0.0112 - accuracy: 1.0000\n",
      "\n",
      "Test loss: 0.1598\n",
      "Test accuracy: 93.87 %\n",
      "Test error: 6.13 %\n",
      "141/141 [==============================] - 1s 6ms/step\n",
      "Tempo de predicao: 0.98 s\n",
      "nerro=276\n"
     ]
    }
   ],
   "source": [
    "history_6 = NN(AX_100_d, AY_100_d)"
   ]
  },
  {
   "cell_type": "code",
   "execution_count": 55,
   "id": "7885787a",
   "metadata": {},
   "outputs": [
    {
     "data": {
      "image/png": "[encoded data removed]",
      "text/plain": [
       "<Figure size 432x288 with 1 Axes>"
      ]
     },
     "metadata": {
      "needs_background": "light"
     },
     "output_type": "display_data"
    }
   ],
   "source": [
    "plt.plot(history_6.history['loss'], label='Perda')\n",
    "plt.xlabel(\"Épocas\")\n",
    "plt.ylabel(\"Loss\")\n",
    "plt.legend()\n",
    "plt.show()"
   ]
  },
  {
   "cell_type": "markdown",
   "id": "5863973e",
   "metadata": {},
   "source": [
    "Colocando os valores da acurácia dos testes em uma tabela para ser possível observar ao todo os resultados."
   ]
  },
  {
   "cell_type": "markdown",
   "id": "605c0969",
   "metadata": {},
   "source": [
    "$n_a$   | Alinhado  | Desalinhado\n",
    "--------- | ----------- |----------    \n",
    "25  | 96,51%      |  94,47% \n",
    "50  | 97,87%      |  92,16%\n",
    "100 | 98,20%      |  93,24%"
   ]
  },
  {
   "cell_type": "markdown",
   "id": "7f5886c2",
   "metadata": {},
   "source": [
    "Como podemos observar, foi possível obter uma acurácia bem maior com as imagens alinhadas horizontalmente em comparação com as imagens diretas do dataset."
   ]
  },
  {
   "cell_type": "code",
   "execution_count": null,
   "id": "a5815771",
   "metadata": {},
   "outputs": [],
   "source": []
  }
 ],
 "metadata": {
  "kernelspec": {
   "display_name": "Python 3 (ipykernel)",
   "language": "python",
   "name": "python3"
  },
  "language_info": {
   "codemirror_mode": {
    "name": "ipython",
    "version": 3
   },
   "file_extension": ".py",
   "mimetype": "text/x-python",
   "name": "python",
   "nbconvert_exporter": "python",
   "pygments_lexer": "ipython3",
   "version": "3.9.12"
  },
  "vscode": {
   "interpreter": {
    "hash": "ba04bcace5c0b76cd7ce4d844300973fc4ac7ef9ba95de7950c6b16bd7937221"
   }
  }
 },
 "nbformat": 4,
 "nbformat_minor": 5
}
