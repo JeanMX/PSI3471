{
 "cells": [
  {
   "cell_type": "code",
   "execution_count": 2,
   "id": "511f2fdc",
   "metadata": {},
   "outputs": [],
   "source": [
    "import pandas as pd\n",
    "import numpy as np\n",
    "import cv2\n",
    "import math"
   ]
  },
  {
   "cell_type": "code",
   "execution_count": 3,
   "id": "afe07853",
   "metadata": {},
   "outputs": [],
   "source": [
    "def findCenterAndOrientation(src):\n",
    "    M = cv2.moments(src)\n",
    "    cen_x = M[\"m10\"]/M[\"m00\"];\n",
    "    cen_y = M[\"m01\"]/M[\"m00\"];\n",
    "    theta = 0.5 * math.atan2( 2*M[\"mu11\"], M[\"mu20\"]-M[\"mu02\"]);\n",
    "    \n",
    "    return cen_x, cen_y, theta"
   ]
  },
  {
   "cell_type": "code",
   "execution_count": 4,
   "id": "a9df72bc",
   "metadata": {},
   "outputs": [],
   "source": [
    "img = cv2.imread('Arborio (2).jpg', 0)"
   ]
  },
  {
   "cell_type": "code",
   "execution_count": 5,
   "id": "e09a3b22",
   "metadata": {},
   "outputs": [
    {
     "data": {
      "image/jpeg": "[encoded data removed]",
      "text/plain": [
       "<IPython.core.display.Image object>"
      ]
     },
     "execution_count": 5,
     "metadata": {},
     "output_type": "execute_result"
    }
   ],
   "source": [
    "from IPython.display import Image\n",
    "\n",
    "Image(filename='Arborio (2).jpg') "
   ]
  },
  {
   "cell_type": "code",
   "execution_count": 6,
   "id": "b7dc73d1",
   "metadata": {},
   "outputs": [],
   "source": [
    "x, y, theta = findCenterAndOrientation(img)\n",
    "ponto = (x,y)"
   ]
  },
  {
   "cell_type": "code",
   "execution_count": 7,
   "id": "09051e17",
   "metadata": {},
   "outputs": [],
   "source": [
    "angulo = 180*theta/math.pi\n",
    "rotacao = cv2.getRotationMatrix2D(ponto, angulo, 1.0)\n",
    "rotacionado = cv2.warpAffine(img, rotacao, (len(img[0]), len(img[1])))"
   ]
  },
  {
   "cell_type": "code",
   "execution_count": 8,
   "id": "41bf6899",
   "metadata": {},
   "outputs": [
    {
     "data": {
      "text/plain": [
       "True"
      ]
     },
     "execution_count": 8,
     "metadata": {},
     "output_type": "execute_result"
    }
   ],
   "source": [
    "cv2.imwrite('white_shape_centered.png',rotacionado)"
   ]
  },
  {
   "cell_type": "code",
   "execution_count": 9,
   "id": "03817c6e",
   "metadata": {},
   "outputs": [
    {
     "data": {
      "image/png": "[encoded data removed]",
      "text/plain": [
       "<IPython.core.display.Image object>"
      ]
     },
     "execution_count": 9,
     "metadata": {},
     "output_type": "execute_result"
    }
   ],
   "source": [
    "Image(filename='white_shape_centered.png') "
   ]
  },
  {
   "cell_type": "code",
   "execution_count": null,
   "id": "4d1e2f27",
   "metadata": {},
   "outputs": [],
   "source": []
  }
 ],
 "metadata": {
  "kernelspec": {
   "display_name": "Python 3 (ipykernel)",
   "language": "python",
   "name": "python3"
  },
  "language_info": {
   "codemirror_mode": {
    "name": "ipython",
    "version": 3
   },
   "file_extension": ".py",
   "mimetype": "text/x-python",
   "name": "python",
   "nbconvert_exporter": "python",
   "pygments_lexer": "ipython3",
   "version": "3.9.12"
  }
 },
 "nbformat": 4,
 "nbformat_minor": 5
}
